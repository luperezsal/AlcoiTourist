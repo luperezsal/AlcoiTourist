{
 "cells": [
  {
   "cell_type": "markdown",
   "id": "547b689a-63d3-47ac-8e2c-9f08c87462f0",
   "metadata": {},
   "source": [
    "# Alcoy Tourist"
   ]
  },
  {
   "cell_type": "markdown",
   "id": "fdd0be99-b8e0-4870-99c7-2c69e562b97b",
   "metadata": {},
   "source": [
    "El objetivo de este proyecto es..... (averiguar cuántos turistas se encuentran en Alcoy en base a sus redes favoritas en sus teléfonos)\n",
    "\n",
    "Este objetivo no es sencillo porque no todos los visitantes tienen activado el Wifi de su teléfono....\n",
    "\n",
    "Para lograr este objetivo analizaremos....."
   ]
  },
  {
   "cell_type": "markdown",
   "id": "8dc8d13f-4bd2-4269-9474-20252681f864",
   "metadata": {},
   "source": [
    "# Imports"
   ]
  },
  {
   "cell_type": "code",
   "execution_count": 1,
   "id": "e7aaea2e-f48e-40b4-8fc2-47398b047ac2",
   "metadata": {},
   "outputs": [],
   "source": [
    "import sweetviz as sv\n",
    "import pandas as pd"
   ]
  },
  {
   "cell_type": "markdown",
   "id": "d5638a33-29bf-4269-8370-7deeedf33796",
   "metadata": {},
   "source": [
    "# Data"
   ]
  },
  {
   "cell_type": "markdown",
   "id": "491567df-57e1-4505-a1ed-d1178e3547c4",
   "metadata": {},
   "source": [
    "## Paths definition"
   ]
  },
  {
   "cell_type": "code",
   "execution_count": 2,
   "id": "bcd11bca-0990-4b8b-86e9-b0026ef03b94",
   "metadata": {},
   "outputs": [],
   "source": [
    "DATA_PATH = 'data'\n",
    "REPORTS_PATH = 'reports/'"
   ]
  },
  {
   "cell_type": "markdown",
   "id": "ad66f1fa-8e24-4952-978d-58b280957a08",
   "metadata": {},
   "source": [
    "## Data loading"
   ]
  },
  {
   "cell_type": "markdown",
   "id": "c9e4bbc1-8289-4f4d-8640-58a69337e898",
   "metadata": {},
   "source": [
    "En este proyecto dispondremos de tres dataset:\n",
    "\n",
    "- `datosEncuesta2206`: contiene la información relativa a las encuestas realizadas a las personas que han visitado la oficina de turismo de Alcoy.\n",
    "- `datosSensorTurismo2206`: dispone de información ...\n",
    "- `ssidsAlcoi`: se trata de ...\n",
    "\n",
    "Nota: _En el conjunto de datos datos SSIDS Alcoi tenemos todas las direcciones de los puntos de conexión de la ciudad de Alocai._\n"
   ]
  },
  {
   "cell_type": "code",
   "execution_count": 3,
   "id": "4447b82a-8d27-459d-9d7a-d16c1b149016",
   "metadata": {},
   "outputs": [],
   "source": [
    "quiz_df = pd.read_csv(f\"{DATA_PATH}/datosEncuesta2206.csv\")\n",
    "sensor_df = pd.read_csv(f\"{DATA_PATH}/datosSensorTurismo2206.csv\")\n",
    "ssids_df  = pd.read_csv(f\"{DATA_PATH}/ssidsAlcoi.csv\")"
   ]
  },
  {
   "cell_type": "markdown",
   "id": "d29a73c3-03b2-4222-8cb3-913d5e3eeb5a",
   "metadata": {},
   "source": [
    "En el dataset datosSensorTurismo2206 tenemos \n",
    "\n",
    "\n",
    "De cada dispositivo, si la red a la que más se conecta no es de Alcoi es un turista.\n",
    "\n",
    "\n",
    "De este criterio saldrá un listado de MAC (dispositivos) que visitantes."
   ]
  },
  {
   "cell_type": "markdown",
   "id": "79f818d5-ca62-49aa-bffb-2c4c30d703d1",
   "metadata": {},
   "source": [
    "## Data Analyisis"
   ]
  },
  {
   "cell_type": "code",
   "execution_count": 4,
   "id": "639bd4a6-85b6-4d91-bdf1-218043875a62",
   "metadata": {
    "tags": []
   },
   "outputs": [],
   "source": [
    "# quiz_report = sv.analyze(quiz_df)\n",
    "# quiz_report.show_html(f\"{REPORTS_PATH}/Quiz.html\")\n",
    "\n",
    "# sensor_report = sv.analyze(sensor_df)\n",
    "# sensor_report.show_html(f\"{REPORTS_PATH}/Sensors.html\")\n",
    "\n",
    "# ssids_report = sv.analyze(ssids_df)\n",
    "# ssids_report.show_html(f\"{REPORTS_PATH}/SSIDs.html\")"
   ]
  },
  {
   "cell_type": "markdown",
   "id": "62d63a19-594c-4be6-b442-5dd074db4301",
   "metadata": {},
   "source": [
    "A continuación listaremos todos los dispositivos que se han conectado a alguna de las redes conocidas en Alcoy, junto a la MAC del dispositivo se mostrará el número de veces que se ha conectado desde que se empezó a recoger esta información."
   ]
  },
  {
   "cell_type": "code",
   "execution_count": 5,
   "id": "2028209c-7a5c-4088-910f-649e460e45c6",
   "metadata": {},
   "outputs": [
    {
     "data": {
      "text/html": [
       "<div>\n",
       "<style scoped>\n",
       "    .dataframe tbody tr th:only-of-type {\n",
       "        vertical-align: middle;\n",
       "    }\n",
       "\n",
       "    .dataframe tbody tr th {\n",
       "        vertical-align: top;\n",
       "    }\n",
       "\n",
       "    .dataframe thead th {\n",
       "        text-align: right;\n",
       "    }\n",
       "</style>\n",
       "<table border=\"1\" class=\"dataframe\">\n",
       "  <thead>\n",
       "    <tr style=\"text-align: right;\">\n",
       "      <th></th>\n",
       "      <th></th>\n",
       "      <th>date</th>\n",
       "    </tr>\n",
       "    <tr>\n",
       "      <th>mac</th>\n",
       "      <th>ssid</th>\n",
       "      <th></th>\n",
       "    </tr>\n",
       "  </thead>\n",
       "  <tbody>\n",
       "    <tr>\n",
       "      <th>d29675014f618f3ef3f6b75f146b4be71c513c16</th>\n",
       "      <th>cca78a1e963f3ba3443bf3e54a9aa939f73d223d</th>\n",
       "      <td>12807</td>\n",
       "    </tr>\n",
       "    <tr>\n",
       "      <th>5cbcffeab5fa9206a8c2712ef085daab688dd086</th>\n",
       "      <th>cca78a1e963f3ba3443bf3e54a9aa939f73d223d</th>\n",
       "      <td>1267</td>\n",
       "    </tr>\n",
       "    <tr>\n",
       "      <th>273a50bed34ca35e5d1987ea3b05ce765aae0e0e</th>\n",
       "      <th>917c1e46b3861300aebf9a14e47a6ec989c7ac9e</th>\n",
       "      <td>933</td>\n",
       "    </tr>\n",
       "    <tr>\n",
       "      <th>6ec65bc349733bc0e85d17294d3a9cb6d8b8bdc8</th>\n",
       "      <th>ffd2edd79fe4bac98610a2ad6892b53395e44e34</th>\n",
       "      <td>724</td>\n",
       "    </tr>\n",
       "    <tr>\n",
       "      <th>de6157c0185924febf402efa9e4c36a4cbe4cbb1</th>\n",
       "      <th>cca78a1e963f3ba3443bf3e54a9aa939f73d223d</th>\n",
       "      <td>496</td>\n",
       "    </tr>\n",
       "    <tr>\n",
       "      <th>...</th>\n",
       "      <th>...</th>\n",
       "      <td>...</td>\n",
       "    </tr>\n",
       "    <tr>\n",
       "      <th>57502713dc0b287ab0e893c8313f55598077630f</th>\n",
       "      <th>7a592c4a3d20f50b2ba09a85b67c6d2fc925664b</th>\n",
       "      <td>1</td>\n",
       "    </tr>\n",
       "    <tr>\n",
       "      <th>5751a0c6507a8accd8a13005b6976d663db69bad</th>\n",
       "      <th>7a592c4a3d20f50b2ba09a85b67c6d2fc925664b</th>\n",
       "      <td>1</td>\n",
       "    </tr>\n",
       "    <tr>\n",
       "      <th>575588aec3617b91ea18facfd1e52a939b47dd6f</th>\n",
       "      <th>b67ede98966e4c418becb185d7efc74e2f59aa15</th>\n",
       "      <td>1</td>\n",
       "    </tr>\n",
       "    <tr>\n",
       "      <th>575905f14f00a35cd78292cca34d247285dba5e9</th>\n",
       "      <th>ca5a36444b047eb95e491fa2e70f968ae048ab10</th>\n",
       "      <td>1</td>\n",
       "    </tr>\n",
       "    <tr>\n",
       "      <th>fffcbfb3eaf9fa661b1855730265449a7de3ec7d</th>\n",
       "      <th>7a592c4a3d20f50b2ba09a85b67c6d2fc925664b</th>\n",
       "      <td>1</td>\n",
       "    </tr>\n",
       "  </tbody>\n",
       "</table>\n",
       "<p>18844 rows × 1 columns</p>\n",
       "</div>"
      ],
      "text/plain": [
       "                                                                                    date\n",
       "mac                                      ssid                                           \n",
       "d29675014f618f3ef3f6b75f146b4be71c513c16 cca78a1e963f3ba3443bf3e54a9aa939f73d223d  12807\n",
       "5cbcffeab5fa9206a8c2712ef085daab688dd086 cca78a1e963f3ba3443bf3e54a9aa939f73d223d   1267\n",
       "273a50bed34ca35e5d1987ea3b05ce765aae0e0e 917c1e46b3861300aebf9a14e47a6ec989c7ac9e    933\n",
       "6ec65bc349733bc0e85d17294d3a9cb6d8b8bdc8 ffd2edd79fe4bac98610a2ad6892b53395e44e34    724\n",
       "de6157c0185924febf402efa9e4c36a4cbe4cbb1 cca78a1e963f3ba3443bf3e54a9aa939f73d223d    496\n",
       "...                                                                                  ...\n",
       "57502713dc0b287ab0e893c8313f55598077630f 7a592c4a3d20f50b2ba09a85b67c6d2fc925664b      1\n",
       "5751a0c6507a8accd8a13005b6976d663db69bad 7a592c4a3d20f50b2ba09a85b67c6d2fc925664b      1\n",
       "575588aec3617b91ea18facfd1e52a939b47dd6f b67ede98966e4c418becb185d7efc74e2f59aa15      1\n",
       "575905f14f00a35cd78292cca34d247285dba5e9 ca5a36444b047eb95e491fa2e70f968ae048ab10      1\n",
       "fffcbfb3eaf9fa661b1855730265449a7de3ec7d 7a592c4a3d20f50b2ba09a85b67c6d2fc925664b      1\n",
       "\n",
       "[18844 rows x 1 columns]"
      ]
     },
     "execution_count": 5,
     "metadata": {},
     "output_type": "execute_result"
    }
   ],
   "source": [
    "sorted_macs_ssid = sensor_df.groupby(by=[\"mac\", 'ssid']).count().sort_values('date', ascending = False)\n",
    "sorted_macs_ssid"
   ]
  },
  {
   "cell_type": "code",
   "execution_count": 6,
   "id": "11d6894b-177b-4ccc-ab39-64d414b818b1",
   "metadata": {},
   "outputs": [],
   "source": [
    "# sorted_mac_ssid.value_counts()\n",
    "# sorted_mac_ssid\n",
    "# ssids_df[ssids_df['ssid'] == 'cca78a1e963f3ba3443bf3e54a9aa939f73d223d']"
   ]
  },
  {
   "cell_type": "markdown",
   "id": "141e1867-824a-4bb7-92a0-9a3fa3d443eb",
   "metadata": {},
   "source": [
    "Tal como se explica en la web **REFERENCIA DE ABAJO**, se considerarán turistas aquellas personas cuya red favorita en su teléfono no sea de una de Alcoy. Para esto se realizará un conteo del número de veces que cada dispositvo se ha conectado a alguna red, de esta forma se podrá analizar cual es la favorita para cada dispositivo."
   ]
  },
  {
   "cell_type": "code",
   "execution_count": 7,
   "id": "7bc23f27-ff81-42d3-b91a-976f63393b1f",
   "metadata": {},
   "outputs": [
    {
     "data": {
      "text/html": [
       "<div>\n",
       "<style scoped>\n",
       "    .dataframe tbody tr th:only-of-type {\n",
       "        vertical-align: middle;\n",
       "    }\n",
       "\n",
       "    .dataframe tbody tr th {\n",
       "        vertical-align: top;\n",
       "    }\n",
       "\n",
       "    .dataframe thead th {\n",
       "        text-align: right;\n",
       "    }\n",
       "</style>\n",
       "<table border=\"1\" class=\"dataframe\">\n",
       "  <thead>\n",
       "    <tr style=\"text-align: right;\">\n",
       "      <th></th>\n",
       "      <th></th>\n",
       "      <th>date</th>\n",
       "    </tr>\n",
       "    <tr>\n",
       "      <th>mac</th>\n",
       "      <th>ssid</th>\n",
       "      <th></th>\n",
       "    </tr>\n",
       "  </thead>\n",
       "  <tbody>\n",
       "    <tr>\n",
       "      <th>d29675014f618f3ef3f6b75f146b4be71c513c16</th>\n",
       "      <th>cca78a1e963f3ba3443bf3e54a9aa939f73d223d</th>\n",
       "      <td>12807</td>\n",
       "    </tr>\n",
       "    <tr>\n",
       "      <th>5cbcffeab5fa9206a8c2712ef085daab688dd086</th>\n",
       "      <th>cca78a1e963f3ba3443bf3e54a9aa939f73d223d</th>\n",
       "      <td>1267</td>\n",
       "    </tr>\n",
       "    <tr>\n",
       "      <th>273a50bed34ca35e5d1987ea3b05ce765aae0e0e</th>\n",
       "      <th>917c1e46b3861300aebf9a14e47a6ec989c7ac9e</th>\n",
       "      <td>933</td>\n",
       "    </tr>\n",
       "    <tr>\n",
       "      <th>6ec65bc349733bc0e85d17294d3a9cb6d8b8bdc8</th>\n",
       "      <th>ffd2edd79fe4bac98610a2ad6892b53395e44e34</th>\n",
       "      <td>724</td>\n",
       "    </tr>\n",
       "    <tr>\n",
       "      <th>de6157c0185924febf402efa9e4c36a4cbe4cbb1</th>\n",
       "      <th>cca78a1e963f3ba3443bf3e54a9aa939f73d223d</th>\n",
       "      <td>496</td>\n",
       "    </tr>\n",
       "    <tr>\n",
       "      <th>...</th>\n",
       "      <th>...</th>\n",
       "      <td>...</td>\n",
       "    </tr>\n",
       "    <tr>\n",
       "      <th>57502713dc0b287ab0e893c8313f55598077630f</th>\n",
       "      <th>7a592c4a3d20f50b2ba09a85b67c6d2fc925664b</th>\n",
       "      <td>1</td>\n",
       "    </tr>\n",
       "    <tr>\n",
       "      <th>5751a0c6507a8accd8a13005b6976d663db69bad</th>\n",
       "      <th>7a592c4a3d20f50b2ba09a85b67c6d2fc925664b</th>\n",
       "      <td>1</td>\n",
       "    </tr>\n",
       "    <tr>\n",
       "      <th>575588aec3617b91ea18facfd1e52a939b47dd6f</th>\n",
       "      <th>b67ede98966e4c418becb185d7efc74e2f59aa15</th>\n",
       "      <td>1</td>\n",
       "    </tr>\n",
       "    <tr>\n",
       "      <th>575905f14f00a35cd78292cca34d247285dba5e9</th>\n",
       "      <th>ca5a36444b047eb95e491fa2e70f968ae048ab10</th>\n",
       "      <td>1</td>\n",
       "    </tr>\n",
       "    <tr>\n",
       "      <th>fffcbfb3eaf9fa661b1855730265449a7de3ec7d</th>\n",
       "      <th>7a592c4a3d20f50b2ba09a85b67c6d2fc925664b</th>\n",
       "      <td>1</td>\n",
       "    </tr>\n",
       "  </tbody>\n",
       "</table>\n",
       "<p>18844 rows × 1 columns</p>\n",
       "</div>"
      ],
      "text/plain": [
       "                                                                                    date\n",
       "mac                                      ssid                                           \n",
       "d29675014f618f3ef3f6b75f146b4be71c513c16 cca78a1e963f3ba3443bf3e54a9aa939f73d223d  12807\n",
       "5cbcffeab5fa9206a8c2712ef085daab688dd086 cca78a1e963f3ba3443bf3e54a9aa939f73d223d   1267\n",
       "273a50bed34ca35e5d1987ea3b05ce765aae0e0e 917c1e46b3861300aebf9a14e47a6ec989c7ac9e    933\n",
       "6ec65bc349733bc0e85d17294d3a9cb6d8b8bdc8 ffd2edd79fe4bac98610a2ad6892b53395e44e34    724\n",
       "de6157c0185924febf402efa9e4c36a4cbe4cbb1 cca78a1e963f3ba3443bf3e54a9aa939f73d223d    496\n",
       "...                                                                                  ...\n",
       "57502713dc0b287ab0e893c8313f55598077630f 7a592c4a3d20f50b2ba09a85b67c6d2fc925664b      1\n",
       "5751a0c6507a8accd8a13005b6976d663db69bad 7a592c4a3d20f50b2ba09a85b67c6d2fc925664b      1\n",
       "575588aec3617b91ea18facfd1e52a939b47dd6f b67ede98966e4c418becb185d7efc74e2f59aa15      1\n",
       "575905f14f00a35cd78292cca34d247285dba5e9 ca5a36444b047eb95e491fa2e70f968ae048ab10      1\n",
       "fffcbfb3eaf9fa661b1855730265449a7de3ec7d 7a592c4a3d20f50b2ba09a85b67c6d2fc925664b      1\n",
       "\n",
       "[18844 rows x 1 columns]"
      ]
     },
     "execution_count": 7,
     "metadata": {},
     "output_type": "execute_result"
    }
   ],
   "source": [
    "ssids_df = ssids_df.drop_duplicates()\n",
    "sorted_macs = sensor_df.groupby(by=[\"mac\", \"ssid\"]).count().sort_values('date', ascending = False)\n",
    "sorted_macs"
   ]
  },
  {
   "cell_type": "markdown",
   "id": "18002a1c-e089-4786-8666-f55a0243b0b1",
   "metadata": {},
   "source": [
    "El siguiente paso será obtener la red favorita de cada dispositivo, obteniendo aquella conexión que más veces se ha producido desde un dispositivo a un SSID:"
   ]
  },
  {
   "cell_type": "code",
   "execution_count": 28,
   "id": "34864919-e7ac-478d-b7de-dc46407331e1",
   "metadata": {},
   "outputs": [
    {
     "data": {
      "text/html": [
       "<div>\n",
       "<style scoped>\n",
       "    .dataframe tbody tr th:only-of-type {\n",
       "        vertical-align: middle;\n",
       "    }\n",
       "\n",
       "    .dataframe tbody tr th {\n",
       "        vertical-align: top;\n",
       "    }\n",
       "\n",
       "    .dataframe thead th {\n",
       "        text-align: right;\n",
       "    }\n",
       "</style>\n",
       "<table border=\"1\" class=\"dataframe\">\n",
       "  <thead>\n",
       "    <tr style=\"text-align: right;\">\n",
       "      <th></th>\n",
       "      <th>mac</th>\n",
       "      <th>ssid</th>\n",
       "      <th>date</th>\n",
       "    </tr>\n",
       "  </thead>\n",
       "  <tbody>\n",
       "    <tr>\n",
       "      <th>0</th>\n",
       "      <td>d29675014f618f3ef3f6b75f146b4be71c513c16</td>\n",
       "      <td>cca78a1e963f3ba3443bf3e54a9aa939f73d223d</td>\n",
       "      <td>12807</td>\n",
       "    </tr>\n",
       "    <tr>\n",
       "      <th>1</th>\n",
       "      <td>5cbcffeab5fa9206a8c2712ef085daab688dd086</td>\n",
       "      <td>cca78a1e963f3ba3443bf3e54a9aa939f73d223d</td>\n",
       "      <td>1267</td>\n",
       "    </tr>\n",
       "    <tr>\n",
       "      <th>2</th>\n",
       "      <td>273a50bed34ca35e5d1987ea3b05ce765aae0e0e</td>\n",
       "      <td>917c1e46b3861300aebf9a14e47a6ec989c7ac9e</td>\n",
       "      <td>933</td>\n",
       "    </tr>\n",
       "    <tr>\n",
       "      <th>3</th>\n",
       "      <td>6ec65bc349733bc0e85d17294d3a9cb6d8b8bdc8</td>\n",
       "      <td>ffd2edd79fe4bac98610a2ad6892b53395e44e34</td>\n",
       "      <td>724</td>\n",
       "    </tr>\n",
       "    <tr>\n",
       "      <th>4</th>\n",
       "      <td>de6157c0185924febf402efa9e4c36a4cbe4cbb1</td>\n",
       "      <td>cca78a1e963f3ba3443bf3e54a9aa939f73d223d</td>\n",
       "      <td>496</td>\n",
       "    </tr>\n",
       "    <tr>\n",
       "      <th>...</th>\n",
       "      <td>...</td>\n",
       "      <td>...</td>\n",
       "      <td>...</td>\n",
       "    </tr>\n",
       "    <tr>\n",
       "      <th>18842</th>\n",
       "      <td>575905f14f00a35cd78292cca34d247285dba5e9</td>\n",
       "      <td>ca5a36444b047eb95e491fa2e70f968ae048ab10</td>\n",
       "      <td>1</td>\n",
       "    </tr>\n",
       "    <tr>\n",
       "      <th>18819</th>\n",
       "      <td>575a15e5ce9c7d65094333b9414cfcee1f49b9e9</td>\n",
       "      <td>5481655e85d7b477c2b37270be825fab0638e137</td>\n",
       "      <td>1</td>\n",
       "    </tr>\n",
       "    <tr>\n",
       "      <th>18810</th>\n",
       "      <td>575b3cf0642ac6ed9893dc02a0e541aef93183e2</td>\n",
       "      <td>79b10e6c830d5c4d8ef7ac53ac685df439ad6f23</td>\n",
       "      <td>1</td>\n",
       "    </tr>\n",
       "    <tr>\n",
       "      <th>18809</th>\n",
       "      <td>575e5b90c000c38c665a032eb1dca6805119a866</td>\n",
       "      <td>7a592c4a3d20f50b2ba09a85b67c6d2fc925664b</td>\n",
       "      <td>1</td>\n",
       "    </tr>\n",
       "    <tr>\n",
       "      <th>18843</th>\n",
       "      <td>fffcbfb3eaf9fa661b1855730265449a7de3ec7d</td>\n",
       "      <td>7a592c4a3d20f50b2ba09a85b67c6d2fc925664b</td>\n",
       "      <td>1</td>\n",
       "    </tr>\n",
       "  </tbody>\n",
       "</table>\n",
       "<p>18759 rows × 3 columns</p>\n",
       "</div>"
      ],
      "text/plain": [
       "                                            mac  \\\n",
       "0      d29675014f618f3ef3f6b75f146b4be71c513c16   \n",
       "1      5cbcffeab5fa9206a8c2712ef085daab688dd086   \n",
       "2      273a50bed34ca35e5d1987ea3b05ce765aae0e0e   \n",
       "3      6ec65bc349733bc0e85d17294d3a9cb6d8b8bdc8   \n",
       "4      de6157c0185924febf402efa9e4c36a4cbe4cbb1   \n",
       "...                                         ...   \n",
       "18842  575905f14f00a35cd78292cca34d247285dba5e9   \n",
       "18819  575a15e5ce9c7d65094333b9414cfcee1f49b9e9   \n",
       "18810  575b3cf0642ac6ed9893dc02a0e541aef93183e2   \n",
       "18809  575e5b90c000c38c665a032eb1dca6805119a866   \n",
       "18843  fffcbfb3eaf9fa661b1855730265449a7de3ec7d   \n",
       "\n",
       "                                           ssid   date  \n",
       "0      cca78a1e963f3ba3443bf3e54a9aa939f73d223d  12807  \n",
       "1      cca78a1e963f3ba3443bf3e54a9aa939f73d223d   1267  \n",
       "2      917c1e46b3861300aebf9a14e47a6ec989c7ac9e    933  \n",
       "3      ffd2edd79fe4bac98610a2ad6892b53395e44e34    724  \n",
       "4      cca78a1e963f3ba3443bf3e54a9aa939f73d223d    496  \n",
       "...                                         ...    ...  \n",
       "18842  ca5a36444b047eb95e491fa2e70f968ae048ab10      1  \n",
       "18819  5481655e85d7b477c2b37270be825fab0638e137      1  \n",
       "18810  79b10e6c830d5c4d8ef7ac53ac685df439ad6f23      1  \n",
       "18809  7a592c4a3d20f50b2ba09a85b67c6d2fc925664b      1  \n",
       "18843  7a592c4a3d20f50b2ba09a85b67c6d2fc925664b      1  \n",
       "\n",
       "[18759 rows x 3 columns]"
      ]
     },
     "execution_count": 28,
     "metadata": {},
     "output_type": "execute_result"
    }
   ],
   "source": [
    "# Agrupamso el dataframe por mac y por ssid, haciendo un conteo para visualizar\n",
    "# el nº de veces que un dispositivo se ha conectado a una ssid en concreto.\n",
    "sorted_macs = sensor_df.groupby(by=[\"mac\", \"ssid\"]).count().sort_values('date', ascending = False)\n",
    "\n",
    "# Al realizar un groupby multidimensional, pandas crea Multiindex, que son tuplas por las que\n",
    "# se referencia un registro (en este caso date) en base a dos valores (los agrupados por el groupby),\n",
    "# como queremos trabajar con un dataframe estándar sin estar preocupándonos de indexar correctamente\n",
    "# los multiíndices, hacemos un reset index para que los índices se pasen a columnas.\n",
    "sorted_macs = sorted_macs.reset_index()\n",
    "\n",
    "# Haciendo un group by por mac, obtenemos el id del registro de aquellos conteos máximos, es decir,\n",
    "# para cada dispositivo calculamos el valor máximo (máximo número de conexiones a las redes) y obtenemos\n",
    "# su id para después poder referenciar el dispositivo y la red que ha tenido más conexiones por su parte.\n",
    "idx_max_macs = sorted_macs.groupby(['mac'])['date'].idxmax()\n",
    "\n",
    "# Obtenemos los registros en base a los índices calculados anteriormente y ordenamos de forma descendente.\n",
    "sorted_macs  = sorted_macs.loc[idx_max_macs].sort_values('date', ascending = False)\n",
    "\n",
    "sorted_macs"
   ]
  },
  {
   "cell_type": "code",
   "execution_count": 30,
   "id": "5219b9a1-ae5a-4564-924b-3e6b53df302c",
   "metadata": {},
   "outputs": [
    {
     "name": "stdout",
     "output_type": "stream",
     "text": [
      "1004\n",
      "34259\n"
     ]
    }
   ],
   "source": [
    "# Routers únicos a los que se han conectado los dispositivos alguna vez\n",
    "print(len(sorted_macs.ssid.unique()))\n",
    "# Routers únicos total registrados por el camión de basura (total ciudad).\n",
    "print(len(ssids_df.ssid.unique()))\n",
    "\n",
    "# Existen muchos más routers detectados por el camión que puntos de acceso únicos a los que se conectan los móviles."
   ]
  },
  {
   "cell_type": "markdown",
   "id": "3d8f598e-c68e-4a90-a992-7a3c03b51757",
   "metadata": {},
   "source": [
    "Como la conexión favorita de los dispositivos no debe ser de Alcoy, eliminaremos aquellos dispositivos cuya conexión favorita sabemos que es de Alcoy."
   ]
  },
  {
   "cell_type": "code",
   "execution_count": 31,
   "id": "0590b10c-4a49-400b-adb8-699cc9159e29",
   "metadata": {},
   "outputs": [
    {
     "data": {
      "text/html": [
       "<div>\n",
       "<style scoped>\n",
       "    .dataframe tbody tr th:only-of-type {\n",
       "        vertical-align: middle;\n",
       "    }\n",
       "\n",
       "    .dataframe tbody tr th {\n",
       "        vertical-align: top;\n",
       "    }\n",
       "\n",
       "    .dataframe thead th {\n",
       "        text-align: right;\n",
       "    }\n",
       "</style>\n",
       "<table border=\"1\" class=\"dataframe\">\n",
       "  <thead>\n",
       "    <tr style=\"text-align: right;\">\n",
       "      <th></th>\n",
       "      <th>mac</th>\n",
       "      <th>ssid</th>\n",
       "      <th>date</th>\n",
       "    </tr>\n",
       "  </thead>\n",
       "  <tbody>\n",
       "    <tr>\n",
       "      <th>3</th>\n",
       "      <td>6ec65bc349733bc0e85d17294d3a9cb6d8b8bdc8</td>\n",
       "      <td>ffd2edd79fe4bac98610a2ad6892b53395e44e34</td>\n",
       "      <td>724</td>\n",
       "    </tr>\n",
       "    <tr>\n",
       "      <th>16</th>\n",
       "      <td>c5cf42dbeeeec2c87097c74cb45c72343b70f5a5</td>\n",
       "      <td>ca5a36444b047eb95e491fa2e70f968ae048ab10</td>\n",
       "      <td>105</td>\n",
       "    </tr>\n",
       "    <tr>\n",
       "      <th>18</th>\n",
       "      <td>ec4931e131e3ffbabb54c05249f97db9f0684c93</td>\n",
       "      <td>ffd2edd79fe4bac98610a2ad6892b53395e44e34</td>\n",
       "      <td>100</td>\n",
       "    </tr>\n",
       "    <tr>\n",
       "      <th>21</th>\n",
       "      <td>2645ffe542737dd58232ebd8eab47245ebd631ce</td>\n",
       "      <td>cfaeaac13a5e3e68077133a0886eea13760f146f</td>\n",
       "      <td>76</td>\n",
       "    </tr>\n",
       "    <tr>\n",
       "      <th>22</th>\n",
       "      <td>7b535408d7c0ada32bca60984ffb653ae4100708</td>\n",
       "      <td>bcdb505c4bee05b51423fdce27786e07fa7af46d</td>\n",
       "      <td>75</td>\n",
       "    </tr>\n",
       "    <tr>\n",
       "      <th>...</th>\n",
       "      <td>...</td>\n",
       "      <td>...</td>\n",
       "      <td>...</td>\n",
       "    </tr>\n",
       "    <tr>\n",
       "      <th>18837</th>\n",
       "      <td>57458c53b83c7ad8b7afbcf00b89559ae053d70c</td>\n",
       "      <td>2aa3b84471cfaa3ab3ec92df5cc92f56617bec59</td>\n",
       "      <td>1</td>\n",
       "    </tr>\n",
       "    <tr>\n",
       "      <th>18841</th>\n",
       "      <td>575588aec3617b91ea18facfd1e52a939b47dd6f</td>\n",
       "      <td>b67ede98966e4c418becb185d7efc74e2f59aa15</td>\n",
       "      <td>1</td>\n",
       "    </tr>\n",
       "    <tr>\n",
       "      <th>18842</th>\n",
       "      <td>575905f14f00a35cd78292cca34d247285dba5e9</td>\n",
       "      <td>ca5a36444b047eb95e491fa2e70f968ae048ab10</td>\n",
       "      <td>1</td>\n",
       "    </tr>\n",
       "    <tr>\n",
       "      <th>18819</th>\n",
       "      <td>575a15e5ce9c7d65094333b9414cfcee1f49b9e9</td>\n",
       "      <td>5481655e85d7b477c2b37270be825fab0638e137</td>\n",
       "      <td>1</td>\n",
       "    </tr>\n",
       "    <tr>\n",
       "      <th>18810</th>\n",
       "      <td>575b3cf0642ac6ed9893dc02a0e541aef93183e2</td>\n",
       "      <td>79b10e6c830d5c4d8ef7ac53ac685df439ad6f23</td>\n",
       "      <td>1</td>\n",
       "    </tr>\n",
       "  </tbody>\n",
       "</table>\n",
       "<p>10876 rows × 3 columns</p>\n",
       "</div>"
      ],
      "text/plain": [
       "                                            mac  \\\n",
       "3      6ec65bc349733bc0e85d17294d3a9cb6d8b8bdc8   \n",
       "16     c5cf42dbeeeec2c87097c74cb45c72343b70f5a5   \n",
       "18     ec4931e131e3ffbabb54c05249f97db9f0684c93   \n",
       "21     2645ffe542737dd58232ebd8eab47245ebd631ce   \n",
       "22     7b535408d7c0ada32bca60984ffb653ae4100708   \n",
       "...                                         ...   \n",
       "18837  57458c53b83c7ad8b7afbcf00b89559ae053d70c   \n",
       "18841  575588aec3617b91ea18facfd1e52a939b47dd6f   \n",
       "18842  575905f14f00a35cd78292cca34d247285dba5e9   \n",
       "18819  575a15e5ce9c7d65094333b9414cfcee1f49b9e9   \n",
       "18810  575b3cf0642ac6ed9893dc02a0e541aef93183e2   \n",
       "\n",
       "                                           ssid  date  \n",
       "3      ffd2edd79fe4bac98610a2ad6892b53395e44e34   724  \n",
       "16     ca5a36444b047eb95e491fa2e70f968ae048ab10   105  \n",
       "18     ffd2edd79fe4bac98610a2ad6892b53395e44e34   100  \n",
       "21     cfaeaac13a5e3e68077133a0886eea13760f146f    76  \n",
       "22     bcdb505c4bee05b51423fdce27786e07fa7af46d    75  \n",
       "...                                         ...   ...  \n",
       "18837  2aa3b84471cfaa3ab3ec92df5cc92f56617bec59     1  \n",
       "18841  b67ede98966e4c418becb185d7efc74e2f59aa15     1  \n",
       "18842  ca5a36444b047eb95e491fa2e70f968ae048ab10     1  \n",
       "18819  5481655e85d7b477c2b37270be825fab0638e137     1  \n",
       "18810  79b10e6c830d5c4d8ef7ac53ac685df439ad6f23     1  \n",
       "\n",
       "[10876 rows x 3 columns]"
      ]
     },
     "execution_count": 31,
     "metadata": {},
     "output_type": "execute_result"
    }
   ],
   "source": [
    "sorted_macs = sorted_macs[~sorted_macs.ssid.isin(ssids_df.ssid)]\n",
    "sorted_macs"
   ]
  },
  {
   "cell_type": "markdown",
   "id": "57f27966-51f5-4575-8054-183a41f28847",
   "metadata": {},
   "source": [
    "Obtenemos un total de 10.876 dispositivos cuya red favorita no es de Alcoy, por lo tanto los podemos considerar comom turistas."
   ]
  },
  {
   "cell_type": "markdown",
   "id": "8bec346b-6db4-4a09-ad0c-ca2add30ec25",
   "metadata": {},
   "source": [
    "# Referencias"
   ]
  },
  {
   "cell_type": "markdown",
   "id": "7efbf993-2557-437a-b139-d7a122b1a69e",
   "metadata": {},
   "source": [
    "[CÓMO MEDIR LA POBLACIÓN TURÍSTICA REAL: ALCOY TOURIST LAB](https://www.turismecv.com/2021/11/30/como-medir-la-poblacion-turistica-real-alcoy-tourist-lab/)"
   ]
  }
 ],
 "metadata": {
  "kernelspec": {
   "display_name": "Python [conda env:TFM]",
   "language": "python",
   "name": "conda-env-TFM-py"
  },
  "language_info": {
   "codemirror_mode": {
    "name": "ipython",
    "version": 3
   },
   "file_extension": ".py",
   "mimetype": "text/x-python",
   "name": "python",
   "nbconvert_exporter": "python",
   "pygments_lexer": "ipython3",
   "version": "3.9.11"
  },
  "toc-autonumbering": true
 },
 "nbformat": 4,
 "nbformat_minor": 5
}
