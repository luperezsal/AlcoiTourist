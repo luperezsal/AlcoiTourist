{
 "cells": [
  {
   "cell_type": "markdown",
   "id": "547b689a-63d3-47ac-8e2c-9f08c87462f0",
   "metadata": {},
   "source": [
    "# Alcoy Tourist"
   ]
  },
  {
   "cell_type": "markdown",
   "id": "5b923296-df7e-455b-b6ea-395045737769",
   "metadata": {
    "tags": []
   },
   "source": [
    "## Introducción"
   ]
  },
  {
   "cell_type": "markdown",
   "id": "3fbb84c3-ca6f-47c9-a6de-17f4df6868a8",
   "metadata": {},
   "source": [
    "Para poder lograr definir al municipio de Alcoi como Municipio Turístico es necesario averiguar la afluencia de turistas que visitan Alcoy, estas estadísticas se consiguen en Alcoi mediente la obtención de redes favoritas los teléfonos que diariamente transitan por las calles de Alcoi. De esta manera se obtiene una relación de los residentes y turistas de Alcoi que se puede verificar en el `Decreto de Municipio Turístico 2020`. El objetivo general de este proyecto es realizar un análisis sobre los datos turísticos de la ciudad de Alcoy. \n",
    "\n",
    "\n",
    "A la hora de realizar este análisis, disponemos de los siguientes objetivos secundadrios:\n",
    "\n",
    "- Detectar turistas que llegan a Alcoy gracias a un sistema inteligente.\n",
    "- Evaluar el rendimiento del sistema comparando los turistas detectados respecto a los turistas de los que se tienen datos.\n",
    "- Análisis mensual de la cantidad de turistas.\n",
    "- Descubrimiento de conocimiento en base a datos de las encuestas.\n",
    "\n",
    "El sistema inteligente dispone de información relativa a los dispositivos conectados a la red que se encuentran en la ciudad de Alcoy (pudiéndose considerar como routers). Además, es capaz de rastrear los puntos de conexión favoritos de los dispositivos personales de los viandantes (se pueden considerar como teléfonos móviles) siempre y cuando éstos tengan el WiFi activado.\n",
    "\n",
    "Para lograr los objetivos de ese proyecto se dispone de tres conjuntos de datos:\n",
    "- `datosEncuesta2206`: se trata de encuestas que se han realizado a las personas que han accedido a las oficinas de turismo y aportan información útil para el análisis. Los campos de este conjunto de datos son: la fecha de la visita, lugar de residencia, número de acompañantes y si tienen el wifi activado o no. Consta de los siguientes campos:\n",
    "    - **Marca temporal**: Campo de tipo `datetime` cuyo propósito es almacenar la fecha y hora en la que fué registrado la entrada en la oficina de turismo.\n",
    "    - **¿Cúal es su lugar de residencia?**: Campo de tipo texto que almacena el lugar donde reside la persona.\n",
    "    - **En el caso de que haya marcado anteriormente que su lugar de residencia NO es Alcoi. ¿Podría especificar de dónde es? (país, provincia, municipio...)**: Entrada de tipo texto que tiene como propósito ampliar el campo anterior.\n",
    "    - **¿Con cuántas personas viaja?**: Campo tipo numérico que especifica el número de personas que conforman el grupo que visita Alcoi.\n",
    "    - **¿Con cuántas personas de las que viaja han entrado a las Tourist-Info?**: Campo tipo numérico que indica la cantidad de personas dentro del grupo que también han ingresado a `Tourist Info`.\n",
    "- `datosSensorTurismo2206`: contiene la información de las conexiones de los dispositivos móviles rastreados (MAC) a un punto de acceso (SSID).\n",
    "    - **date**: Campo tipo numérico en formato `Unix` que es la marca de tiempo en la que se registró la obtención de los datos.\n",
    "    - **mac**: Identificador del dispositivo del que se tomaron los datos en formato alfanumérico.\n",
    "    - **ssid**: Identificador `ssid` de los ultimos dispositivos a los que el `mac` ha tenido acceso. En formato alfanumérico.\n",
    "- `ssidsAlcoi`: un listado con todas las SSIDS rastreadas de Alcoy.\n",
    "    - **ssid**: Listado de los `ssid` de Alcoi, formato alfanumérico.\n",
    "\n",
    "\n",
    "Hay que tener en cuenta que el objetivo de este proyecto no es sencillo, no todos los visitantes tienen activado el Wifi de su teléfono. Por lo que no se pueden la detección de estos turistas por el sistema."
   ]
  },
  {
   "cell_type": "markdown",
   "id": "fdd0be99-b8e0-4870-99c7-2c69e562b97b",
   "metadata": {},
   "source": [
    "El objetivo de este proyecto es:\n",
    "\n",
    "\n",
    "Este objetivo no es sencillo porque no todos los visitantes tienen activado el Wifi de su teléfono....\n",
    "\n",
    "Para lograr este objetivo analizaremos....."
   ]
  },
  {
   "cell_type": "code",
   "execution_count": 635,
   "id": "ce339be9-8797-4793-8dcc-f94fbdce2bd7",
   "metadata": {},
   "outputs": [],
   "source": [
    "# !pip install mplfinance\n",
    "# !pip install chart_studio\n",
    "# !pip install cufflinks"
   ]
  },
  {
   "cell_type": "markdown",
   "id": "8dc8d13f-4bd2-4269-9474-20252681f864",
   "metadata": {},
   "source": [
    "# Imports"
   ]
  },
  {
   "cell_type": "code",
   "execution_count": 636,
   "id": "e7aaea2e-f48e-40b4-8fc2-47398b047ac2",
   "metadata": {},
   "outputs": [
    {
     "data": {
      "text/html": [
       "        <script type=\"text/javascript\">\n",
       "        window.PlotlyConfig = {MathJaxConfig: 'local'};\n",
       "        if (window.MathJax) {MathJax.Hub.Config({SVG: {font: \"STIX-Web\"}});}\n",
       "        if (typeof require !== 'undefined') {\n",
       "        require.undef(\"plotly\");\n",
       "        requirejs.config({\n",
       "            paths: {\n",
       "                'plotly': ['https://cdn.plot.ly/plotly-2.2.0.min']\n",
       "            }\n",
       "        });\n",
       "        require(['plotly'], function(Plotly) {\n",
       "            window._Plotly = Plotly;\n",
       "        });\n",
       "        }\n",
       "        </script>\n",
       "        "
      ]
     },
     "metadata": {},
     "output_type": "display_data"
    },
    {
     "data": {
      "text/html": [
       "        <script type=\"text/javascript\">\n",
       "        window.PlotlyConfig = {MathJaxConfig: 'local'};\n",
       "        if (window.MathJax) {MathJax.Hub.Config({SVG: {font: \"STIX-Web\"}});}\n",
       "        if (typeof require !== 'undefined') {\n",
       "        require.undef(\"plotly\");\n",
       "        requirejs.config({\n",
       "            paths: {\n",
       "                'plotly': ['https://cdn.plot.ly/plotly-2.2.0.min']\n",
       "            }\n",
       "        });\n",
       "        require(['plotly'], function(Plotly) {\n",
       "            window._Plotly = Plotly;\n",
       "        });\n",
       "        }\n",
       "        </script>\n",
       "        "
      ]
     },
     "metadata": {},
     "output_type": "display_data"
    }
   ],
   "source": [
    "import sweetviz as sv\n",
    "import pandas as pd\n",
    "from datetime import datetime\n",
    "from collections import Counter\n",
    "import sklearn.metrics as metrics\n",
    "import plotly.express as px\n",
    "import statsmodels.api as sm\n",
    "%matplotlib inline\n",
    "from plotly.offline import download_plotlyjs, init_notebook_mode, plot, iplot\n",
    "from matplotlib import dates\n",
    "import matplotlib.pyplot as plt\n",
    "import mplfinance as mpf\n",
    "import statsmodels.api as sm\n",
    "import cufflinks as cf\n",
    "init_notebook_mode(connected=True)\n",
    "cf.go_offline()\n",
    "\n",
    "from statsmodels.tsa.seasonal import seasonal_decompose\n",
    "\n",
    "pd.options.plotting.backend = \"plotly\""
   ]
  },
  {
   "cell_type": "markdown",
   "id": "d5638a33-29bf-4269-8370-7deeedf33796",
   "metadata": {},
   "source": [
    "# Data"
   ]
  },
  {
   "cell_type": "markdown",
   "id": "491567df-57e1-4505-a1ed-d1178e3547c4",
   "metadata": {},
   "source": [
    "## Paths definition"
   ]
  },
  {
   "cell_type": "markdown",
   "id": "7c1abdc7-ee74-4ecf-9104-81be04324718",
   "metadata": {},
   "source": [
    "Se definirán la ruta desde la que se cargarán los datos, así como la ruta donde se guardarán los reportes generados por `Sweetviz`."
   ]
  },
  {
   "cell_type": "code",
   "execution_count": 637,
   "id": "bcd11bca-0990-4b8b-86e9-b0026ef03b94",
   "metadata": {},
   "outputs": [],
   "source": [
    "DATA_PATH = 'data'\n",
    "REPORTS_PATH = 'reports/'"
   ]
  },
  {
   "cell_type": "markdown",
   "id": "ad66f1fa-8e24-4952-978d-58b280957a08",
   "metadata": {},
   "source": [
    "## Data loading"
   ]
  },
  {
   "cell_type": "markdown",
   "id": "c9e4bbc1-8289-4f4d-8640-58a69337e898",
   "metadata": {},
   "source": [
    "En este proyecto dispondremos de tres dataset:\n",
    "\n",
    "- `datosEncuesta2206`: contiene la información relativa a las encuestas realizadas a las personas que han visitado la oficina de turismo de Alcoy.\n",
    "- `datosSensorTurismo2206`: dispone de información correspondientes a los 5 SSIDs favoritos de los moviles de las personas.\n",
    "- `ssidsAlcoi`: este dataset contiene el SSiDs de los dispositivos como routers, de Alcoi, estos fueron recolectados y resistrados, a partir de estos datos se realizan los  filtros de los datos del sensor de turismo.\n",
    "\n",
    "Nota: _En el conjunto de datos datos SSIDS Alcoi tenemos todas las direcciones de los puntos de conexión de la ciudad de Alocai._\n"
   ]
  },
  {
   "cell_type": "code",
   "execution_count": 638,
   "id": "4447b82a-8d27-459d-9d7a-d16c1b149016",
   "metadata": {},
   "outputs": [],
   "source": [
    "quiz_df = pd.read_csv(f\"{DATA_PATH}/datosEncuesta2206.csv\")\n",
    "sensor_df = pd.read_csv(f\"{DATA_PATH}/datosSensorTurismo2206.csv\")\n",
    "ssids_df  = pd.read_csv(f\"{DATA_PATH}/ssidsAlcoi.csv\")"
   ]
  },
  {
   "cell_type": "markdown",
   "id": "79f818d5-ca62-49aa-bffb-2c4c30d703d1",
   "metadata": {},
   "source": [
    "# Analyisis"
   ]
  },
  {
   "cell_type": "code",
   "execution_count": 639,
   "id": "639bd4a6-85b6-4d91-bdf1-218043875a62",
   "metadata": {
    "tags": []
   },
   "outputs": [],
   "source": [
    "# quiz_report = sv.analyze(quiz_df)\n",
    "# quiz_report.show_html(f\"{REPORTS_PATH}/Quiz.html\")\n",
    "\n",
    "# sensor_report = sv.analyze(sensor_df)\n",
    "# sensor_report.show_html(f\"{REPORTS_PATH}/Sensors.html\")\n",
    "\n",
    "# ssids_report = sv.analyze(ssids_df)\n",
    "# ssids_report.show_html(f\"{REPORTS_PATH}/SSIDs.html\")"
   ]
  },
  {
   "cell_type": "markdown",
   "id": "f0094f65-9680-44bb-ab86-bfa0bc6919e9",
   "metadata": {},
   "source": [
    "A continuación listaremos todos los dispositivos que se han conectado a alguna de las redes conocidas en Alcoy, junto a la MAC del dispositivo, se mostrará el número de veces que se ha conectado a algún router (sea o no de Alcoi) desde que se empezó a recoger esta información por el sistema."
   ]
  },
  {
   "cell_type": "code",
   "execution_count": 640,
   "id": "534fb66d-d7fb-4518-89fd-e7dd036a09d1",
   "metadata": {},
   "outputs": [
    {
     "data": {
      "text/html": [
       "<div>\n",
       "<style scoped>\n",
       "    .dataframe tbody tr th:only-of-type {\n",
       "        vertical-align: middle;\n",
       "    }\n",
       "\n",
       "    .dataframe tbody tr th {\n",
       "        vertical-align: top;\n",
       "    }\n",
       "\n",
       "    .dataframe thead th {\n",
       "        text-align: right;\n",
       "    }\n",
       "</style>\n",
       "<table border=\"1\" class=\"dataframe\">\n",
       "  <thead>\n",
       "    <tr style=\"text-align: right;\">\n",
       "      <th></th>\n",
       "      <th></th>\n",
       "      <th>date</th>\n",
       "    </tr>\n",
       "    <tr>\n",
       "      <th>mac</th>\n",
       "      <th>ssid</th>\n",
       "      <th></th>\n",
       "    </tr>\n",
       "  </thead>\n",
       "  <tbody>\n",
       "    <tr>\n",
       "      <th>d29675014f618f3ef3f6b75f146b4be71c513c16</th>\n",
       "      <th>cca78a1e963f3ba3443bf3e54a9aa939f73d223d</th>\n",
       "      <td>12807</td>\n",
       "    </tr>\n",
       "    <tr>\n",
       "      <th>5cbcffeab5fa9206a8c2712ef085daab688dd086</th>\n",
       "      <th>cca78a1e963f3ba3443bf3e54a9aa939f73d223d</th>\n",
       "      <td>1267</td>\n",
       "    </tr>\n",
       "    <tr>\n",
       "      <th>273a50bed34ca35e5d1987ea3b05ce765aae0e0e</th>\n",
       "      <th>917c1e46b3861300aebf9a14e47a6ec989c7ac9e</th>\n",
       "      <td>933</td>\n",
       "    </tr>\n",
       "    <tr>\n",
       "      <th>6ec65bc349733bc0e85d17294d3a9cb6d8b8bdc8</th>\n",
       "      <th>ffd2edd79fe4bac98610a2ad6892b53395e44e34</th>\n",
       "      <td>724</td>\n",
       "    </tr>\n",
       "    <tr>\n",
       "      <th>de6157c0185924febf402efa9e4c36a4cbe4cbb1</th>\n",
       "      <th>cca78a1e963f3ba3443bf3e54a9aa939f73d223d</th>\n",
       "      <td>496</td>\n",
       "    </tr>\n",
       "    <tr>\n",
       "      <th>...</th>\n",
       "      <th>...</th>\n",
       "      <td>...</td>\n",
       "    </tr>\n",
       "    <tr>\n",
       "      <th>57502713dc0b287ab0e893c8313f55598077630f</th>\n",
       "      <th>7a592c4a3d20f50b2ba09a85b67c6d2fc925664b</th>\n",
       "      <td>1</td>\n",
       "    </tr>\n",
       "    <tr>\n",
       "      <th>5751a0c6507a8accd8a13005b6976d663db69bad</th>\n",
       "      <th>7a592c4a3d20f50b2ba09a85b67c6d2fc925664b</th>\n",
       "      <td>1</td>\n",
       "    </tr>\n",
       "    <tr>\n",
       "      <th>575588aec3617b91ea18facfd1e52a939b47dd6f</th>\n",
       "      <th>b67ede98966e4c418becb185d7efc74e2f59aa15</th>\n",
       "      <td>1</td>\n",
       "    </tr>\n",
       "    <tr>\n",
       "      <th>575905f14f00a35cd78292cca34d247285dba5e9</th>\n",
       "      <th>ca5a36444b047eb95e491fa2e70f968ae048ab10</th>\n",
       "      <td>1</td>\n",
       "    </tr>\n",
       "    <tr>\n",
       "      <th>fffcbfb3eaf9fa661b1855730265449a7de3ec7d</th>\n",
       "      <th>7a592c4a3d20f50b2ba09a85b67c6d2fc925664b</th>\n",
       "      <td>1</td>\n",
       "    </tr>\n",
       "  </tbody>\n",
       "</table>\n",
       "<p>18844 rows × 1 columns</p>\n",
       "</div>"
      ],
      "text/plain": [
       "                                                                                    date\n",
       "mac                                      ssid                                           \n",
       "d29675014f618f3ef3f6b75f146b4be71c513c16 cca78a1e963f3ba3443bf3e54a9aa939f73d223d  12807\n",
       "5cbcffeab5fa9206a8c2712ef085daab688dd086 cca78a1e963f3ba3443bf3e54a9aa939f73d223d   1267\n",
       "273a50bed34ca35e5d1987ea3b05ce765aae0e0e 917c1e46b3861300aebf9a14e47a6ec989c7ac9e    933\n",
       "6ec65bc349733bc0e85d17294d3a9cb6d8b8bdc8 ffd2edd79fe4bac98610a2ad6892b53395e44e34    724\n",
       "de6157c0185924febf402efa9e4c36a4cbe4cbb1 cca78a1e963f3ba3443bf3e54a9aa939f73d223d    496\n",
       "...                                                                                  ...\n",
       "57502713dc0b287ab0e893c8313f55598077630f 7a592c4a3d20f50b2ba09a85b67c6d2fc925664b      1\n",
       "5751a0c6507a8accd8a13005b6976d663db69bad 7a592c4a3d20f50b2ba09a85b67c6d2fc925664b      1\n",
       "575588aec3617b91ea18facfd1e52a939b47dd6f b67ede98966e4c418becb185d7efc74e2f59aa15      1\n",
       "575905f14f00a35cd78292cca34d247285dba5e9 ca5a36444b047eb95e491fa2e70f968ae048ab10      1\n",
       "fffcbfb3eaf9fa661b1855730265449a7de3ec7d 7a592c4a3d20f50b2ba09a85b67c6d2fc925664b      1\n",
       "\n",
       "[18844 rows x 1 columns]"
      ]
     },
     "execution_count": 640,
     "metadata": {},
     "output_type": "execute_result"
    }
   ],
   "source": [
    "sorted_macs_ssid = sensor_df.groupby(by=[\"mac\", 'ssid']).count().sort_values('date', ascending = False)\n",
    "sorted_macs_ssid"
   ]
  },
  {
   "cell_type": "code",
   "execution_count": 641,
   "id": "d802ec48-ff9a-42ff-b70f-e322020e8739",
   "metadata": {},
   "outputs": [
    {
     "data": {
      "text/html": [
       "<div>\n",
       "<style scoped>\n",
       "    .dataframe tbody tr th:only-of-type {\n",
       "        vertical-align: middle;\n",
       "    }\n",
       "\n",
       "    .dataframe tbody tr th {\n",
       "        vertical-align: top;\n",
       "    }\n",
       "\n",
       "    .dataframe thead th {\n",
       "        text-align: right;\n",
       "    }\n",
       "</style>\n",
       "<table border=\"1\" class=\"dataframe\">\n",
       "  <thead>\n",
       "    <tr style=\"text-align: right;\">\n",
       "      <th></th>\n",
       "      <th>date</th>\n",
       "      <th>mac</th>\n",
       "      <th>ssid</th>\n",
       "    </tr>\n",
       "  </thead>\n",
       "  <tbody>\n",
       "    <tr>\n",
       "      <th>41670</th>\n",
       "      <td>1651557308022</td>\n",
       "      <td>adb3077264a1cdaebd3f000e5106b938b686d5ba</td>\n",
       "      <td>7a592c4a3d20f50b2ba09a85b67c6d2fc925664b</td>\n",
       "    </tr>\n",
       "    <tr>\n",
       "      <th>41669</th>\n",
       "      <td>1651557247963</td>\n",
       "      <td>9d164cc8432ebbec973b72d0863104278159d59e</td>\n",
       "      <td>7a592c4a3d20f50b2ba09a85b67c6d2fc925664b</td>\n",
       "    </tr>\n",
       "    <tr>\n",
       "      <th>41668</th>\n",
       "      <td>1651517743891</td>\n",
       "      <td>68cdd2558ab66ae552181a6a1020d761b6070884</td>\n",
       "      <td>877a09473e70b0032058eedab1ac679086a2ad84</td>\n",
       "    </tr>\n",
       "    <tr>\n",
       "      <th>41667</th>\n",
       "      <td>1651517623913</td>\n",
       "      <td>16e6a88f3a1690cc46ea76f103b9ca50f2348623</td>\n",
       "      <td>877a09473e70b0032058eedab1ac679086a2ad84</td>\n",
       "    </tr>\n",
       "    <tr>\n",
       "      <th>41666</th>\n",
       "      <td>1651517503850</td>\n",
       "      <td>0d47b0ba9ff0d21c53891dd51d915db490c5d6cd</td>\n",
       "      <td>877a09473e70b0032058eedab1ac679086a2ad84</td>\n",
       "    </tr>\n",
       "    <tr>\n",
       "      <th>...</th>\n",
       "      <td>...</td>\n",
       "      <td>...</td>\n",
       "      <td>...</td>\n",
       "    </tr>\n",
       "    <tr>\n",
       "      <th>4</th>\n",
       "      <td>1624342199096</td>\n",
       "      <td>d29675014f618f3ef3f6b75f146b4be71c513c16</td>\n",
       "      <td>cca78a1e963f3ba3443bf3e54a9aa939f73d223d</td>\n",
       "    </tr>\n",
       "    <tr>\n",
       "      <th>3</th>\n",
       "      <td>1624342180676</td>\n",
       "      <td>5cbcffeab5fa9206a8c2712ef085daab688dd086</td>\n",
       "      <td>cca78a1e963f3ba3443bf3e54a9aa939f73d223d</td>\n",
       "    </tr>\n",
       "    <tr>\n",
       "      <th>2</th>\n",
       "      <td>1624342133875</td>\n",
       "      <td>d29675014f618f3ef3f6b75f146b4be71c513c16</td>\n",
       "      <td>cca78a1e963f3ba3443bf3e54a9aa939f73d223d</td>\n",
       "    </tr>\n",
       "    <tr>\n",
       "      <th>1</th>\n",
       "      <td>1624342089379</td>\n",
       "      <td>5cbcffeab5fa9206a8c2712ef085daab688dd086</td>\n",
       "      <td>cca78a1e963f3ba3443bf3e54a9aa939f73d223d</td>\n",
       "    </tr>\n",
       "    <tr>\n",
       "      <th>0</th>\n",
       "      <td>1624342004054</td>\n",
       "      <td>d29675014f618f3ef3f6b75f146b4be71c513c16</td>\n",
       "      <td>cca78a1e963f3ba3443bf3e54a9aa939f73d223d</td>\n",
       "    </tr>\n",
       "  </tbody>\n",
       "</table>\n",
       "<p>41671 rows × 3 columns</p>\n",
       "</div>"
      ],
      "text/plain": [
       "                date                                       mac  \\\n",
       "41670  1651557308022  adb3077264a1cdaebd3f000e5106b938b686d5ba   \n",
       "41669  1651557247963  9d164cc8432ebbec973b72d0863104278159d59e   \n",
       "41668  1651517743891  68cdd2558ab66ae552181a6a1020d761b6070884   \n",
       "41667  1651517623913  16e6a88f3a1690cc46ea76f103b9ca50f2348623   \n",
       "41666  1651517503850  0d47b0ba9ff0d21c53891dd51d915db490c5d6cd   \n",
       "...              ...                                       ...   \n",
       "4      1624342199096  d29675014f618f3ef3f6b75f146b4be71c513c16   \n",
       "3      1624342180676  5cbcffeab5fa9206a8c2712ef085daab688dd086   \n",
       "2      1624342133875  d29675014f618f3ef3f6b75f146b4be71c513c16   \n",
       "1      1624342089379  5cbcffeab5fa9206a8c2712ef085daab688dd086   \n",
       "0      1624342004054  d29675014f618f3ef3f6b75f146b4be71c513c16   \n",
       "\n",
       "                                           ssid  \n",
       "41670  7a592c4a3d20f50b2ba09a85b67c6d2fc925664b  \n",
       "41669  7a592c4a3d20f50b2ba09a85b67c6d2fc925664b  \n",
       "41668  877a09473e70b0032058eedab1ac679086a2ad84  \n",
       "41667  877a09473e70b0032058eedab1ac679086a2ad84  \n",
       "41666  877a09473e70b0032058eedab1ac679086a2ad84  \n",
       "...                                         ...  \n",
       "4      cca78a1e963f3ba3443bf3e54a9aa939f73d223d  \n",
       "3      cca78a1e963f3ba3443bf3e54a9aa939f73d223d  \n",
       "2      cca78a1e963f3ba3443bf3e54a9aa939f73d223d  \n",
       "1      cca78a1e963f3ba3443bf3e54a9aa939f73d223d  \n",
       "0      cca78a1e963f3ba3443bf3e54a9aa939f73d223d  \n",
       "\n",
       "[41671 rows x 3 columns]"
      ]
     },
     "execution_count": 641,
     "metadata": {},
     "output_type": "execute_result"
    }
   ],
   "source": [
    "sensor_df.sort_values('date', ascending = False)\n"
   ]
  },
  {
   "cell_type": "markdown",
   "id": "141e1867-824a-4bb7-92a0-9a3fa3d443eb",
   "metadata": {},
   "source": [
    "Tal como se explica en la web **REFERENCIA DE ABAJO**, se considerarán turistas aquellas personas cuya red favorita en su teléfono no sea de una de Alcoy. Para esto se realizará un conteo del número de veces que cada dispositvo se ha conectado a alguna red (siendo de Alcoy o no), de esta forma se podrá analizar cual es la favorita para cada dispositivo, y, posteriormente, se filtrarán aquellas conexiones cuyo punto de acceso (routers) no sea de Alcoy para considerarlos turistas."
   ]
  },
  {
   "cell_type": "code",
   "execution_count": 642,
   "id": "7bc23f27-ff81-42d3-b91a-976f63393b1f",
   "metadata": {
    "tags": []
   },
   "outputs": [
    {
     "data": {
      "text/html": [
       "<div>\n",
       "<style scoped>\n",
       "    .dataframe tbody tr th:only-of-type {\n",
       "        vertical-align: middle;\n",
       "    }\n",
       "\n",
       "    .dataframe tbody tr th {\n",
       "        vertical-align: top;\n",
       "    }\n",
       "\n",
       "    .dataframe thead th {\n",
       "        text-align: right;\n",
       "    }\n",
       "</style>\n",
       "<table border=\"1\" class=\"dataframe\">\n",
       "  <thead>\n",
       "    <tr style=\"text-align: right;\">\n",
       "      <th></th>\n",
       "      <th></th>\n",
       "      <th>date</th>\n",
       "    </tr>\n",
       "    <tr>\n",
       "      <th>mac</th>\n",
       "      <th>ssid</th>\n",
       "      <th></th>\n",
       "    </tr>\n",
       "  </thead>\n",
       "  <tbody>\n",
       "    <tr>\n",
       "      <th>d29675014f618f3ef3f6b75f146b4be71c513c16</th>\n",
       "      <th>cca78a1e963f3ba3443bf3e54a9aa939f73d223d</th>\n",
       "      <td>12807</td>\n",
       "    </tr>\n",
       "    <tr>\n",
       "      <th>5cbcffeab5fa9206a8c2712ef085daab688dd086</th>\n",
       "      <th>cca78a1e963f3ba3443bf3e54a9aa939f73d223d</th>\n",
       "      <td>1267</td>\n",
       "    </tr>\n",
       "    <tr>\n",
       "      <th>273a50bed34ca35e5d1987ea3b05ce765aae0e0e</th>\n",
       "      <th>917c1e46b3861300aebf9a14e47a6ec989c7ac9e</th>\n",
       "      <td>933</td>\n",
       "    </tr>\n",
       "    <tr>\n",
       "      <th>6ec65bc349733bc0e85d17294d3a9cb6d8b8bdc8</th>\n",
       "      <th>ffd2edd79fe4bac98610a2ad6892b53395e44e34</th>\n",
       "      <td>724</td>\n",
       "    </tr>\n",
       "    <tr>\n",
       "      <th>de6157c0185924febf402efa9e4c36a4cbe4cbb1</th>\n",
       "      <th>cca78a1e963f3ba3443bf3e54a9aa939f73d223d</th>\n",
       "      <td>496</td>\n",
       "    </tr>\n",
       "    <tr>\n",
       "      <th>...</th>\n",
       "      <th>...</th>\n",
       "      <td>...</td>\n",
       "    </tr>\n",
       "    <tr>\n",
       "      <th>57502713dc0b287ab0e893c8313f55598077630f</th>\n",
       "      <th>7a592c4a3d20f50b2ba09a85b67c6d2fc925664b</th>\n",
       "      <td>1</td>\n",
       "    </tr>\n",
       "    <tr>\n",
       "      <th>5751a0c6507a8accd8a13005b6976d663db69bad</th>\n",
       "      <th>7a592c4a3d20f50b2ba09a85b67c6d2fc925664b</th>\n",
       "      <td>1</td>\n",
       "    </tr>\n",
       "    <tr>\n",
       "      <th>575588aec3617b91ea18facfd1e52a939b47dd6f</th>\n",
       "      <th>b67ede98966e4c418becb185d7efc74e2f59aa15</th>\n",
       "      <td>1</td>\n",
       "    </tr>\n",
       "    <tr>\n",
       "      <th>575905f14f00a35cd78292cca34d247285dba5e9</th>\n",
       "      <th>ca5a36444b047eb95e491fa2e70f968ae048ab10</th>\n",
       "      <td>1</td>\n",
       "    </tr>\n",
       "    <tr>\n",
       "      <th>fffcbfb3eaf9fa661b1855730265449a7de3ec7d</th>\n",
       "      <th>7a592c4a3d20f50b2ba09a85b67c6d2fc925664b</th>\n",
       "      <td>1</td>\n",
       "    </tr>\n",
       "  </tbody>\n",
       "</table>\n",
       "<p>18844 rows × 1 columns</p>\n",
       "</div>"
      ],
      "text/plain": [
       "                                                                                    date\n",
       "mac                                      ssid                                           \n",
       "d29675014f618f3ef3f6b75f146b4be71c513c16 cca78a1e963f3ba3443bf3e54a9aa939f73d223d  12807\n",
       "5cbcffeab5fa9206a8c2712ef085daab688dd086 cca78a1e963f3ba3443bf3e54a9aa939f73d223d   1267\n",
       "273a50bed34ca35e5d1987ea3b05ce765aae0e0e 917c1e46b3861300aebf9a14e47a6ec989c7ac9e    933\n",
       "6ec65bc349733bc0e85d17294d3a9cb6d8b8bdc8 ffd2edd79fe4bac98610a2ad6892b53395e44e34    724\n",
       "de6157c0185924febf402efa9e4c36a4cbe4cbb1 cca78a1e963f3ba3443bf3e54a9aa939f73d223d    496\n",
       "...                                                                                  ...\n",
       "57502713dc0b287ab0e893c8313f55598077630f 7a592c4a3d20f50b2ba09a85b67c6d2fc925664b      1\n",
       "5751a0c6507a8accd8a13005b6976d663db69bad 7a592c4a3d20f50b2ba09a85b67c6d2fc925664b      1\n",
       "575588aec3617b91ea18facfd1e52a939b47dd6f b67ede98966e4c418becb185d7efc74e2f59aa15      1\n",
       "575905f14f00a35cd78292cca34d247285dba5e9 ca5a36444b047eb95e491fa2e70f968ae048ab10      1\n",
       "fffcbfb3eaf9fa661b1855730265449a7de3ec7d 7a592c4a3d20f50b2ba09a85b67c6d2fc925664b      1\n",
       "\n",
       "[18844 rows x 1 columns]"
      ]
     },
     "execution_count": 642,
     "metadata": {},
     "output_type": "execute_result"
    }
   ],
   "source": [
    "# Se eliminar los identificadores de los routers que se encuentran duplicados.\n",
    "ssids_df = ssids_df.drop_duplicates()\n",
    "sorted_macs = sensor_df.groupby(by=[\"mac\", \"ssid\"]).count().sort_values('date', ascending = False)\n",
    "sorted_macs"
   ]
  },
  {
   "cell_type": "markdown",
   "id": "18002a1c-e089-4786-8666-f55a0243b0b1",
   "metadata": {},
   "source": [
    "El siguiente paso será obtener la red favorita de cada dispositivo, obteniendo aquella conexión que más veces se ha producido desde un dispositivo a un SSID:"
   ]
  },
  {
   "cell_type": "code",
   "execution_count": 643,
   "id": "34864919-e7ac-478d-b7de-dc46407331e1",
   "metadata": {
    "tags": []
   },
   "outputs": [
    {
     "data": {
      "text/html": [
       "<div>\n",
       "<style scoped>\n",
       "    .dataframe tbody tr th:only-of-type {\n",
       "        vertical-align: middle;\n",
       "    }\n",
       "\n",
       "    .dataframe tbody tr th {\n",
       "        vertical-align: top;\n",
       "    }\n",
       "\n",
       "    .dataframe thead th {\n",
       "        text-align: right;\n",
       "    }\n",
       "</style>\n",
       "<table border=\"1\" class=\"dataframe\">\n",
       "  <thead>\n",
       "    <tr style=\"text-align: right;\">\n",
       "      <th></th>\n",
       "      <th>mac</th>\n",
       "      <th>ssid</th>\n",
       "      <th>connections</th>\n",
       "    </tr>\n",
       "  </thead>\n",
       "  <tbody>\n",
       "    <tr>\n",
       "      <th>15559</th>\n",
       "      <td>d29675014f618f3ef3f6b75f146b4be71c513c16</td>\n",
       "      <td>cca78a1e963f3ba3443bf3e54a9aa939f73d223d</td>\n",
       "      <td>12807</td>\n",
       "    </tr>\n",
       "    <tr>\n",
       "      <th>6917</th>\n",
       "      <td>5cbcffeab5fa9206a8c2712ef085daab688dd086</td>\n",
       "      <td>cca78a1e963f3ba3443bf3e54a9aa939f73d223d</td>\n",
       "      <td>1267</td>\n",
       "    </tr>\n",
       "    <tr>\n",
       "      <th>2946</th>\n",
       "      <td>273a50bed34ca35e5d1987ea3b05ce765aae0e0e</td>\n",
       "      <td>917c1e46b3861300aebf9a14e47a6ec989c7ac9e</td>\n",
       "      <td>933</td>\n",
       "    </tr>\n",
       "    <tr>\n",
       "      <th>8270</th>\n",
       "      <td>6ec65bc349733bc0e85d17294d3a9cb6d8b8bdc8</td>\n",
       "      <td>ffd2edd79fe4bac98610a2ad6892b53395e44e34</td>\n",
       "      <td>724</td>\n",
       "    </tr>\n",
       "    <tr>\n",
       "      <th>16403</th>\n",
       "      <td>de6157c0185924febf402efa9e4c36a4cbe4cbb1</td>\n",
       "      <td>cca78a1e963f3ba3443bf3e54a9aa939f73d223d</td>\n",
       "      <td>496</td>\n",
       "    </tr>\n",
       "    <tr>\n",
       "      <th>...</th>\n",
       "      <td>...</td>\n",
       "      <td>...</td>\n",
       "      <td>...</td>\n",
       "    </tr>\n",
       "    <tr>\n",
       "      <th>6494</th>\n",
       "      <td>575905f14f00a35cd78292cca34d247285dba5e9</td>\n",
       "      <td>ca5a36444b047eb95e491fa2e70f968ae048ab10</td>\n",
       "      <td>1</td>\n",
       "    </tr>\n",
       "    <tr>\n",
       "      <th>6495</th>\n",
       "      <td>575a15e5ce9c7d65094333b9414cfcee1f49b9e9</td>\n",
       "      <td>5481655e85d7b477c2b37270be825fab0638e137</td>\n",
       "      <td>1</td>\n",
       "    </tr>\n",
       "    <tr>\n",
       "      <th>6496</th>\n",
       "      <td>575b3cf0642ac6ed9893dc02a0e541aef93183e2</td>\n",
       "      <td>79b10e6c830d5c4d8ef7ac53ac685df439ad6f23</td>\n",
       "      <td>1</td>\n",
       "    </tr>\n",
       "    <tr>\n",
       "      <th>6497</th>\n",
       "      <td>575e5b90c000c38c665a032eb1dca6805119a866</td>\n",
       "      <td>7a592c4a3d20f50b2ba09a85b67c6d2fc925664b</td>\n",
       "      <td>1</td>\n",
       "    </tr>\n",
       "    <tr>\n",
       "      <th>18843</th>\n",
       "      <td>fffcbfb3eaf9fa661b1855730265449a7de3ec7d</td>\n",
       "      <td>7a592c4a3d20f50b2ba09a85b67c6d2fc925664b</td>\n",
       "      <td>1</td>\n",
       "    </tr>\n",
       "  </tbody>\n",
       "</table>\n",
       "<p>18759 rows × 3 columns</p>\n",
       "</div>"
      ],
      "text/plain": [
       "                                            mac  \\\n",
       "15559  d29675014f618f3ef3f6b75f146b4be71c513c16   \n",
       "6917   5cbcffeab5fa9206a8c2712ef085daab688dd086   \n",
       "2946   273a50bed34ca35e5d1987ea3b05ce765aae0e0e   \n",
       "8270   6ec65bc349733bc0e85d17294d3a9cb6d8b8bdc8   \n",
       "16403  de6157c0185924febf402efa9e4c36a4cbe4cbb1   \n",
       "...                                         ...   \n",
       "6494   575905f14f00a35cd78292cca34d247285dba5e9   \n",
       "6495   575a15e5ce9c7d65094333b9414cfcee1f49b9e9   \n",
       "6496   575b3cf0642ac6ed9893dc02a0e541aef93183e2   \n",
       "6497   575e5b90c000c38c665a032eb1dca6805119a866   \n",
       "18843  fffcbfb3eaf9fa661b1855730265449a7de3ec7d   \n",
       "\n",
       "                                           ssid  connections  \n",
       "15559  cca78a1e963f3ba3443bf3e54a9aa939f73d223d        12807  \n",
       "6917   cca78a1e963f3ba3443bf3e54a9aa939f73d223d         1267  \n",
       "2946   917c1e46b3861300aebf9a14e47a6ec989c7ac9e          933  \n",
       "8270   ffd2edd79fe4bac98610a2ad6892b53395e44e34          724  \n",
       "16403  cca78a1e963f3ba3443bf3e54a9aa939f73d223d          496  \n",
       "...                                         ...          ...  \n",
       "6494   ca5a36444b047eb95e491fa2e70f968ae048ab10            1  \n",
       "6495   5481655e85d7b477c2b37270be825fab0638e137            1  \n",
       "6496   79b10e6c830d5c4d8ef7ac53ac685df439ad6f23            1  \n",
       "6497   7a592c4a3d20f50b2ba09a85b67c6d2fc925664b            1  \n",
       "18843  7a592c4a3d20f50b2ba09a85b67c6d2fc925664b            1  \n",
       "\n",
       "[18759 rows x 3 columns]"
      ]
     },
     "execution_count": 643,
     "metadata": {},
     "output_type": "execute_result"
    }
   ],
   "source": [
    "# Agrupamos el dataframe por mac y por ssid, haciendo un conteo para visualizar\n",
    "# el nº de veces que un dispositivo se ha conectado a una ssid en concreto.\n",
    "sorted_macs = sensor_df.groupby(by=[\"mac\", \"ssid\"])['date'].count().reset_index(name=\"connections\").sort_values('connections', ascending = False)\n",
    "\n",
    "# Haciendo un group by por mac, obtenemos el id del registro de aquellos conteos máximos, es decir,\n",
    "# para cada dispositivo calculamos el valor máximo (máximo número de conexiones a las redes) y obtenemos\n",
    "# su id para después poder referenciar el dispositivo y la red que ha tenido más conexiones por su parte.\n",
    "idx_max_macs = sorted_macs.groupby(['mac'])['connections'].idxmax()\n",
    "\n",
    "# Obtenemos los registros en base a los índices calculados anteriormente y ordenamos de forma descendente.\n",
    "sorted_macs  = sorted_macs.loc[idx_max_macs].sort_values('connections', ascending = False)\n",
    "\n",
    "sorted_macs"
   ]
  },
  {
   "cell_type": "code",
   "execution_count": 644,
   "id": "5219b9a1-ae5a-4564-924b-3e6b53df302c",
   "metadata": {},
   "outputs": [
    {
     "name": "stdout",
     "output_type": "stream",
     "text": [
      "Routers únicos a los que se han conectado los dispositivos alguna vez: 1004\n",
      "Routers únicos total registrados por el camión de basura (total ciudad): 34259\n"
     ]
    }
   ],
   "source": [
    "# Routers únicos a los que se han conectado los dispositivos alguna vez\n",
    "print(f'Routers únicos a los que se han conectado los dispositivos alguna vez: {len(sorted_macs.ssid.unique())}')\n",
    "# Routers únicos total registrados por el camión de basura (total ciudad).\n",
    "print(f'Routers únicos total registrados por el camión de basura (total ciudad): {len(ssids_df.ssid.unique())}')\n",
    "\n",
    "# Existen muchos más routers detectados por el camión que puntos de acceso únicos a los que se conectan los móviles."
   ]
  },
  {
   "cell_type": "markdown",
   "id": "3d8f598e-c68e-4a90-a992-7a3c03b51757",
   "metadata": {},
   "source": [
    "Como la conexión favorita de los dispositivos no debe ser de Alcoy, eliminaremos aquellos dispositivos cuya conexión favorita sabemos que es de Alcoy."
   ]
  },
  {
   "cell_type": "code",
   "execution_count": 645,
   "id": "0590b10c-4a49-400b-adb8-699cc9159e29",
   "metadata": {},
   "outputs": [
    {
     "data": {
      "text/html": [
       "<div>\n",
       "<style scoped>\n",
       "    .dataframe tbody tr th:only-of-type {\n",
       "        vertical-align: middle;\n",
       "    }\n",
       "\n",
       "    .dataframe tbody tr th {\n",
       "        vertical-align: top;\n",
       "    }\n",
       "\n",
       "    .dataframe thead th {\n",
       "        text-align: right;\n",
       "    }\n",
       "</style>\n",
       "<table border=\"1\" class=\"dataframe\">\n",
       "  <thead>\n",
       "    <tr style=\"text-align: right;\">\n",
       "      <th></th>\n",
       "      <th>mac</th>\n",
       "      <th>ssid</th>\n",
       "      <th>connections</th>\n",
       "    </tr>\n",
       "  </thead>\n",
       "  <tbody>\n",
       "    <tr>\n",
       "      <th>8270</th>\n",
       "      <td>6ec65bc349733bc0e85d17294d3a9cb6d8b8bdc8</td>\n",
       "      <td>ffd2edd79fe4bac98610a2ad6892b53395e44e34</td>\n",
       "      <td>724</td>\n",
       "    </tr>\n",
       "    <tr>\n",
       "      <th>14608</th>\n",
       "      <td>c5cf42dbeeeec2c87097c74cb45c72343b70f5a5</td>\n",
       "      <td>ca5a36444b047eb95e491fa2e70f968ae048ab10</td>\n",
       "      <td>105</td>\n",
       "    </tr>\n",
       "    <tr>\n",
       "      <th>17411</th>\n",
       "      <td>ec4931e131e3ffbabb54c05249f97db9f0684c93</td>\n",
       "      <td>ffd2edd79fe4bac98610a2ad6892b53395e44e34</td>\n",
       "      <td>100</td>\n",
       "    </tr>\n",
       "    <tr>\n",
       "      <th>2886</th>\n",
       "      <td>2645ffe542737dd58232ebd8eab47245ebd631ce</td>\n",
       "      <td>cfaeaac13a5e3e68077133a0886eea13760f146f</td>\n",
       "      <td>76</td>\n",
       "    </tr>\n",
       "    <tr>\n",
       "      <th>9173</th>\n",
       "      <td>7b535408d7c0ada32bca60984ffb653ae4100708</td>\n",
       "      <td>bcdb505c4bee05b51423fdce27786e07fa7af46d</td>\n",
       "      <td>75</td>\n",
       "    </tr>\n",
       "    <tr>\n",
       "      <th>...</th>\n",
       "      <td>...</td>\n",
       "      <td>...</td>\n",
       "      <td>...</td>\n",
       "    </tr>\n",
       "    <tr>\n",
       "      <th>6489</th>\n",
       "      <td>57458c53b83c7ad8b7afbcf00b89559ae053d70c</td>\n",
       "      <td>2aa3b84471cfaa3ab3ec92df5cc92f56617bec59</td>\n",
       "      <td>1</td>\n",
       "    </tr>\n",
       "    <tr>\n",
       "      <th>6493</th>\n",
       "      <td>575588aec3617b91ea18facfd1e52a939b47dd6f</td>\n",
       "      <td>b67ede98966e4c418becb185d7efc74e2f59aa15</td>\n",
       "      <td>1</td>\n",
       "    </tr>\n",
       "    <tr>\n",
       "      <th>6494</th>\n",
       "      <td>575905f14f00a35cd78292cca34d247285dba5e9</td>\n",
       "      <td>ca5a36444b047eb95e491fa2e70f968ae048ab10</td>\n",
       "      <td>1</td>\n",
       "    </tr>\n",
       "    <tr>\n",
       "      <th>6495</th>\n",
       "      <td>575a15e5ce9c7d65094333b9414cfcee1f49b9e9</td>\n",
       "      <td>5481655e85d7b477c2b37270be825fab0638e137</td>\n",
       "      <td>1</td>\n",
       "    </tr>\n",
       "    <tr>\n",
       "      <th>6496</th>\n",
       "      <td>575b3cf0642ac6ed9893dc02a0e541aef93183e2</td>\n",
       "      <td>79b10e6c830d5c4d8ef7ac53ac685df439ad6f23</td>\n",
       "      <td>1</td>\n",
       "    </tr>\n",
       "  </tbody>\n",
       "</table>\n",
       "<p>10876 rows × 3 columns</p>\n",
       "</div>"
      ],
      "text/plain": [
       "                                            mac  \\\n",
       "8270   6ec65bc349733bc0e85d17294d3a9cb6d8b8bdc8   \n",
       "14608  c5cf42dbeeeec2c87097c74cb45c72343b70f5a5   \n",
       "17411  ec4931e131e3ffbabb54c05249f97db9f0684c93   \n",
       "2886   2645ffe542737dd58232ebd8eab47245ebd631ce   \n",
       "9173   7b535408d7c0ada32bca60984ffb653ae4100708   \n",
       "...                                         ...   \n",
       "6489   57458c53b83c7ad8b7afbcf00b89559ae053d70c   \n",
       "6493   575588aec3617b91ea18facfd1e52a939b47dd6f   \n",
       "6494   575905f14f00a35cd78292cca34d247285dba5e9   \n",
       "6495   575a15e5ce9c7d65094333b9414cfcee1f49b9e9   \n",
       "6496   575b3cf0642ac6ed9893dc02a0e541aef93183e2   \n",
       "\n",
       "                                           ssid  connections  \n",
       "8270   ffd2edd79fe4bac98610a2ad6892b53395e44e34          724  \n",
       "14608  ca5a36444b047eb95e491fa2e70f968ae048ab10          105  \n",
       "17411  ffd2edd79fe4bac98610a2ad6892b53395e44e34          100  \n",
       "2886   cfaeaac13a5e3e68077133a0886eea13760f146f           76  \n",
       "9173   bcdb505c4bee05b51423fdce27786e07fa7af46d           75  \n",
       "...                                         ...          ...  \n",
       "6489   2aa3b84471cfaa3ab3ec92df5cc92f56617bec59            1  \n",
       "6493   b67ede98966e4c418becb185d7efc74e2f59aa15            1  \n",
       "6494   ca5a36444b047eb95e491fa2e70f968ae048ab10            1  \n",
       "6495   5481655e85d7b477c2b37270be825fab0638e137            1  \n",
       "6496   79b10e6c830d5c4d8ef7ac53ac685df439ad6f23            1  \n",
       "\n",
       "[10876 rows x 3 columns]"
      ]
     },
     "execution_count": 645,
     "metadata": {},
     "output_type": "execute_result"
    }
   ],
   "source": [
    "sorted_macs = sorted_macs[~sorted_macs.ssid.isin(ssids_df.ssid)]\n",
    "sorted_macs"
   ]
  },
  {
   "cell_type": "markdown",
   "id": "441c611f-441c-4cb5-aff6-32a19b88cab8",
   "metadata": {},
   "source": [
    "## Quiz Analysis"
   ]
  },
  {
   "cell_type": "code",
   "execution_count": 646,
   "id": "24026f7a-598d-4426-9b7d-e72e9bead004",
   "metadata": {},
   "outputs": [
    {
     "name": "stderr",
     "output_type": "stream",
     "text": [
      "C:\\ProgramData\\Anaconda3\\lib\\site-packages\\dateutil\\parser\\_parser.py:1207: UnknownTimezoneWarning:\n",
      "\n",
      "tzname EET identified but not understood.  Pass `tzinfos` argument in order to correctly return a timezone-aware datetime.  In a future version, this will raise an exception.\n",
      "\n"
     ]
    },
    {
     "data": {
      "text/html": [
       "<div>\n",
       "<style scoped>\n",
       "    .dataframe tbody tr th:only-of-type {\n",
       "        vertical-align: middle;\n",
       "    }\n",
       "\n",
       "    .dataframe tbody tr th {\n",
       "        vertical-align: top;\n",
       "    }\n",
       "\n",
       "    .dataframe thead th {\n",
       "        text-align: right;\n",
       "    }\n",
       "</style>\n",
       "<table border=\"1\" class=\"dataframe\">\n",
       "  <thead>\n",
       "    <tr style=\"text-align: right;\">\n",
       "      <th></th>\n",
       "      <th>date</th>\n",
       "      <th>residence_1</th>\n",
       "      <th>residence_2</th>\n",
       "      <th>companions_number</th>\n",
       "      <th>companions_visited_info_office</th>\n",
       "      <th>wifi_enabled</th>\n",
       "    </tr>\n",
       "  </thead>\n",
       "  <tbody>\n",
       "    <tr>\n",
       "      <th>0</th>\n",
       "      <td>2021-06-22 10:05:40</td>\n",
       "      <td>Alcoi</td>\n",
       "      <td>NaN</td>\n",
       "      <td>2</td>\n",
       "      <td>2</td>\n",
       "      <td>No entiendo la pregunta</td>\n",
       "    </tr>\n",
       "    <tr>\n",
       "      <th>1</th>\n",
       "      <td>2021-06-22 10:58:33</td>\n",
       "      <td>España</td>\n",
       "      <td>Madrid</td>\n",
       "      <td>0</td>\n",
       "      <td>0</td>\n",
       "      <td>No</td>\n",
       "    </tr>\n",
       "    <tr>\n",
       "      <th>2</th>\n",
       "      <td>2021-06-23 10:13:42</td>\n",
       "      <td>Alcoi</td>\n",
       "      <td>NaN</td>\n",
       "      <td>0</td>\n",
       "      <td>0</td>\n",
       "      <td>Sí</td>\n",
       "    </tr>\n",
       "    <tr>\n",
       "      <th>3</th>\n",
       "      <td>2021-06-23 10:14:04</td>\n",
       "      <td>España</td>\n",
       "      <td>Amposta</td>\n",
       "      <td>1</td>\n",
       "      <td>1</td>\n",
       "      <td>Sí</td>\n",
       "    </tr>\n",
       "    <tr>\n",
       "      <th>4</th>\n",
       "      <td>2021-06-23 10:46:55</td>\n",
       "      <td>Internacional</td>\n",
       "      <td>Belgica</td>\n",
       "      <td>1</td>\n",
       "      <td>1</td>\n",
       "      <td>Sí</td>\n",
       "    </tr>\n",
       "    <tr>\n",
       "      <th>...</th>\n",
       "      <td>...</td>\n",
       "      <td>...</td>\n",
       "      <td>...</td>\n",
       "      <td>...</td>\n",
       "      <td>...</td>\n",
       "      <td>...</td>\n",
       "    </tr>\n",
       "    <tr>\n",
       "      <th>2592</th>\n",
       "      <td>2022-02-28 17:11:25</td>\n",
       "      <td>Internacional</td>\n",
       "      <td>Francia</td>\n",
       "      <td>4</td>\n",
       "      <td>4</td>\n",
       "      <td>Sí</td>\n",
       "    </tr>\n",
       "    <tr>\n",
       "      <th>2593</th>\n",
       "      <td>2022-02-28 17:46:35</td>\n",
       "      <td>Comunidad Valenciana</td>\n",
       "      <td>Torreviaje</td>\n",
       "      <td>1</td>\n",
       "      <td>1</td>\n",
       "      <td>No</td>\n",
       "    </tr>\n",
       "    <tr>\n",
       "      <th>2594</th>\n",
       "      <td>2022-02-28 18:21:35</td>\n",
       "      <td>Internacional</td>\n",
       "      <td>Chile</td>\n",
       "      <td>0</td>\n",
       "      <td>0</td>\n",
       "      <td>No</td>\n",
       "    </tr>\n",
       "    <tr>\n",
       "      <th>2595</th>\n",
       "      <td>2022-02-28 18:22:04</td>\n",
       "      <td>Alcoi</td>\n",
       "      <td>NaN</td>\n",
       "      <td>2</td>\n",
       "      <td>2</td>\n",
       "      <td>Sí</td>\n",
       "    </tr>\n",
       "    <tr>\n",
       "      <th>2596</th>\n",
       "      <td>2022-02-28 19:01:29</td>\n",
       "      <td>España</td>\n",
       "      <td>Granada</td>\n",
       "      <td>1</td>\n",
       "      <td>1</td>\n",
       "      <td>Sí</td>\n",
       "    </tr>\n",
       "  </tbody>\n",
       "</table>\n",
       "<p>2597 rows × 6 columns</p>\n",
       "</div>"
      ],
      "text/plain": [
       "                    date           residence_1 residence_2  companions_number  \\\n",
       "0    2021-06-22 10:05:40                 Alcoi         NaN                  2   \n",
       "1    2021-06-22 10:58:33                España      Madrid                  0   \n",
       "2    2021-06-23 10:13:42                 Alcoi         NaN                  0   \n",
       "3    2021-06-23 10:14:04                España     Amposta                  1   \n",
       "4    2021-06-23 10:46:55         Internacional     Belgica                  1   \n",
       "...                  ...                   ...         ...                ...   \n",
       "2592 2022-02-28 17:11:25         Internacional     Francia                  4   \n",
       "2593 2022-02-28 17:46:35  Comunidad Valenciana  Torreviaje                  1   \n",
       "2594 2022-02-28 18:21:35         Internacional       Chile                  0   \n",
       "2595 2022-02-28 18:22:04                 Alcoi         NaN                  2   \n",
       "2596 2022-02-28 19:01:29                España     Granada                  1   \n",
       "\n",
       "      companions_visited_info_office             wifi_enabled  \n",
       "0                                  2  No entiendo la pregunta  \n",
       "1                                  0                       No  \n",
       "2                                  0                       Sí  \n",
       "3                                  1                       Sí  \n",
       "4                                  1                       Sí  \n",
       "...                              ...                      ...  \n",
       "2592                               4                       Sí  \n",
       "2593                               1                       No  \n",
       "2594                               0                       No  \n",
       "2595                               2                       Sí  \n",
       "2596                               1                       Sí  \n",
       "\n",
       "[2597 rows x 6 columns]"
      ]
     },
     "execution_count": 646,
     "metadata": {},
     "output_type": "execute_result"
    }
   ],
   "source": [
    "COLUMNS_RENAMED = ['date', 'residence_1', 'residence_2', 'companions_number', 'companions_visited_info_office', 'wifi_enabled']\n",
    "\n",
    "quiz_df.columns = COLUMNS_RENAMED\n",
    "quiz_df['date'] = pd.to_datetime(quiz_df['date'], infer_datetime_format = True)\n",
    "quiz_df['residence_2'] = quiz_df['residence_2'].str.strip()\n",
    "\n",
    "quiz_df"
   ]
  },
  {
   "cell_type": "markdown",
   "id": "86b577f1-99fa-4475-bf7c-53d89815057d",
   "metadata": {},
   "source": [
    "Se muestra un histograma de la procedencia de los turistas que han rellenado la encuesta de las oficinas de turismo:"
   ]
  },
  {
   "cell_type": "code",
   "execution_count": 647,
   "id": "a58beb4a-65aa-409f-a872-ea829e5da23b",
   "metadata": {},
   "outputs": [
    {
     "data": {
      "image/png": "[encoded data removed]",
      "text/plain": [
       "<Figure size 720x360 with 1 Axes>"
      ]
     },
     "metadata": {
      "needs_background": "light"
     },
     "output_type": "display_data"
    }
   ],
   "source": [
    "import seaborn as sns\n",
    "import matplotlib.pyplot as plt\n",
    "\n",
    "top_visitor_places = quiz_df.groupby(['residence_2'])['residence_2'].count().sort_values(ascending = False)\n",
    "plt.figure(figsize=(10, 5))\n",
    "histogram = sns.barplot(x = top_visitor_places[:10].index,\n",
    "                        y = top_visitor_places[:10].values)\n",
    "histogram.tick_params(axis='x', rotation=25)"
   ]
  },
  {
   "cell_type": "code",
   "execution_count": 648,
   "id": "b49a9434-d688-4a6c-ade3-7a16b31af999",
   "metadata": {},
   "outputs": [
    {
     "data": {
      "image/png": "[encoded data removed]",
      "text/plain": [
       "<Figure size 720x360 with 1 Axes>"
      ]
     },
     "metadata": {
      "needs_background": "light"
     },
     "output_type": "display_data"
    }
   ],
   "source": [
    "tourist_wifi_enabled = quiz_df[quiz_df['residence_1'] != 'Alcoi']['wifi_enabled'].value_counts()\n",
    "\n",
    "plt.figure(figsize=(10, 5))\n",
    "histogram = sns.barplot(x = tourist_wifi_enabled.index,\n",
    "                        y = tourist_wifi_enabled.values)\n",
    "\n",
    "histogram.tick_params(axis='x', rotation = 1)"
   ]
  },
  {
   "cell_type": "markdown",
   "id": "6a21bd63-91a3-4426-a612-2ef7b94792e9",
   "metadata": {},
   "source": [
    "Ciñéndonos a los turistas que son conscientes de que han activado el wifi, con el sistema implantado se estaría capturando aproximadamente el 47% de los turistas totales que visitan la ciudad."
   ]
  },
  {
   "cell_type": "code",
   "execution_count": 649,
   "id": "e03e0981-71db-4cf0-ae99-03f87276b786",
   "metadata": {},
   "outputs": [],
   "source": [
    "quiz_df['date'] = quiz_df['date'].dt.strftime('%Y-%m')\n",
    "single_tourist_info_visitors = quiz_df.loc[quiz_df.index.repeat(quiz_df.companions_number)]\n",
    "tourist_info_visitors = single_tourist_info_visitors.groupby(by = ['date'])['residence_1'].count()"
   ]
  },
  {
   "cell_type": "markdown",
   "id": "81dd0126-fc1f-4a1a-8fee-062d1d0cd5ec",
   "metadata": {},
   "source": [
    "## Time Series Analysis"
   ]
  },
  {
   "cell_type": "markdown",
   "id": "57f27966-51f5-4575-8054-183a41f28847",
   "metadata": {},
   "source": [
    "Obtenemos un total de 10.876 dispositivos cuya red favorita no es de Alcoy, por lo tanto los podemos considerar como turistas."
   ]
  },
  {
   "cell_type": "markdown",
   "id": "0c7d3731-1802-42cf-8a28-9ef54bde777c",
   "metadata": {},
   "source": [
    "En el siguiente apartado convertimos a formato de fecha y renombramos las columnas de `quiz_df`, esto es necesario para realizar otro análisis de los datos que nos permitirá comparar las estadíticas extraidas de la oficina de `Tourist Info` y los datos recolectados por los `Hopus`."
   ]
  },
  {
   "cell_type": "code",
   "execution_count": 650,
   "id": "4912ec07-f486-4bda-a645-2f7cc4ab4d95",
   "metadata": {},
   "outputs": [],
   "source": [
    "COLUMNS_RENAMED = ['date', 'residence_1', 'residence_2', 'companions_number', 'companions_visited_info_office', 'wifi_enabled']\n",
    "\n",
    "\n",
    "quiz_df.columns = COLUMNS_RENAMED\n",
    "quiz_df['date'] = pd.to_datetime(quiz_df['date'], infer_datetime_format = True)\n",
    "quiz_df['residence_2'] = quiz_df['residence_2'].str.strip()"
   ]
  },
  {
   "cell_type": "markdown",
   "id": "34b0d75f-6add-4226-afbc-f3e9b925a5d5",
   "metadata": {},
   "source": [
    "- Convertimos el campo `date` de `quiz_df` en formato de `YYYY-mm` para poder hacer las agrupaciones de los turistas por mes.\n",
    "- Copiamos los datos del dataframe y lo agrupamos por fecha, esto nos permite tener el conteo de de turistas por mes, renombramos las nuevas columnas.\n"
   ]
  },
  {
   "cell_type": "code",
   "execution_count": 651,
   "id": "f69774a0-ec96-4e1b-b17b-94ff7b4965e4",
   "metadata": {},
   "outputs": [],
   "source": [
    "quiz_df['date'] = quiz_df['date'].dt.strftime('%Y-%m')\n",
    "single_tourist_info_visitors = quiz_df.loc[quiz_df.index.repeat(quiz_df.companions_number)]\n",
    "tourist_info_visitors = single_tourist_info_visitors.groupby(by = ['date'])['residence_1'].count()\n",
    "tourist_info_visitors = tourist_info_visitors.to_frame()\n",
    "tourist_info_visitors['tourist_info'] = 'Oficina de Turismo' \n",
    "tourist_info_visitors.columns = ['count', 'tourist_info']"
   ]
  },
  {
   "cell_type": "markdown",
   "id": "0cf30e42-4c18-4c03-8c11-51c43a83c3df",
   "metadata": {},
   "source": [
    "En el siguiente apartado, realizamos una copia de los datos extraidos de los teléfonos móviles mediante el uso de `Hopus` que son los dispositivos que se enecuentran ubicados en puntos estratégicos de Alcoi. Estos dispositivos se encargan de captar los `SSIDs` y los `MAC Address` de los dispositivos moviles que pasan por las zonas estratégicas de **Alcoi**.\n",
    "\n",
    "> Convertimos el campo `date` que se encuentra en formato `Unix Epoch Ms` a `datetime`, de esta extracción agruparemos por año y mes para poder contar el número de turistas que llegan a la ciudad. El dataframe `temporal_analysis_df` ha sido filtrado por los `MAC Address` y `SSIDs` de los dispositivos moviles que fueron prefiltrados y seleccionados como turistas.  "
   ]
  },
  {
   "cell_type": "code",
   "execution_count": 652,
   "id": "767b73c6-dc40-4d49-a5ba-2edd4bc78253",
   "metadata": {},
   "outputs": [],
   "source": [
    "temporal_analysis_df = sensor_df.copy()\n",
    "\n",
    "temporal_analysis_df = temporal_analysis_df[(temporal_analysis_df.ssid.isin(sorted_macs.ssid)) & (temporal_analysis_df.mac.isin(sorted_macs.mac))]\n",
    "\n",
    "# Solo extraemos la fecha para poder hacer el análisis temporal.\n",
    "temporal_analysis_df['date'] = pd.to_datetime(temporal_analysis_df['date'], unit='ms').dt.date\n",
    "temporal_analysis_df['date'] = pd.to_datetime(temporal_analysis_df['date'])\n",
    "temporal_analysis_df['date'] = temporal_analysis_df['date'].dt.strftime('%Y-%m')\n",
    "\n",
    "time_series = temporal_analysis_df.groupby(by=[\"date\"])['mac'].count()\n",
    "time_series = time_series.to_frame()\n",
    "time_series['tourist_info'] = 'Hopus'\n",
    "time_series.columns = ['count', 'tourist_info']"
   ]
  },
  {
   "cell_type": "markdown",
   "id": "f61fb5e9-ea38-4b75-a5ec-bb6e4650cfb3",
   "metadata": {},
   "source": [
    "Concatenamos los dos dataset para poder hacer el análsis de las series temporales."
   ]
  },
  {
   "cell_type": "code",
   "execution_count": 653,
   "id": "ec8d4b2c-1297-4f31-b4f9-7022cd21512b",
   "metadata": {},
   "outputs": [],
   "source": [
    "frames = [time_series, tourist_info_visitors]\n",
    "\n",
    "result = pd.concat(frames)\n",
    "\n",
    "result.reset_index(inplace=True)\n",
    "result = result.rename(columns = {'index':'date'})"
   ]
  },
  {
   "cell_type": "code",
   "execution_count": 654,
   "id": "acaafbd3-4307-47c3-825b-8bd0728ed75d",
   "metadata": {},
   "outputs": [
    {
     "data": {
      "application/vnd.plotly.v1+json": {
       "config": {
        "plotlyServerURL": "https://plot.ly"
       },
       "data": [
        {
         "hovertemplate": "Medio de Obtención de los Datos=Hopus<br>Mes/Año=%{x}<br>Cantidad de Turistas=%{y}<extra></extra>",
         "legendgroup": "Hopus",
         "line": {
          "color": "#636efa",
          "dash": "solid"
         },
         "mode": "lines",
         "name": "Hopus",
         "orientation": "v",
         "showlegend": true,
         "type": "scatter",
         "x": [
          "2021-06",
          "2021-07",
          "2021-08",
          "2021-09",
          "2021-10",
          "2021-11",
          "2021-12",
          "2022-01",
          "2022-02",
          "2022-03",
          "2022-04",
          "2022-05"
         ],
         "xaxis": "x",
         "y": [
          205,
          696,
          638,
          1928,
          1361,
          111,
          1020,
          2710,
          3191,
          539,
          902,
          17
         ],
         "yaxis": "y"
        },
        {
         "hovertemplate": "Medio de Obtención de los Datos=Oficina de Turismo<br>Mes/Año=%{x}<br>Cantidad de Turistas=%{y}<extra></extra>",
         "legendgroup": "Oficina de Turismo",
         "line": {
          "color": "#EF553B",
          "dash": "solid"
         },
         "mode": "lines",
         "name": "Oficina de Turismo",
         "orientation": "v",
         "showlegend": true,
         "type": "scatter",
         "x": [
          "2021-06",
          "2021-07",
          "2021-08",
          "2021-09",
          "2021-10",
          "2021-11",
          "2021-12",
          "2022-01",
          "2022-02"
         ],
         "xaxis": "x",
         "y": [
          57,
          278,
          515,
          230,
          276,
          253,
          540,
          235,
          213
         ],
         "yaxis": "y"
        }
       ],
       "layout": {
        "autosize": true,
        "legend": {
         "title": {
          "text": "Medio de Obtención de los Datos"
         },
         "tracegroupgap": 0
        },
        "template": {
         "data": {
          "bar": [
           {
            "error_x": {
             "color": "#2a3f5f"
            },
            "error_y": {
             "color": "#2a3f5f"
            },
            "marker": {
             "line": {
              "color": "#E5ECF6",
              "width": 0.5
             },
             "pattern": {
              "fillmode": "overlay",
              "size": 10,
              "solidity": 0.2
             }
            },
            "type": "bar"
           }
          ],
          "barpolar": [
           {
            "marker": {
             "line": {
              "color": "#E5ECF6",
              "width": 0.5
             },
             "pattern": {
              "fillmode": "overlay",
              "size": 10,
              "solidity": 0.2
             }
            },
            "type": "barpolar"
           }
          ],
          "carpet": [
           {
            "aaxis": {
             "endlinecolor": "#2a3f5f",
             "gridcolor": "white",
             "linecolor": "white",
             "minorgridcolor": "white",
             "startlinecolor": "#2a3f5f"
            },
            "baxis": {
             "endlinecolor": "#2a3f5f",
             "gridcolor": "white",
             "linecolor": "white",
             "minorgridcolor": "white",
             "startlinecolor": "#2a3f5f"
            },
            "type": "carpet"
           }
          ],
          "choropleth": [
           {
            "colorbar": {
             "outlinewidth": 0,
             "ticks": ""
            },
            "type": "choropleth"
           }
          ],
          "contour": [
           {
            "colorbar": {
             "outlinewidth": 0,
             "ticks": ""
            },
            "colorscale": [
             [
              0,
              "#0d0887"
             ],
             [
              0.1111111111111111,
              "#46039f"
             ],
             [
              0.2222222222222222,
              "#7201a8"
             ],
             [
              0.3333333333333333,
              "#9c179e"
             ],
             [
              0.4444444444444444,
              "#bd3786"
             ],
             [
              0.5555555555555556,
              "#d8576b"
             ],
             [
              0.6666666666666666,
              "#ed7953"
             ],
             [
              0.7777777777777778,
              "#fb9f3a"
             ],
             [
              0.8888888888888888,
              "#fdca26"
             ],
             [
              1,
              "#f0f921"
             ]
            ],
            "type": "contour"
           }
          ],
          "contourcarpet": [
           {
            "colorbar": {
             "outlinewidth": 0,
             "ticks": ""
            },
            "type": "contourcarpet"
           }
          ],
          "heatmap": [
           {
            "colorbar": {
             "outlinewidth": 0,
             "ticks": ""
            },
            "colorscale": [
             [
              0,
              "#0d0887"
             ],
             [
              0.1111111111111111,
              "#46039f"
             ],
             [
              0.2222222222222222,
              "#7201a8"
             ],
             [
              0.3333333333333333,
              "#9c179e"
             ],
             [
              0.4444444444444444,
              "#bd3786"
             ],
             [
              0.5555555555555556,
              "#d8576b"
             ],
             [
              0.6666666666666666,
              "#ed7953"
             ],
             [
              0.7777777777777778,
              "#fb9f3a"
             ],
             [
              0.8888888888888888,
              "#fdca26"
             ],
             [
              1,
              "#f0f921"
             ]
            ],
            "type": "heatmap"
           }
          ],
          "heatmapgl": [
           {
            "colorbar": {
             "outlinewidth": 0,
             "ticks": ""
            },
            "colorscale": [
             [
              0,
              "#0d0887"
             ],
             [
              0.1111111111111111,
              "#46039f"
             ],
             [
              0.2222222222222222,
              "#7201a8"
             ],
             [
              0.3333333333333333,
              "#9c179e"
             ],
             [
              0.4444444444444444,
              "#bd3786"
             ],
             [
              0.5555555555555556,
              "#d8576b"
             ],
             [
              0.6666666666666666,
              "#ed7953"
             ],
             [
              0.7777777777777778,
              "#fb9f3a"
             ],
             [
              0.8888888888888888,
              "#fdca26"
             ],
             [
              1,
              "#f0f921"
             ]
            ],
            "type": "heatmapgl"
           }
          ],
          "histogram": [
           {
            "marker": {
             "pattern": {
              "fillmode": "overlay",
              "size": 10,
              "solidity": 0.2
             }
            },
            "type": "histogram"
           }
          ],
          "histogram2d": [
           {
            "colorbar": {
             "outlinewidth": 0,
             "ticks": ""
            },
            "colorscale": [
             [
              0,
              "#0d0887"
             ],
             [
              0.1111111111111111,
              "#46039f"
             ],
             [
              0.2222222222222222,
              "#7201a8"
             ],
             [
              0.3333333333333333,
              "#9c179e"
             ],
             [
              0.4444444444444444,
              "#bd3786"
             ],
             [
              0.5555555555555556,
              "#d8576b"
             ],
             [
              0.6666666666666666,
              "#ed7953"
             ],
             [
              0.7777777777777778,
              "#fb9f3a"
             ],
             [
              0.8888888888888888,
              "#fdca26"
             ],
             [
              1,
              "#f0f921"
             ]
            ],
            "type": "histogram2d"
           }
          ],
          "histogram2dcontour": [
           {
            "colorbar": {
             "outlinewidth": 0,
             "ticks": ""
            },
            "colorscale": [
             [
              0,
              "#0d0887"
             ],
             [
              0.1111111111111111,
              "#46039f"
             ],
             [
              0.2222222222222222,
              "#7201a8"
             ],
             [
              0.3333333333333333,
              "#9c179e"
             ],
             [
              0.4444444444444444,
              "#bd3786"
             ],
             [
              0.5555555555555556,
              "#d8576b"
             ],
             [
              0.6666666666666666,
              "#ed7953"
             ],
             [
              0.7777777777777778,
              "#fb9f3a"
             ],
             [
              0.8888888888888888,
              "#fdca26"
             ],
             [
              1,
              "#f0f921"
             ]
            ],
            "type": "histogram2dcontour"
           }
          ],
          "mesh3d": [
           {
            "colorbar": {
             "outlinewidth": 0,
             "ticks": ""
            },
            "type": "mesh3d"
           }
          ],
          "parcoords": [
           {
            "line": {
             "colorbar": {
              "outlinewidth": 0,
              "ticks": ""
             }
            },
            "type": "parcoords"
           }
          ],
          "pie": [
           {
            "automargin": true,
            "type": "pie"
           }
          ],
          "scatter": [
           {
            "marker": {
             "colorbar": {
              "outlinewidth": 0,
              "ticks": ""
             }
            },
            "type": "scatter"
           }
          ],
          "scatter3d": [
           {
            "line": {
             "colorbar": {
              "outlinewidth": 0,
              "ticks": ""
             }
            },
            "marker": {
             "colorbar": {
              "outlinewidth": 0,
              "ticks": ""
             }
            },
            "type": "scatter3d"
           }
          ],
          "scattercarpet": [
           {
            "marker": {
             "colorbar": {
              "outlinewidth": 0,
              "ticks": ""
             }
            },
            "type": "scattercarpet"
           }
          ],
          "scattergeo": [
           {
            "marker": {
             "colorbar": {
              "outlinewidth": 0,
              "ticks": ""
             }
            },
            "type": "scattergeo"
           }
          ],
          "scattergl": [
           {
            "marker": {
             "colorbar": {
              "outlinewidth": 0,
              "ticks": ""
             }
            },
            "type": "scattergl"
           }
          ],
          "scattermapbox": [
           {
            "marker": {
             "colorbar": {
              "outlinewidth": 0,
              "ticks": ""
             }
            },
            "type": "scattermapbox"
           }
          ],
          "scatterpolar": [
           {
            "marker": {
             "colorbar": {
              "outlinewidth": 0,
              "ticks": ""
             }
            },
            "type": "scatterpolar"
           }
          ],
          "scatterpolargl": [
           {
            "marker": {
             "colorbar": {
              "outlinewidth": 0,
              "ticks": ""
             }
            },
            "type": "scatterpolargl"
           }
          ],
          "scatterternary": [
           {
            "marker": {
             "colorbar": {
              "outlinewidth": 0,
              "ticks": ""
             }
            },
            "type": "scatterternary"
           }
          ],
          "surface": [
           {
            "colorbar": {
             "outlinewidth": 0,
             "ticks": ""
            },
            "colorscale": [
             [
              0,
              "#0d0887"
             ],
             [
              0.1111111111111111,
              "#46039f"
             ],
             [
              0.2222222222222222,
              "#7201a8"
             ],
             [
              0.3333333333333333,
              "#9c179e"
             ],
             [
              0.4444444444444444,
              "#bd3786"
             ],
             [
              0.5555555555555556,
              "#d8576b"
             ],
             [
              0.6666666666666666,
              "#ed7953"
             ],
             [
              0.7777777777777778,
              "#fb9f3a"
             ],
             [
              0.8888888888888888,
              "#fdca26"
             ],
             [
              1,
              "#f0f921"
             ]
            ],
            "type": "surface"
           }
          ],
          "table": [
           {
            "cells": {
             "fill": {
              "color": "#EBF0F8"
             },
             "line": {
              "color": "white"
             }
            },
            "header": {
             "fill": {
              "color": "#C8D4E3"
             },
             "line": {
              "color": "white"
             }
            },
            "type": "table"
           }
          ]
         },
         "layout": {
          "annotationdefaults": {
           "arrowcolor": "#2a3f5f",
           "arrowhead": 0,
           "arrowwidth": 1
          },
          "autotypenumbers": "strict",
          "coloraxis": {
           "colorbar": {
            "outlinewidth": 0,
            "ticks": ""
           }
          },
          "colorscale": {
           "diverging": [
            [
             0,
             "#8e0152"
            ],
            [
             0.1,
             "#c51b7d"
            ],
            [
             0.2,
             "#de77ae"
            ],
            [
             0.3,
             "#f1b6da"
            ],
            [
             0.4,
             "#fde0ef"
            ],
            [
             0.5,
             "#f7f7f7"
            ],
            [
             0.6,
             "#e6f5d0"
            ],
            [
             0.7,
             "#b8e186"
            ],
            [
             0.8,
             "#7fbc41"
            ],
            [
             0.9,
             "#4d9221"
            ],
            [
             1,
             "#276419"
            ]
           ],
           "sequential": [
            [
             0,
             "#0d0887"
            ],
            [
             0.1111111111111111,
             "#46039f"
            ],
            [
             0.2222222222222222,
             "#7201a8"
            ],
            [
             0.3333333333333333,
             "#9c179e"
            ],
            [
             0.4444444444444444,
             "#bd3786"
            ],
            [
             0.5555555555555556,
             "#d8576b"
            ],
            [
             0.6666666666666666,
             "#ed7953"
            ],
            [
             0.7777777777777778,
             "#fb9f3a"
            ],
            [
             0.8888888888888888,
             "#fdca26"
            ],
            [
             1,
             "#f0f921"
            ]
           ],
           "sequentialminus": [
            [
             0,
             "#0d0887"
            ],
            [
             0.1111111111111111,
             "#46039f"
            ],
            [
             0.2222222222222222,
             "#7201a8"
            ],
            [
             0.3333333333333333,
             "#9c179e"
            ],
            [
             0.4444444444444444,
             "#bd3786"
            ],
            [
             0.5555555555555556,
             "#d8576b"
            ],
            [
             0.6666666666666666,
             "#ed7953"
            ],
            [
             0.7777777777777778,
             "#fb9f3a"
            ],
            [
             0.8888888888888888,
             "#fdca26"
            ],
            [
             1,
             "#f0f921"
            ]
           ]
          },
          "colorway": [
           "#636efa",
           "#EF553B",
           "#00cc96",
           "#ab63fa",
           "#FFA15A",
           "#19d3f3",
           "#FF6692",
           "#B6E880",
           "#FF97FF",
           "#FECB52"
          ],
          "font": {
           "color": "#2a3f5f"
          },
          "geo": {
           "bgcolor": "white",
           "lakecolor": "white",
           "landcolor": "#E5ECF6",
           "showlakes": true,
           "showland": true,
           "subunitcolor": "white"
          },
          "hoverlabel": {
           "align": "left"
          },
          "hovermode": "closest",
          "mapbox": {
           "style": "light"
          },
          "paper_bgcolor": "white",
          "plot_bgcolor": "#E5ECF6",
          "polar": {
           "angularaxis": {
            "gridcolor": "white",
            "linecolor": "white",
            "ticks": ""
           },
           "bgcolor": "#E5ECF6",
           "radialaxis": {
            "gridcolor": "white",
            "linecolor": "white",
            "ticks": ""
           }
          },
          "scene": {
           "xaxis": {
            "backgroundcolor": "#E5ECF6",
            "gridcolor": "white",
            "gridwidth": 2,
            "linecolor": "white",
            "showbackground": true,
            "ticks": "",
            "zerolinecolor": "white"
           },
           "yaxis": {
            "backgroundcolor": "#E5ECF6",
            "gridcolor": "white",
            "gridwidth": 2,
            "linecolor": "white",
            "showbackground": true,
            "ticks": "",
            "zerolinecolor": "white"
           },
           "zaxis": {
            "backgroundcolor": "#E5ECF6",
            "gridcolor": "white",
            "gridwidth": 2,
            "linecolor": "white",
            "showbackground": true,
            "ticks": "",
            "zerolinecolor": "white"
           }
          },
          "shapedefaults": {
           "line": {
            "color": "#2a3f5f"
           }
          },
          "ternary": {
           "aaxis": {
            "gridcolor": "white",
            "linecolor": "white",
            "ticks": ""
           },
           "baxis": {
            "gridcolor": "white",
            "linecolor": "white",
            "ticks": ""
           },
           "bgcolor": "#E5ECF6",
           "caxis": {
            "gridcolor": "white",
            "linecolor": "white",
            "ticks": ""
           }
          },
          "title": {
           "x": 0.05
          },
          "xaxis": {
           "automargin": true,
           "gridcolor": "white",
           "linecolor": "white",
           "ticks": "",
           "title": {
            "standoff": 15
           },
           "zerolinecolor": "white",
           "zerolinewidth": 2
          },
          "yaxis": {
           "automargin": true,
           "gridcolor": "white",
           "linecolor": "white",
           "ticks": "",
           "title": {
            "standoff": 15
           },
           "zerolinecolor": "white",
           "zerolinewidth": 2
          }
         }
        },
        "title": {
         "text": "Distribución Temporal de los Turistas en Alcoi"
        },
        "xaxis": {
         "anchor": "y",
         "autorange": true,
         "domain": [
          0,
          1
         ],
         "dtick": "M1",
         "range": [
          "2021-06-01",
          "2022-05-01"
         ],
         "tickangle": 45,
         "tickformat": "%b\n%Y",
         "title": {
          "text": "Mes/Año"
         },
         "type": "date"
        },
        "yaxis": {
         "anchor": "x",
         "autorange": true,
         "domain": [
          0,
          1
         ],
         "range": [
          -159.33333333333334,
          3367.3333333333335
         ],
         "title": {
          "text": "Cantidad de Turistas"
         },
         "type": "linear"
        }
       }
      },
      "image/png": "[encoded data removed]",
      "text/html": [
       "<div>                            <div id=\"00a0c4b1-e9ba-4f1f-8964-b9e72ee5d01b\" class=\"plotly-graph-div\" style=\"height:525px; width:100%;\"></div>            <script type=\"text/javascript\">                require([\"plotly\"], function(Plotly) {                    window.PLOTLYENV=window.PLOTLYENV || {};                                    if (document.getElementById(\"00a0c4b1-e9ba-4f1f-8964-b9e72ee5d01b\")) {                    Plotly.newPlot(                        \"00a0c4b1-e9ba-4f1f-8964-b9e72ee5d01b\",                        [{\"hovertemplate\":\"Medio de Obtenci\\u00f3n de los Datos=Hopus<br>Mes/A\\u00f1o=%{x}<br>Cantidad de Turistas=%{y}<extra></extra>\",\"legendgroup\":\"Hopus\",\"line\":{\"color\":\"#636efa\",\"dash\":\"solid\"},\"mode\":\"lines\",\"name\":\"Hopus\",\"orientation\":\"v\",\"showlegend\":true,\"type\":\"scatter\",\"x\":[\"2021-06\",\"2021-07\",\"2021-08\",\"2021-09\",\"2021-10\",\"2021-11\",\"2021-12\",\"2022-01\",\"2022-02\",\"2022-03\",\"2022-04\",\"2022-05\"],\"xaxis\":\"x\",\"y\":[205,696,638,1928,1361,111,1020,2710,3191,539,902,17],\"yaxis\":\"y\"},{\"hovertemplate\":\"Medio de Obtenci\\u00f3n de los Datos=Oficina de Turismo<br>Mes/A\\u00f1o=%{x}<br>Cantidad de Turistas=%{y}<extra></extra>\",\"legendgroup\":\"Oficina de Turismo\",\"line\":{\"color\":\"#EF553B\",\"dash\":\"solid\"},\"mode\":\"lines\",\"name\":\"Oficina de Turismo\",\"orientation\":\"v\",\"showlegend\":true,\"type\":\"scatter\",\"x\":[\"2021-06\",\"2021-07\",\"2021-08\",\"2021-09\",\"2021-10\",\"2021-11\",\"2021-12\",\"2022-01\",\"2022-02\"],\"xaxis\":\"x\",\"y\":[57,278,515,230,276,253,540,235,213],\"yaxis\":\"y\"}],                        {\"legend\":{\"title\":{\"text\":\"Medio de Obtenci\\u00f3n de los Datos\"},\"tracegroupgap\":0},\"template\":{\"data\":{\"bar\":[{\"error_x\":{\"color\":\"#2a3f5f\"},\"error_y\":{\"color\":\"#2a3f5f\"},\"marker\":{\"line\":{\"color\":\"#E5ECF6\",\"width\":0.5},\"pattern\":{\"fillmode\":\"overlay\",\"size\":10,\"solidity\":0.2}},\"type\":\"bar\"}],\"barpolar\":[{\"marker\":{\"line\":{\"color\":\"#E5ECF6\",\"width\":0.5},\"pattern\":{\"fillmode\":\"overlay\",\"size\":10,\"solidity\":0.2}},\"type\":\"barpolar\"}],\"carpet\":[{\"aaxis\":{\"endlinecolor\":\"#2a3f5f\",\"gridcolor\":\"white\",\"linecolor\":\"white\",\"minorgridcolor\":\"white\",\"startlinecolor\":\"#2a3f5f\"},\"baxis\":{\"endlinecolor\":\"#2a3f5f\",\"gridcolor\":\"white\",\"linecolor\":\"white\",\"minorgridcolor\":\"white\",\"startlinecolor\":\"#2a3f5f\"},\"type\":\"carpet\"}],\"choropleth\":[{\"colorbar\":{\"outlinewidth\":0,\"ticks\":\"\"},\"type\":\"choropleth\"}],\"contour\":[{\"colorbar\":{\"outlinewidth\":0,\"ticks\":\"\"},\"colorscale\":[[0.0,\"#0d0887\"],[0.1111111111111111,\"#46039f\"],[0.2222222222222222,\"#7201a8\"],[0.3333333333333333,\"#9c179e\"],[0.4444444444444444,\"#bd3786\"],[0.5555555555555556,\"#d8576b\"],[0.6666666666666666,\"#ed7953\"],[0.7777777777777778,\"#fb9f3a\"],[0.8888888888888888,\"#fdca26\"],[1.0,\"#f0f921\"]],\"type\":\"contour\"}],\"contourcarpet\":[{\"colorbar\":{\"outlinewidth\":0,\"ticks\":\"\"},\"type\":\"contourcarpet\"}],\"heatmap\":[{\"colorbar\":{\"outlinewidth\":0,\"ticks\":\"\"},\"colorscale\":[[0.0,\"#0d0887\"],[0.1111111111111111,\"#46039f\"],[0.2222222222222222,\"#7201a8\"],[0.3333333333333333,\"#9c179e\"],[0.4444444444444444,\"#bd3786\"],[0.5555555555555556,\"#d8576b\"],[0.6666666666666666,\"#ed7953\"],[0.7777777777777778,\"#fb9f3a\"],[0.8888888888888888,\"#fdca26\"],[1.0,\"#f0f921\"]],\"type\":\"heatmap\"}],\"heatmapgl\":[{\"colorbar\":{\"outlinewidth\":0,\"ticks\":\"\"},\"colorscale\":[[0.0,\"#0d0887\"],[0.1111111111111111,\"#46039f\"],[0.2222222222222222,\"#7201a8\"],[0.3333333333333333,\"#9c179e\"],[0.4444444444444444,\"#bd3786\"],[0.5555555555555556,\"#d8576b\"],[0.6666666666666666,\"#ed7953\"],[0.7777777777777778,\"#fb9f3a\"],[0.8888888888888888,\"#fdca26\"],[1.0,\"#f0f921\"]],\"type\":\"heatmapgl\"}],\"histogram\":[{\"marker\":{\"pattern\":{\"fillmode\":\"overlay\",\"size\":10,\"solidity\":0.2}},\"type\":\"histogram\"}],\"histogram2d\":[{\"colorbar\":{\"outlinewidth\":0,\"ticks\":\"\"},\"colorscale\":[[0.0,\"#0d0887\"],[0.1111111111111111,\"#46039f\"],[0.2222222222222222,\"#7201a8\"],[0.3333333333333333,\"#9c179e\"],[0.4444444444444444,\"#bd3786\"],[0.5555555555555556,\"#d8576b\"],[0.6666666666666666,\"#ed7953\"],[0.7777777777777778,\"#fb9f3a\"],[0.8888888888888888,\"#fdca26\"],[1.0,\"#f0f921\"]],\"type\":\"histogram2d\"}],\"histogram2dcontour\":[{\"colorbar\":{\"outlinewidth\":0,\"ticks\":\"\"},\"colorscale\":[[0.0,\"#0d0887\"],[0.1111111111111111,\"#46039f\"],[0.2222222222222222,\"#7201a8\"],[0.3333333333333333,\"#9c179e\"],[0.4444444444444444,\"#bd3786\"],[0.5555555555555556,\"#d8576b\"],[0.6666666666666666,\"#ed7953\"],[0.7777777777777778,\"#fb9f3a\"],[0.8888888888888888,\"#fdca26\"],[1.0,\"#f0f921\"]],\"type\":\"histogram2dcontour\"}],\"mesh3d\":[{\"colorbar\":{\"outlinewidth\":0,\"ticks\":\"\"},\"type\":\"mesh3d\"}],\"parcoords\":[{\"line\":{\"colorbar\":{\"outlinewidth\":0,\"ticks\":\"\"}},\"type\":\"parcoords\"}],\"pie\":[{\"automargin\":true,\"type\":\"pie\"}],\"scatter\":[{\"marker\":{\"colorbar\":{\"outlinewidth\":0,\"ticks\":\"\"}},\"type\":\"scatter\"}],\"scatter3d\":[{\"line\":{\"colorbar\":{\"outlinewidth\":0,\"ticks\":\"\"}},\"marker\":{\"colorbar\":{\"outlinewidth\":0,\"ticks\":\"\"}},\"type\":\"scatter3d\"}],\"scattercarpet\":[{\"marker\":{\"colorbar\":{\"outlinewidth\":0,\"ticks\":\"\"}},\"type\":\"scattercarpet\"}],\"scattergeo\":[{\"marker\":{\"colorbar\":{\"outlinewidth\":0,\"ticks\":\"\"}},\"type\":\"scattergeo\"}],\"scattergl\":[{\"marker\":{\"colorbar\":{\"outlinewidth\":0,\"ticks\":\"\"}},\"type\":\"scattergl\"}],\"scattermapbox\":[{\"marker\":{\"colorbar\":{\"outlinewidth\":0,\"ticks\":\"\"}},\"type\":\"scattermapbox\"}],\"scatterpolar\":[{\"marker\":{\"colorbar\":{\"outlinewidth\":0,\"ticks\":\"\"}},\"type\":\"scatterpolar\"}],\"scatterpolargl\":[{\"marker\":{\"colorbar\":{\"outlinewidth\":0,\"ticks\":\"\"}},\"type\":\"scatterpolargl\"}],\"scatterternary\":[{\"marker\":{\"colorbar\":{\"outlinewidth\":0,\"ticks\":\"\"}},\"type\":\"scatterternary\"}],\"surface\":[{\"colorbar\":{\"outlinewidth\":0,\"ticks\":\"\"},\"colorscale\":[[0.0,\"#0d0887\"],[0.1111111111111111,\"#46039f\"],[0.2222222222222222,\"#7201a8\"],[0.3333333333333333,\"#9c179e\"],[0.4444444444444444,\"#bd3786\"],[0.5555555555555556,\"#d8576b\"],[0.6666666666666666,\"#ed7953\"],[0.7777777777777778,\"#fb9f3a\"],[0.8888888888888888,\"#fdca26\"],[1.0,\"#f0f921\"]],\"type\":\"surface\"}],\"table\":[{\"cells\":{\"fill\":{\"color\":\"#EBF0F8\"},\"line\":{\"color\":\"white\"}},\"header\":{\"fill\":{\"color\":\"#C8D4E3\"},\"line\":{\"color\":\"white\"}},\"type\":\"table\"}]},\"layout\":{\"annotationdefaults\":{\"arrowcolor\":\"#2a3f5f\",\"arrowhead\":0,\"arrowwidth\":1},\"autotypenumbers\":\"strict\",\"coloraxis\":{\"colorbar\":{\"outlinewidth\":0,\"ticks\":\"\"}},\"colorscale\":{\"diverging\":[[0,\"#8e0152\"],[0.1,\"#c51b7d\"],[0.2,\"#de77ae\"],[0.3,\"#f1b6da\"],[0.4,\"#fde0ef\"],[0.5,\"#f7f7f7\"],[0.6,\"#e6f5d0\"],[0.7,\"#b8e186\"],[0.8,\"#7fbc41\"],[0.9,\"#4d9221\"],[1,\"#276419\"]],\"sequential\":[[0.0,\"#0d0887\"],[0.1111111111111111,\"#46039f\"],[0.2222222222222222,\"#7201a8\"],[0.3333333333333333,\"#9c179e\"],[0.4444444444444444,\"#bd3786\"],[0.5555555555555556,\"#d8576b\"],[0.6666666666666666,\"#ed7953\"],[0.7777777777777778,\"#fb9f3a\"],[0.8888888888888888,\"#fdca26\"],[1.0,\"#f0f921\"]],\"sequentialminus\":[[0.0,\"#0d0887\"],[0.1111111111111111,\"#46039f\"],[0.2222222222222222,\"#7201a8\"],[0.3333333333333333,\"#9c179e\"],[0.4444444444444444,\"#bd3786\"],[0.5555555555555556,\"#d8576b\"],[0.6666666666666666,\"#ed7953\"],[0.7777777777777778,\"#fb9f3a\"],[0.8888888888888888,\"#fdca26\"],[1.0,\"#f0f921\"]]},\"colorway\":[\"#636efa\",\"#EF553B\",\"#00cc96\",\"#ab63fa\",\"#FFA15A\",\"#19d3f3\",\"#FF6692\",\"#B6E880\",\"#FF97FF\",\"#FECB52\"],\"font\":{\"color\":\"#2a3f5f\"},\"geo\":{\"bgcolor\":\"white\",\"lakecolor\":\"white\",\"landcolor\":\"#E5ECF6\",\"showlakes\":true,\"showland\":true,\"subunitcolor\":\"white\"},\"hoverlabel\":{\"align\":\"left\"},\"hovermode\":\"closest\",\"mapbox\":{\"style\":\"light\"},\"paper_bgcolor\":\"white\",\"plot_bgcolor\":\"#E5ECF6\",\"polar\":{\"angularaxis\":{\"gridcolor\":\"white\",\"linecolor\":\"white\",\"ticks\":\"\"},\"bgcolor\":\"#E5ECF6\",\"radialaxis\":{\"gridcolor\":\"white\",\"linecolor\":\"white\",\"ticks\":\"\"}},\"scene\":{\"xaxis\":{\"backgroundcolor\":\"#E5ECF6\",\"gridcolor\":\"white\",\"gridwidth\":2,\"linecolor\":\"white\",\"showbackground\":true,\"ticks\":\"\",\"zerolinecolor\":\"white\"},\"yaxis\":{\"backgroundcolor\":\"#E5ECF6\",\"gridcolor\":\"white\",\"gridwidth\":2,\"linecolor\":\"white\",\"showbackground\":true,\"ticks\":\"\",\"zerolinecolor\":\"white\"},\"zaxis\":{\"backgroundcolor\":\"#E5ECF6\",\"gridcolor\":\"white\",\"gridwidth\":2,\"linecolor\":\"white\",\"showbackground\":true,\"ticks\":\"\",\"zerolinecolor\":\"white\"}},\"shapedefaults\":{\"line\":{\"color\":\"#2a3f5f\"}},\"ternary\":{\"aaxis\":{\"gridcolor\":\"white\",\"linecolor\":\"white\",\"ticks\":\"\"},\"baxis\":{\"gridcolor\":\"white\",\"linecolor\":\"white\",\"ticks\":\"\"},\"bgcolor\":\"#E5ECF6\",\"caxis\":{\"gridcolor\":\"white\",\"linecolor\":\"white\",\"ticks\":\"\"}},\"title\":{\"x\":0.05},\"xaxis\":{\"automargin\":true,\"gridcolor\":\"white\",\"linecolor\":\"white\",\"ticks\":\"\",\"title\":{\"standoff\":15},\"zerolinecolor\":\"white\",\"zerolinewidth\":2},\"yaxis\":{\"automargin\":true,\"gridcolor\":\"white\",\"linecolor\":\"white\",\"ticks\":\"\",\"title\":{\"standoff\":15},\"zerolinecolor\":\"white\",\"zerolinewidth\":2}}},\"title\":{\"text\":\"Distribuci\\u00f3n Temporal de los Turistas en Alcoi\"},\"xaxis\":{\"anchor\":\"y\",\"domain\":[0.0,1.0],\"dtick\":\"M1\",\"tickangle\":45,\"tickformat\":\"%b\\n%Y\",\"title\":{\"text\":\"Mes/A\\u00f1o\"}},\"yaxis\":{\"anchor\":\"x\",\"domain\":[0.0,1.0],\"title\":{\"text\":\"Cantidad de Turistas\"}}},                        {\"responsive\": true}                    ).then(function(){\n",
       "                            \n",
       "var gd = document.getElementById('00a0c4b1-e9ba-4f1f-8964-b9e72ee5d01b');\n",
       "var x = new MutationObserver(function (mutations, observer) {{\n",
       "        var display = window.getComputedStyle(gd).display;\n",
       "        if (!display || display === 'none') {{\n",
       "            console.log([gd, 'removed!']);\n",
       "            Plotly.purge(gd);\n",
       "            observer.disconnect();\n",
       "        }}\n",
       "}});\n",
       "\n",
       "// Listen for the removal of the full notebook cells\n",
       "var notebookContainer = gd.closest('#notebook-container');\n",
       "if (notebookContainer) {{\n",
       "    x.observe(notebookContainer, {childList: true});\n",
       "}}\n",
       "\n",
       "// Listen for the clearing of the current output cell\n",
       "var outputEl = gd.closest('.output');\n",
       "if (outputEl) {{\n",
       "    x.observe(outputEl, {childList: true});\n",
       "}}\n",
       "\n",
       "                        })                };                });            </script>        </div>"
      ]
     },
     "metadata": {},
     "output_type": "display_data"
    }
   ],
   "source": [
    "fig = px.line(result, x='date', y='count', color='tourist_info', \n",
    "                labels={\n",
    "                 \"count\": \"Cantidad de Turistas\",\n",
    "                 \"date\": \"Mes/Año\",\n",
    "                 \"tourist_info\": \"Medio de Obtención de los Datos\"\n",
    "                },\n",
    "              title='Distribución Temporal de los Turistas en Alcoi')\n",
    "fig.update_xaxes(tickangle=45, \n",
    "                dtick=\"M1\",\n",
    "                tickformat=\"%b\\n%Y\")\n",
    "fig.show()"
   ]
  },
  {
   "cell_type": "markdown",
   "id": "6b5dde56-2600-4d16-9852-45831a588415",
   "metadata": {},
   "source": [
    "- Podemos observar que de los datos recolectados del `Hopus` estos representan una mayor proporción comparados a los recolectados por la oficina de `Tourist Info`, esto es un indicador de como menciona el artículo de referencia, las personas más y más se informan mediante internet antes de visitar lugares turísticos.\n",
    "\n",
    "- Menos y menos turistas acuden a las oficnas de información turistica para poder informarse."
   ]
  },
  {
   "cell_type": "markdown",
   "id": "d72f00c4-13c5-490f-9e96-d74bb9ba28a4",
   "metadata": {},
   "source": [
    "# Time Series Prediction"
   ]
  },
  {
   "cell_type": "markdown",
   "id": "9f2e9025-7880-41d8-993e-95c5d12c898f",
   "metadata": {},
   "source": [
    "En el siguiente apartado intentaremos aplicar téçnicas de análisis de series temporales para aproximar la cantidad de turistas en fechas futuras."
   ]
  },
  {
   "cell_type": "code",
   "execution_count": 655,
   "id": "a6782017-aeb4-4c44-8eba-01cb70096a31",
   "metadata": {},
   "outputs": [
    {
     "data": {
      "application/vnd.plotly.v1+json": {
       "config": {
        "plotlyServerURL": "https://plot.ly"
       },
       "data": [
        {
         "hovertemplate": "date=%{x}<br>tourist_number=%{y}<extra></extra>",
         "legendgroup": "",
         "line": {
          "color": "#636efa",
          "dash": "solid"
         },
         "mode": "lines",
         "name": "",
         "orientation": "v",
         "showlegend": false,
         "type": "scatter",
         "x": [
          "2021-06-22T00:00:00",
          "2021-06-23T00:00:00",
          "2021-06-24T00:00:00",
          "2021-06-25T00:00:00",
          "2021-06-26T00:00:00",
          "2021-06-27T00:00:00",
          "2021-06-28T00:00:00",
          "2021-06-29T00:00:00",
          "2021-06-30T00:00:00",
          "2021-07-01T00:00:00",
          "2021-07-02T00:00:00",
          "2021-07-03T00:00:00",
          "2021-07-04T00:00:00",
          "2021-07-05T00:00:00",
          "2021-07-06T00:00:00",
          "2021-07-07T00:00:00",
          "2021-07-08T00:00:00",
          "2021-07-09T00:00:00",
          "2021-07-10T00:00:00",
          "2021-07-11T00:00:00",
          "2021-07-12T00:00:00",
          "2021-07-13T00:00:00",
          "2021-07-14T00:00:00",
          "2021-07-15T00:00:00",
          "2021-07-16T00:00:00",
          "2021-07-17T00:00:00",
          "2021-07-18T00:00:00",
          "2021-07-19T00:00:00",
          "2021-07-20T00:00:00",
          "2021-07-21T00:00:00",
          "2021-07-22T00:00:00",
          "2021-07-23T00:00:00",
          "2021-07-24T00:00:00",
          "2021-07-25T00:00:00",
          "2021-07-26T00:00:00",
          "2021-07-27T00:00:00",
          "2021-07-28T00:00:00",
          "2021-07-29T00:00:00",
          "2021-07-30T00:00:00",
          "2021-07-31T00:00:00",
          "2021-08-01T00:00:00",
          "2021-08-02T00:00:00",
          "2021-08-03T00:00:00",
          "2021-08-04T00:00:00",
          "2021-08-05T00:00:00",
          "2021-08-06T00:00:00",
          "2021-08-07T00:00:00",
          "2021-08-08T00:00:00",
          "2021-08-09T00:00:00",
          "2021-08-10T00:00:00",
          "2021-08-11T00:00:00",
          "2021-08-12T00:00:00",
          "2021-08-13T00:00:00",
          "2021-08-14T00:00:00",
          "2021-08-16T00:00:00",
          "2021-08-17T00:00:00",
          "2021-08-18T00:00:00",
          "2021-08-19T00:00:00",
          "2021-08-20T00:00:00",
          "2021-08-21T00:00:00",
          "2021-08-22T00:00:00",
          "2021-08-23T00:00:00",
          "2021-08-24T00:00:00",
          "2021-08-25T00:00:00",
          "2021-08-26T00:00:00",
          "2021-08-27T00:00:00",
          "2021-08-28T00:00:00",
          "2021-08-29T00:00:00",
          "2021-08-30T00:00:00",
          "2021-08-31T00:00:00",
          "2021-09-01T00:00:00",
          "2021-09-02T00:00:00",
          "2021-09-03T00:00:00",
          "2021-09-04T00:00:00",
          "2021-09-05T00:00:00",
          "2021-09-06T00:00:00",
          "2021-09-07T00:00:00",
          "2021-09-08T00:00:00",
          "2021-09-09T00:00:00",
          "2021-09-10T00:00:00",
          "2021-09-11T00:00:00",
          "2021-09-12T00:00:00",
          "2021-09-13T00:00:00",
          "2021-09-14T00:00:00",
          "2021-09-15T00:00:00",
          "2021-09-16T00:00:00",
          "2021-09-17T00:00:00",
          "2021-09-18T00:00:00",
          "2021-09-19T00:00:00",
          "2021-09-20T00:00:00",
          "2021-09-21T00:00:00",
          "2021-09-22T00:00:00",
          "2021-09-23T00:00:00",
          "2021-09-24T00:00:00",
          "2021-09-25T00:00:00",
          "2021-09-26T00:00:00",
          "2021-09-27T00:00:00",
          "2021-09-28T00:00:00",
          "2021-09-29T00:00:00",
          "2021-09-30T00:00:00",
          "2021-10-01T00:00:00",
          "2021-10-02T00:00:00",
          "2021-10-03T00:00:00",
          "2021-10-04T00:00:00",
          "2021-10-05T00:00:00",
          "2021-10-06T00:00:00",
          "2021-10-07T00:00:00",
          "2021-10-08T00:00:00",
          "2021-10-09T00:00:00",
          "2021-10-10T00:00:00",
          "2021-10-11T00:00:00",
          "2021-10-12T00:00:00",
          "2021-10-13T00:00:00",
          "2021-10-14T00:00:00",
          "2021-10-15T00:00:00",
          "2021-10-16T00:00:00",
          "2021-10-17T00:00:00",
          "2021-10-18T00:00:00",
          "2021-10-20T00:00:00",
          "2021-10-22T00:00:00",
          "2021-10-23T00:00:00",
          "2021-10-24T00:00:00",
          "2021-10-28T00:00:00",
          "2021-10-29T00:00:00",
          "2021-10-30T00:00:00",
          "2021-11-02T00:00:00",
          "2021-11-04T00:00:00",
          "2021-11-06T00:00:00",
          "2021-11-07T00:00:00",
          "2021-11-10T00:00:00",
          "2021-11-11T00:00:00",
          "2021-11-12T00:00:00",
          "2021-11-13T00:00:00",
          "2021-11-14T00:00:00",
          "2021-11-18T00:00:00",
          "2021-11-20T00:00:00",
          "2021-11-21T00:00:00",
          "2021-11-22T00:00:00",
          "2021-11-24T00:00:00",
          "2021-11-25T00:00:00",
          "2021-11-26T00:00:00",
          "2021-11-27T00:00:00",
          "2021-12-01T00:00:00",
          "2021-12-02T00:00:00",
          "2021-12-04T00:00:00",
          "2021-12-07T00:00:00",
          "2021-12-11T00:00:00",
          "2021-12-14T00:00:00",
          "2021-12-15T00:00:00",
          "2021-12-16T00:00:00",
          "2021-12-17T00:00:00",
          "2021-12-18T00:00:00",
          "2021-12-19T00:00:00",
          "2021-12-21T00:00:00",
          "2021-12-22T00:00:00",
          "2021-12-23T00:00:00",
          "2021-12-24T00:00:00",
          "2021-12-26T00:00:00",
          "2021-12-28T00:00:00",
          "2021-12-29T00:00:00",
          "2021-12-30T00:00:00",
          "2022-01-02T00:00:00",
          "2022-01-04T00:00:00",
          "2022-01-05T00:00:00",
          "2022-01-07T00:00:00",
          "2022-01-08T00:00:00",
          "2022-01-11T00:00:00",
          "2022-01-12T00:00:00",
          "2022-01-13T00:00:00",
          "2022-01-14T00:00:00",
          "2022-01-15T00:00:00",
          "2022-01-16T00:00:00",
          "2022-01-17T00:00:00",
          "2022-01-18T00:00:00",
          "2022-01-19T00:00:00",
          "2022-01-20T00:00:00",
          "2022-01-21T00:00:00",
          "2022-01-22T00:00:00",
          "2022-01-23T00:00:00",
          "2022-01-24T00:00:00",
          "2022-01-25T00:00:00",
          "2022-01-26T00:00:00",
          "2022-01-27T00:00:00",
          "2022-01-28T00:00:00",
          "2022-01-29T00:00:00",
          "2022-01-30T00:00:00",
          "2022-01-31T00:00:00",
          "2022-02-01T00:00:00",
          "2022-02-02T00:00:00",
          "2022-02-03T00:00:00",
          "2022-02-04T00:00:00",
          "2022-02-06T00:00:00",
          "2022-02-07T00:00:00",
          "2022-02-08T00:00:00",
          "2022-02-09T00:00:00",
          "2022-02-10T00:00:00",
          "2022-02-11T00:00:00",
          "2022-02-12T00:00:00",
          "2022-02-14T00:00:00",
          "2022-02-15T00:00:00",
          "2022-02-16T00:00:00",
          "2022-02-17T00:00:00",
          "2022-02-18T00:00:00",
          "2022-02-19T00:00:00",
          "2022-02-20T00:00:00",
          "2022-02-21T00:00:00",
          "2022-02-22T00:00:00",
          "2022-02-23T00:00:00",
          "2022-02-24T00:00:00",
          "2022-02-25T00:00:00",
          "2022-02-26T00:00:00",
          "2022-02-28T00:00:00",
          "2022-03-01T00:00:00",
          "2022-03-02T00:00:00",
          "2022-03-03T00:00:00",
          "2022-03-06T00:00:00",
          "2022-03-07T00:00:00",
          "2022-03-08T00:00:00",
          "2022-03-09T00:00:00",
          "2022-03-10T00:00:00",
          "2022-03-11T00:00:00",
          "2022-03-12T00:00:00",
          "2022-03-13T00:00:00",
          "2022-03-14T00:00:00",
          "2022-03-15T00:00:00",
          "2022-03-16T00:00:00",
          "2022-03-17T00:00:00",
          "2022-03-18T00:00:00",
          "2022-03-19T00:00:00",
          "2022-03-21T00:00:00",
          "2022-03-22T00:00:00",
          "2022-03-23T00:00:00",
          "2022-03-24T00:00:00",
          "2022-03-25T00:00:00",
          "2022-03-26T00:00:00",
          "2022-03-27T00:00:00",
          "2022-03-28T00:00:00",
          "2022-03-29T00:00:00",
          "2022-03-30T00:00:00",
          "2022-03-31T00:00:00",
          "2022-04-01T00:00:00",
          "2022-04-02T00:00:00",
          "2022-04-03T00:00:00",
          "2022-04-04T00:00:00",
          "2022-04-05T00:00:00",
          "2022-04-06T00:00:00",
          "2022-04-07T00:00:00",
          "2022-04-08T00:00:00",
          "2022-04-09T00:00:00",
          "2022-04-10T00:00:00",
          "2022-04-11T00:00:00",
          "2022-04-12T00:00:00",
          "2022-04-13T00:00:00",
          "2022-04-17T00:00:00",
          "2022-04-19T00:00:00",
          "2022-04-20T00:00:00",
          "2022-04-21T00:00:00",
          "2022-04-22T00:00:00",
          "2022-04-23T00:00:00",
          "2022-04-24T00:00:00",
          "2022-04-25T00:00:00",
          "2022-04-26T00:00:00",
          "2022-04-27T00:00:00",
          "2022-04-28T00:00:00",
          "2022-04-29T00:00:00",
          "2022-04-30T00:00:00",
          "2022-05-02T00:00:00"
         ],
         "xaxis": "x",
         "y": [
          68,
          31,
          6,
          7,
          3,
          1,
          39,
          30,
          20,
          47,
          28,
          1,
          1,
          35,
          33,
          49,
          87,
          32,
          9,
          1,
          24,
          9,
          19,
          35,
          4,
          13,
          1,
          8,
          9,
          30,
          8,
          7,
          3,
          1,
          32,
          53,
          30,
          58,
          26,
          3,
          5,
          31,
          17,
          24,
          62,
          77,
          6,
          3,
          62,
          28,
          39,
          34,
          24,
          7,
          10,
          10,
          14,
          4,
          12,
          4,
          2,
          4,
          31,
          3,
          17,
          39,
          25,
          11,
          22,
          11,
          6,
          7,
          12,
          73,
          6,
          89,
          10,
          150,
          49,
          26,
          212,
          7,
          26,
          24,
          76,
          22,
          11,
          225,
          195,
          49,
          35,
          89,
          7,
          95,
          91,
          174,
          57,
          6,
          83,
          16,
          79,
          9,
          42,
          65,
          310,
          102,
          116,
          72,
          100,
          50,
          18,
          23,
          23,
          295,
          7,
          6,
          4,
          1,
          16,
          7,
          1,
          4,
          1,
          1,
          9,
          2,
          4,
          14,
          3,
          2,
          1,
          16,
          1,
          2,
          2,
          9,
          3,
          8,
          1,
          4,
          2,
          37,
          4,
          4,
          5,
          2,
          28,
          1,
          10,
          14,
          15,
          15,
          19,
          1,
          246,
          14,
          103,
          13,
          115,
          378,
          33,
          29,
          117,
          181,
          252,
          17,
          143,
          32,
          253,
          59,
          178,
          15,
          94,
          40,
          131,
          348,
          262,
          146,
          10,
          31,
          28,
          122,
          80,
          72,
          9,
          4,
          57,
          253,
          35,
          59,
          191,
          5,
          241,
          134,
          125,
          200,
          47,
          12,
          167,
          162,
          337,
          339,
          186,
          25,
          1,
          112,
          129,
          142,
          140,
          104,
          6,
          39,
          17,
          39,
          18,
          12,
          14,
          15,
          2,
          22,
          9,
          8,
          7,
          10,
          9,
          9,
          19,
          16,
          1,
          23,
          39,
          11,
          29,
          33,
          2,
          6,
          101,
          15,
          9,
          44,
          32,
          5,
          6,
          85,
          6,
          126,
          17,
          42,
          3,
          7,
          188,
          21,
          70,
          1,
          48,
          11,
          8,
          2,
          45,
          1,
          1,
          19,
          30,
          87,
          21,
          20,
          17
         ],
         "yaxis": "y"
        }
       ],
       "layout": {
        "autosize": true,
        "legend": {
         "tracegroupgap": 0
        },
        "margin": {
         "t": 60
        },
        "template": {
         "data": {
          "bar": [
           {
            "error_x": {
             "color": "#2a3f5f"
            },
            "error_y": {
             "color": "#2a3f5f"
            },
            "marker": {
             "line": {
              "color": "#E5ECF6",
              "width": 0.5
             },
             "pattern": {
              "fillmode": "overlay",
              "size": 10,
              "solidity": 0.2
             }
            },
            "type": "bar"
           }
          ],
          "barpolar": [
           {
            "marker": {
             "line": {
              "color": "#E5ECF6",
              "width": 0.5
             },
             "pattern": {
              "fillmode": "overlay",
              "size": 10,
              "solidity": 0.2
             }
            },
            "type": "barpolar"
           }
          ],
          "carpet": [
           {
            "aaxis": {
             "endlinecolor": "#2a3f5f",
             "gridcolor": "white",
             "linecolor": "white",
             "minorgridcolor": "white",
             "startlinecolor": "#2a3f5f"
            },
            "baxis": {
             "endlinecolor": "#2a3f5f",
             "gridcolor": "white",
             "linecolor": "white",
             "minorgridcolor": "white",
             "startlinecolor": "#2a3f5f"
            },
            "type": "carpet"
           }
          ],
          "choropleth": [
           {
            "colorbar": {
             "outlinewidth": 0,
             "ticks": ""
            },
            "type": "choropleth"
           }
          ],
          "contour": [
           {
            "colorbar": {
             "outlinewidth": 0,
             "ticks": ""
            },
            "colorscale": [
             [
              0,
              "#0d0887"
             ],
             [
              0.1111111111111111,
              "#46039f"
             ],
             [
              0.2222222222222222,
              "#7201a8"
             ],
             [
              0.3333333333333333,
              "#9c179e"
             ],
             [
              0.4444444444444444,
              "#bd3786"
             ],
             [
              0.5555555555555556,
              "#d8576b"
             ],
             [
              0.6666666666666666,
              "#ed7953"
             ],
             [
              0.7777777777777778,
              "#fb9f3a"
             ],
             [
              0.8888888888888888,
              "#fdca26"
             ],
             [
              1,
              "#f0f921"
             ]
            ],
            "type": "contour"
           }
          ],
          "contourcarpet": [
           {
            "colorbar": {
             "outlinewidth": 0,
             "ticks": ""
            },
            "type": "contourcarpet"
           }
          ],
          "heatmap": [
           {
            "colorbar": {
             "outlinewidth": 0,
             "ticks": ""
            },
            "colorscale": [
             [
              0,
              "#0d0887"
             ],
             [
              0.1111111111111111,
              "#46039f"
             ],
             [
              0.2222222222222222,
              "#7201a8"
             ],
             [
              0.3333333333333333,
              "#9c179e"
             ],
             [
              0.4444444444444444,
              "#bd3786"
             ],
             [
              0.5555555555555556,
              "#d8576b"
             ],
             [
              0.6666666666666666,
              "#ed7953"
             ],
             [
              0.7777777777777778,
              "#fb9f3a"
             ],
             [
              0.8888888888888888,
              "#fdca26"
             ],
             [
              1,
              "#f0f921"
             ]
            ],
            "type": "heatmap"
           }
          ],
          "heatmapgl": [
           {
            "colorbar": {
             "outlinewidth": 0,
             "ticks": ""
            },
            "colorscale": [
             [
              0,
              "#0d0887"
             ],
             [
              0.1111111111111111,
              "#46039f"
             ],
             [
              0.2222222222222222,
              "#7201a8"
             ],
             [
              0.3333333333333333,
              "#9c179e"
             ],
             [
              0.4444444444444444,
              "#bd3786"
             ],
             [
              0.5555555555555556,
              "#d8576b"
             ],
             [
              0.6666666666666666,
              "#ed7953"
             ],
             [
              0.7777777777777778,
              "#fb9f3a"
             ],
             [
              0.8888888888888888,
              "#fdca26"
             ],
             [
              1,
              "#f0f921"
             ]
            ],
            "type": "heatmapgl"
           }
          ],
          "histogram": [
           {
            "marker": {
             "pattern": {
              "fillmode": "overlay",
              "size": 10,
              "solidity": 0.2
             }
            },
            "type": "histogram"
           }
          ],
          "histogram2d": [
           {
            "colorbar": {
             "outlinewidth": 0,
             "ticks": ""
            },
            "colorscale": [
             [
              0,
              "#0d0887"
             ],
             [
              0.1111111111111111,
              "#46039f"
             ],
             [
              0.2222222222222222,
              "#7201a8"
             ],
             [
              0.3333333333333333,
              "#9c179e"
             ],
             [
              0.4444444444444444,
              "#bd3786"
             ],
             [
              0.5555555555555556,
              "#d8576b"
             ],
             [
              0.6666666666666666,
              "#ed7953"
             ],
             [
              0.7777777777777778,
              "#fb9f3a"
             ],
             [
              0.8888888888888888,
              "#fdca26"
             ],
             [
              1,
              "#f0f921"
             ]
            ],
            "type": "histogram2d"
           }
          ],
          "histogram2dcontour": [
           {
            "colorbar": {
             "outlinewidth": 0,
             "ticks": ""
            },
            "colorscale": [
             [
              0,
              "#0d0887"
             ],
             [
              0.1111111111111111,
              "#46039f"
             ],
             [
              0.2222222222222222,
              "#7201a8"
             ],
             [
              0.3333333333333333,
              "#9c179e"
             ],
             [
              0.4444444444444444,
              "#bd3786"
             ],
             [
              0.5555555555555556,
              "#d8576b"
             ],
             [
              0.6666666666666666,
              "#ed7953"
             ],
             [
              0.7777777777777778,
              "#fb9f3a"
             ],
             [
              0.8888888888888888,
              "#fdca26"
             ],
             [
              1,
              "#f0f921"
             ]
            ],
            "type": "histogram2dcontour"
           }
          ],
          "mesh3d": [
           {
            "colorbar": {
             "outlinewidth": 0,
             "ticks": ""
            },
            "type": "mesh3d"
           }
          ],
          "parcoords": [
           {
            "line": {
             "colorbar": {
              "outlinewidth": 0,
              "ticks": ""
             }
            },
            "type": "parcoords"
           }
          ],
          "pie": [
           {
            "automargin": true,
            "type": "pie"
           }
          ],
          "scatter": [
           {
            "marker": {
             "colorbar": {
              "outlinewidth": 0,
              "ticks": ""
             }
            },
            "type": "scatter"
           }
          ],
          "scatter3d": [
           {
            "line": {
             "colorbar": {
              "outlinewidth": 0,
              "ticks": ""
             }
            },
            "marker": {
             "colorbar": {
              "outlinewidth": 0,
              "ticks": ""
             }
            },
            "type": "scatter3d"
           }
          ],
          "scattercarpet": [
           {
            "marker": {
             "colorbar": {
              "outlinewidth": 0,
              "ticks": ""
             }
            },
            "type": "scattercarpet"
           }
          ],
          "scattergeo": [
           {
            "marker": {
             "colorbar": {
              "outlinewidth": 0,
              "ticks": ""
             }
            },
            "type": "scattergeo"
           }
          ],
          "scattergl": [
           {
            "marker": {
             "colorbar": {
              "outlinewidth": 0,
              "ticks": ""
             }
            },
            "type": "scattergl"
           }
          ],
          "scattermapbox": [
           {
            "marker": {
             "colorbar": {
              "outlinewidth": 0,
              "ticks": ""
             }
            },
            "type": "scattermapbox"
           }
          ],
          "scatterpolar": [
           {
            "marker": {
             "colorbar": {
              "outlinewidth": 0,
              "ticks": ""
             }
            },
            "type": "scatterpolar"
           }
          ],
          "scatterpolargl": [
           {
            "marker": {
             "colorbar": {
              "outlinewidth": 0,
              "ticks": ""
             }
            },
            "type": "scatterpolargl"
           }
          ],
          "scatterternary": [
           {
            "marker": {
             "colorbar": {
              "outlinewidth": 0,
              "ticks": ""
             }
            },
            "type": "scatterternary"
           }
          ],
          "surface": [
           {
            "colorbar": {
             "outlinewidth": 0,
             "ticks": ""
            },
            "colorscale": [
             [
              0,
              "#0d0887"
             ],
             [
              0.1111111111111111,
              "#46039f"
             ],
             [
              0.2222222222222222,
              "#7201a8"
             ],
             [
              0.3333333333333333,
              "#9c179e"
             ],
             [
              0.4444444444444444,
              "#bd3786"
             ],
             [
              0.5555555555555556,
              "#d8576b"
             ],
             [
              0.6666666666666666,
              "#ed7953"
             ],
             [
              0.7777777777777778,
              "#fb9f3a"
             ],
             [
              0.8888888888888888,
              "#fdca26"
             ],
             [
              1,
              "#f0f921"
             ]
            ],
            "type": "surface"
           }
          ],
          "table": [
           {
            "cells": {
             "fill": {
              "color": "#EBF0F8"
             },
             "line": {
              "color": "white"
             }
            },
            "header": {
             "fill": {
              "color": "#C8D4E3"
             },
             "line": {
              "color": "white"
             }
            },
            "type": "table"
           }
          ]
         },
         "layout": {
          "annotationdefaults": {
           "arrowcolor": "#2a3f5f",
           "arrowhead": 0,
           "arrowwidth": 1
          },
          "autotypenumbers": "strict",
          "coloraxis": {
           "colorbar": {
            "outlinewidth": 0,
            "ticks": ""
           }
          },
          "colorscale": {
           "diverging": [
            [
             0,
             "#8e0152"
            ],
            [
             0.1,
             "#c51b7d"
            ],
            [
             0.2,
             "#de77ae"
            ],
            [
             0.3,
             "#f1b6da"
            ],
            [
             0.4,
             "#fde0ef"
            ],
            [
             0.5,
             "#f7f7f7"
            ],
            [
             0.6,
             "#e6f5d0"
            ],
            [
             0.7,
             "#b8e186"
            ],
            [
             0.8,
             "#7fbc41"
            ],
            [
             0.9,
             "#4d9221"
            ],
            [
             1,
             "#276419"
            ]
           ],
           "sequential": [
            [
             0,
             "#0d0887"
            ],
            [
             0.1111111111111111,
             "#46039f"
            ],
            [
             0.2222222222222222,
             "#7201a8"
            ],
            [
             0.3333333333333333,
             "#9c179e"
            ],
            [
             0.4444444444444444,
             "#bd3786"
            ],
            [
             0.5555555555555556,
             "#d8576b"
            ],
            [
             0.6666666666666666,
             "#ed7953"
            ],
            [
             0.7777777777777778,
             "#fb9f3a"
            ],
            [
             0.8888888888888888,
             "#fdca26"
            ],
            [
             1,
             "#f0f921"
            ]
           ],
           "sequentialminus": [
            [
             0,
             "#0d0887"
            ],
            [
             0.1111111111111111,
             "#46039f"
            ],
            [
             0.2222222222222222,
             "#7201a8"
            ],
            [
             0.3333333333333333,
             "#9c179e"
            ],
            [
             0.4444444444444444,
             "#bd3786"
            ],
            [
             0.5555555555555556,
             "#d8576b"
            ],
            [
             0.6666666666666666,
             "#ed7953"
            ],
            [
             0.7777777777777778,
             "#fb9f3a"
            ],
            [
             0.8888888888888888,
             "#fdca26"
            ],
            [
             1,
             "#f0f921"
            ]
           ]
          },
          "colorway": [
           "#636efa",
           "#EF553B",
           "#00cc96",
           "#ab63fa",
           "#FFA15A",
           "#19d3f3",
           "#FF6692",
           "#B6E880",
           "#FF97FF",
           "#FECB52"
          ],
          "font": {
           "color": "#2a3f5f"
          },
          "geo": {
           "bgcolor": "white",
           "lakecolor": "white",
           "landcolor": "#E5ECF6",
           "showlakes": true,
           "showland": true,
           "subunitcolor": "white"
          },
          "hoverlabel": {
           "align": "left"
          },
          "hovermode": "closest",
          "mapbox": {
           "style": "light"
          },
          "paper_bgcolor": "white",
          "plot_bgcolor": "#E5ECF6",
          "polar": {
           "angularaxis": {
            "gridcolor": "white",
            "linecolor": "white",
            "ticks": ""
           },
           "bgcolor": "#E5ECF6",
           "radialaxis": {
            "gridcolor": "white",
            "linecolor": "white",
            "ticks": ""
           }
          },
          "scene": {
           "xaxis": {
            "backgroundcolor": "#E5ECF6",
            "gridcolor": "white",
            "gridwidth": 2,
            "linecolor": "white",
            "showbackground": true,
            "ticks": "",
            "zerolinecolor": "white"
           },
           "yaxis": {
            "backgroundcolor": "#E5ECF6",
            "gridcolor": "white",
            "gridwidth": 2,
            "linecolor": "white",
            "showbackground": true,
            "ticks": "",
            "zerolinecolor": "white"
           },
           "zaxis": {
            "backgroundcolor": "#E5ECF6",
            "gridcolor": "white",
            "gridwidth": 2,
            "linecolor": "white",
            "showbackground": true,
            "ticks": "",
            "zerolinecolor": "white"
           }
          },
          "shapedefaults": {
           "line": {
            "color": "#2a3f5f"
           }
          },
          "ternary": {
           "aaxis": {
            "gridcolor": "white",
            "linecolor": "white",
            "ticks": ""
           },
           "baxis": {
            "gridcolor": "white",
            "linecolor": "white",
            "ticks": ""
           },
           "bgcolor": "#E5ECF6",
           "caxis": {
            "gridcolor": "white",
            "linecolor": "white",
            "ticks": ""
           }
          },
          "title": {
           "x": 0.05
          },
          "xaxis": {
           "automargin": true,
           "gridcolor": "white",
           "linecolor": "white",
           "ticks": "",
           "title": {
            "standoff": 15
           },
           "zerolinecolor": "white",
           "zerolinewidth": 2
          },
          "yaxis": {
           "automargin": true,
           "gridcolor": "white",
           "linecolor": "white",
           "ticks": "",
           "title": {
            "standoff": 15
           },
           "zerolinecolor": "white",
           "zerolinewidth": 2
          }
         }
        },
        "xaxis": {
         "anchor": "y",
         "autorange": true,
         "domain": [
          0,
          1
         ],
         "dtick": "M1",
         "range": [
          "2021-06-22",
          "2022-05-02"
         ],
         "tickangle": 45,
         "tickformat": "%b\n%Y",
         "title": {
          "text": "date"
         },
         "type": "date"
        },
        "yaxis": {
         "anchor": "x",
         "autorange": true,
         "domain": [
          0,
          1
         ],
         "range": [
          -19.944444444444446,
          398.94444444444446
         ],
         "title": {
          "text": "tourist_number"
         },
         "type": "linear"
        }
       }
      },
      "image/png": "[encoded data removed]",
      "text/html": [
       "<div>                            <div id=\"88ed7eb2-d71d-4bf4-99e1-9477d51c3549\" class=\"plotly-graph-div\" style=\"height:525px; width:100%;\"></div>            <script type=\"text/javascript\">                require([\"plotly\"], function(Plotly) {                    window.PLOTLYENV=window.PLOTLYENV || {};                                    if (document.getElementById(\"88ed7eb2-d71d-4bf4-99e1-9477d51c3549\")) {                    Plotly.newPlot(                        \"88ed7eb2-d71d-4bf4-99e1-9477d51c3549\",                        [{\"hovertemplate\":\"date=%{x}<br>tourist_number=%{y}<extra></extra>\",\"legendgroup\":\"\",\"line\":{\"color\":\"#636efa\",\"dash\":\"solid\"},\"mode\":\"lines\",\"name\":\"\",\"orientation\":\"v\",\"showlegend\":false,\"type\":\"scatter\",\"x\":[\"2021-06-22T00:00:00\",\"2021-06-23T00:00:00\",\"2021-06-24T00:00:00\",\"2021-06-25T00:00:00\",\"2021-06-26T00:00:00\",\"2021-06-27T00:00:00\",\"2021-06-28T00:00:00\",\"2021-06-29T00:00:00\",\"2021-06-30T00:00:00\",\"2021-07-01T00:00:00\",\"2021-07-02T00:00:00\",\"2021-07-03T00:00:00\",\"2021-07-04T00:00:00\",\"2021-07-05T00:00:00\",\"2021-07-06T00:00:00\",\"2021-07-07T00:00:00\",\"2021-07-08T00:00:00\",\"2021-07-09T00:00:00\",\"2021-07-10T00:00:00\",\"2021-07-11T00:00:00\",\"2021-07-12T00:00:00\",\"2021-07-13T00:00:00\",\"2021-07-14T00:00:00\",\"2021-07-15T00:00:00\",\"2021-07-16T00:00:00\",\"2021-07-17T00:00:00\",\"2021-07-18T00:00:00\",\"2021-07-19T00:00:00\",\"2021-07-20T00:00:00\",\"2021-07-21T00:00:00\",\"2021-07-22T00:00:00\",\"2021-07-23T00:00:00\",\"2021-07-24T00:00:00\",\"2021-07-25T00:00:00\",\"2021-07-26T00:00:00\",\"2021-07-27T00:00:00\",\"2021-07-28T00:00:00\",\"2021-07-29T00:00:00\",\"2021-07-30T00:00:00\",\"2021-07-31T00:00:00\",\"2021-08-01T00:00:00\",\"2021-08-02T00:00:00\",\"2021-08-03T00:00:00\",\"2021-08-04T00:00:00\",\"2021-08-05T00:00:00\",\"2021-08-06T00:00:00\",\"2021-08-07T00:00:00\",\"2021-08-08T00:00:00\",\"2021-08-09T00:00:00\",\"2021-08-10T00:00:00\",\"2021-08-11T00:00:00\",\"2021-08-12T00:00:00\",\"2021-08-13T00:00:00\",\"2021-08-14T00:00:00\",\"2021-08-16T00:00:00\",\"2021-08-17T00:00:00\",\"2021-08-18T00:00:00\",\"2021-08-19T00:00:00\",\"2021-08-20T00:00:00\",\"2021-08-21T00:00:00\",\"2021-08-22T00:00:00\",\"2021-08-23T00:00:00\",\"2021-08-24T00:00:00\",\"2021-08-25T00:00:00\",\"2021-08-26T00:00:00\",\"2021-08-27T00:00:00\",\"2021-08-28T00:00:00\",\"2021-08-29T00:00:00\",\"2021-08-30T00:00:00\",\"2021-08-31T00:00:00\",\"2021-09-01T00:00:00\",\"2021-09-02T00:00:00\",\"2021-09-03T00:00:00\",\"2021-09-04T00:00:00\",\"2021-09-05T00:00:00\",\"2021-09-06T00:00:00\",\"2021-09-07T00:00:00\",\"2021-09-08T00:00:00\",\"2021-09-09T00:00:00\",\"2021-09-10T00:00:00\",\"2021-09-11T00:00:00\",\"2021-09-12T00:00:00\",\"2021-09-13T00:00:00\",\"2021-09-14T00:00:00\",\"2021-09-15T00:00:00\",\"2021-09-16T00:00:00\",\"2021-09-17T00:00:00\",\"2021-09-18T00:00:00\",\"2021-09-19T00:00:00\",\"2021-09-20T00:00:00\",\"2021-09-21T00:00:00\",\"2021-09-22T00:00:00\",\"2021-09-23T00:00:00\",\"2021-09-24T00:00:00\",\"2021-09-25T00:00:00\",\"2021-09-26T00:00:00\",\"2021-09-27T00:00:00\",\"2021-09-28T00:00:00\",\"2021-09-29T00:00:00\",\"2021-09-30T00:00:00\",\"2021-10-01T00:00:00\",\"2021-10-02T00:00:00\",\"2021-10-03T00:00:00\",\"2021-10-04T00:00:00\",\"2021-10-05T00:00:00\",\"2021-10-06T00:00:00\",\"2021-10-07T00:00:00\",\"2021-10-08T00:00:00\",\"2021-10-09T00:00:00\",\"2021-10-10T00:00:00\",\"2021-10-11T00:00:00\",\"2021-10-12T00:00:00\",\"2021-10-13T00:00:00\",\"2021-10-14T00:00:00\",\"2021-10-15T00:00:00\",\"2021-10-16T00:00:00\",\"2021-10-17T00:00:00\",\"2021-10-18T00:00:00\",\"2021-10-20T00:00:00\",\"2021-10-22T00:00:00\",\"2021-10-23T00:00:00\",\"2021-10-24T00:00:00\",\"2021-10-28T00:00:00\",\"2021-10-29T00:00:00\",\"2021-10-30T00:00:00\",\"2021-11-02T00:00:00\",\"2021-11-04T00:00:00\",\"2021-11-06T00:00:00\",\"2021-11-07T00:00:00\",\"2021-11-10T00:00:00\",\"2021-11-11T00:00:00\",\"2021-11-12T00:00:00\",\"2021-11-13T00:00:00\",\"2021-11-14T00:00:00\",\"2021-11-18T00:00:00\",\"2021-11-20T00:00:00\",\"2021-11-21T00:00:00\",\"2021-11-22T00:00:00\",\"2021-11-24T00:00:00\",\"2021-11-25T00:00:00\",\"2021-11-26T00:00:00\",\"2021-11-27T00:00:00\",\"2021-12-01T00:00:00\",\"2021-12-02T00:00:00\",\"2021-12-04T00:00:00\",\"2021-12-07T00:00:00\",\"2021-12-11T00:00:00\",\"2021-12-14T00:00:00\",\"2021-12-15T00:00:00\",\"2021-12-16T00:00:00\",\"2021-12-17T00:00:00\",\"2021-12-18T00:00:00\",\"2021-12-19T00:00:00\",\"2021-12-21T00:00:00\",\"2021-12-22T00:00:00\",\"2021-12-23T00:00:00\",\"2021-12-24T00:00:00\",\"2021-12-26T00:00:00\",\"2021-12-28T00:00:00\",\"2021-12-29T00:00:00\",\"2021-12-30T00:00:00\",\"2022-01-02T00:00:00\",\"2022-01-04T00:00:00\",\"2022-01-05T00:00:00\",\"2022-01-07T00:00:00\",\"2022-01-08T00:00:00\",\"2022-01-11T00:00:00\",\"2022-01-12T00:00:00\",\"2022-01-13T00:00:00\",\"2022-01-14T00:00:00\",\"2022-01-15T00:00:00\",\"2022-01-16T00:00:00\",\"2022-01-17T00:00:00\",\"2022-01-18T00:00:00\",\"2022-01-19T00:00:00\",\"2022-01-20T00:00:00\",\"2022-01-21T00:00:00\",\"2022-01-22T00:00:00\",\"2022-01-23T00:00:00\",\"2022-01-24T00:00:00\",\"2022-01-25T00:00:00\",\"2022-01-26T00:00:00\",\"2022-01-27T00:00:00\",\"2022-01-28T00:00:00\",\"2022-01-29T00:00:00\",\"2022-01-30T00:00:00\",\"2022-01-31T00:00:00\",\"2022-02-01T00:00:00\",\"2022-02-02T00:00:00\",\"2022-02-03T00:00:00\",\"2022-02-04T00:00:00\",\"2022-02-06T00:00:00\",\"2022-02-07T00:00:00\",\"2022-02-08T00:00:00\",\"2022-02-09T00:00:00\",\"2022-02-10T00:00:00\",\"2022-02-11T00:00:00\",\"2022-02-12T00:00:00\",\"2022-02-14T00:00:00\",\"2022-02-15T00:00:00\",\"2022-02-16T00:00:00\",\"2022-02-17T00:00:00\",\"2022-02-18T00:00:00\",\"2022-02-19T00:00:00\",\"2022-02-20T00:00:00\",\"2022-02-21T00:00:00\",\"2022-02-22T00:00:00\",\"2022-02-23T00:00:00\",\"2022-02-24T00:00:00\",\"2022-02-25T00:00:00\",\"2022-02-26T00:00:00\",\"2022-02-28T00:00:00\",\"2022-03-01T00:00:00\",\"2022-03-02T00:00:00\",\"2022-03-03T00:00:00\",\"2022-03-06T00:00:00\",\"2022-03-07T00:00:00\",\"2022-03-08T00:00:00\",\"2022-03-09T00:00:00\",\"2022-03-10T00:00:00\",\"2022-03-11T00:00:00\",\"2022-03-12T00:00:00\",\"2022-03-13T00:00:00\",\"2022-03-14T00:00:00\",\"2022-03-15T00:00:00\",\"2022-03-16T00:00:00\",\"2022-03-17T00:00:00\",\"2022-03-18T00:00:00\",\"2022-03-19T00:00:00\",\"2022-03-21T00:00:00\",\"2022-03-22T00:00:00\",\"2022-03-23T00:00:00\",\"2022-03-24T00:00:00\",\"2022-03-25T00:00:00\",\"2022-03-26T00:00:00\",\"2022-03-27T00:00:00\",\"2022-03-28T00:00:00\",\"2022-03-29T00:00:00\",\"2022-03-30T00:00:00\",\"2022-03-31T00:00:00\",\"2022-04-01T00:00:00\",\"2022-04-02T00:00:00\",\"2022-04-03T00:00:00\",\"2022-04-04T00:00:00\",\"2022-04-05T00:00:00\",\"2022-04-06T00:00:00\",\"2022-04-07T00:00:00\",\"2022-04-08T00:00:00\",\"2022-04-09T00:00:00\",\"2022-04-10T00:00:00\",\"2022-04-11T00:00:00\",\"2022-04-12T00:00:00\",\"2022-04-13T00:00:00\",\"2022-04-17T00:00:00\",\"2022-04-19T00:00:00\",\"2022-04-20T00:00:00\",\"2022-04-21T00:00:00\",\"2022-04-22T00:00:00\",\"2022-04-23T00:00:00\",\"2022-04-24T00:00:00\",\"2022-04-25T00:00:00\",\"2022-04-26T00:00:00\",\"2022-04-27T00:00:00\",\"2022-04-28T00:00:00\",\"2022-04-29T00:00:00\",\"2022-04-30T00:00:00\",\"2022-05-02T00:00:00\"],\"xaxis\":\"x\",\"y\":[68,31,6,7,3,1,39,30,20,47,28,1,1,35,33,49,87,32,9,1,24,9,19,35,4,13,1,8,9,30,8,7,3,1,32,53,30,58,26,3,5,31,17,24,62,77,6,3,62,28,39,34,24,7,10,10,14,4,12,4,2,4,31,3,17,39,25,11,22,11,6,7,12,73,6,89,10,150,49,26,212,7,26,24,76,22,11,225,195,49,35,89,7,95,91,174,57,6,83,16,79,9,42,65,310,102,116,72,100,50,18,23,23,295,7,6,4,1,16,7,1,4,1,1,9,2,4,14,3,2,1,16,1,2,2,9,3,8,1,4,2,37,4,4,5,2,28,1,10,14,15,15,19,1,246,14,103,13,115,378,33,29,117,181,252,17,143,32,253,59,178,15,94,40,131,348,262,146,10,31,28,122,80,72,9,4,57,253,35,59,191,5,241,134,125,200,47,12,167,162,337,339,186,25,1,112,129,142,140,104,6,39,17,39,18,12,14,15,2,22,9,8,7,10,9,9,19,16,1,23,39,11,29,33,2,6,101,15,9,44,32,5,6,85,6,126,17,42,3,7,188,21,70,1,48,11,8,2,45,1,1,19,30,87,21,20,17],\"yaxis\":\"y\"}],                        {\"legend\":{\"tracegroupgap\":0},\"margin\":{\"t\":60},\"template\":{\"data\":{\"bar\":[{\"error_x\":{\"color\":\"#2a3f5f\"},\"error_y\":{\"color\":\"#2a3f5f\"},\"marker\":{\"line\":{\"color\":\"#E5ECF6\",\"width\":0.5},\"pattern\":{\"fillmode\":\"overlay\",\"size\":10,\"solidity\":0.2}},\"type\":\"bar\"}],\"barpolar\":[{\"marker\":{\"line\":{\"color\":\"#E5ECF6\",\"width\":0.5},\"pattern\":{\"fillmode\":\"overlay\",\"size\":10,\"solidity\":0.2}},\"type\":\"barpolar\"}],\"carpet\":[{\"aaxis\":{\"endlinecolor\":\"#2a3f5f\",\"gridcolor\":\"white\",\"linecolor\":\"white\",\"minorgridcolor\":\"white\",\"startlinecolor\":\"#2a3f5f\"},\"baxis\":{\"endlinecolor\":\"#2a3f5f\",\"gridcolor\":\"white\",\"linecolor\":\"white\",\"minorgridcolor\":\"white\",\"startlinecolor\":\"#2a3f5f\"},\"type\":\"carpet\"}],\"choropleth\":[{\"colorbar\":{\"outlinewidth\":0,\"ticks\":\"\"},\"type\":\"choropleth\"}],\"contour\":[{\"colorbar\":{\"outlinewidth\":0,\"ticks\":\"\"},\"colorscale\":[[0.0,\"#0d0887\"],[0.1111111111111111,\"#46039f\"],[0.2222222222222222,\"#7201a8\"],[0.3333333333333333,\"#9c179e\"],[0.4444444444444444,\"#bd3786\"],[0.5555555555555556,\"#d8576b\"],[0.6666666666666666,\"#ed7953\"],[0.7777777777777778,\"#fb9f3a\"],[0.8888888888888888,\"#fdca26\"],[1.0,\"#f0f921\"]],\"type\":\"contour\"}],\"contourcarpet\":[{\"colorbar\":{\"outlinewidth\":0,\"ticks\":\"\"},\"type\":\"contourcarpet\"}],\"heatmap\":[{\"colorbar\":{\"outlinewidth\":0,\"ticks\":\"\"},\"colorscale\":[[0.0,\"#0d0887\"],[0.1111111111111111,\"#46039f\"],[0.2222222222222222,\"#7201a8\"],[0.3333333333333333,\"#9c179e\"],[0.4444444444444444,\"#bd3786\"],[0.5555555555555556,\"#d8576b\"],[0.6666666666666666,\"#ed7953\"],[0.7777777777777778,\"#fb9f3a\"],[0.8888888888888888,\"#fdca26\"],[1.0,\"#f0f921\"]],\"type\":\"heatmap\"}],\"heatmapgl\":[{\"colorbar\":{\"outlinewidth\":0,\"ticks\":\"\"},\"colorscale\":[[0.0,\"#0d0887\"],[0.1111111111111111,\"#46039f\"],[0.2222222222222222,\"#7201a8\"],[0.3333333333333333,\"#9c179e\"],[0.4444444444444444,\"#bd3786\"],[0.5555555555555556,\"#d8576b\"],[0.6666666666666666,\"#ed7953\"],[0.7777777777777778,\"#fb9f3a\"],[0.8888888888888888,\"#fdca26\"],[1.0,\"#f0f921\"]],\"type\":\"heatmapgl\"}],\"histogram\":[{\"marker\":{\"pattern\":{\"fillmode\":\"overlay\",\"size\":10,\"solidity\":0.2}},\"type\":\"histogram\"}],\"histogram2d\":[{\"colorbar\":{\"outlinewidth\":0,\"ticks\":\"\"},\"colorscale\":[[0.0,\"#0d0887\"],[0.1111111111111111,\"#46039f\"],[0.2222222222222222,\"#7201a8\"],[0.3333333333333333,\"#9c179e\"],[0.4444444444444444,\"#bd3786\"],[0.5555555555555556,\"#d8576b\"],[0.6666666666666666,\"#ed7953\"],[0.7777777777777778,\"#fb9f3a\"],[0.8888888888888888,\"#fdca26\"],[1.0,\"#f0f921\"]],\"type\":\"histogram2d\"}],\"histogram2dcontour\":[{\"colorbar\":{\"outlinewidth\":0,\"ticks\":\"\"},\"colorscale\":[[0.0,\"#0d0887\"],[0.1111111111111111,\"#46039f\"],[0.2222222222222222,\"#7201a8\"],[0.3333333333333333,\"#9c179e\"],[0.4444444444444444,\"#bd3786\"],[0.5555555555555556,\"#d8576b\"],[0.6666666666666666,\"#ed7953\"],[0.7777777777777778,\"#fb9f3a\"],[0.8888888888888888,\"#fdca26\"],[1.0,\"#f0f921\"]],\"type\":\"histogram2dcontour\"}],\"mesh3d\":[{\"colorbar\":{\"outlinewidth\":0,\"ticks\":\"\"},\"type\":\"mesh3d\"}],\"parcoords\":[{\"line\":{\"colorbar\":{\"outlinewidth\":0,\"ticks\":\"\"}},\"type\":\"parcoords\"}],\"pie\":[{\"automargin\":true,\"type\":\"pie\"}],\"scatter\":[{\"marker\":{\"colorbar\":{\"outlinewidth\":0,\"ticks\":\"\"}},\"type\":\"scatter\"}],\"scatter3d\":[{\"line\":{\"colorbar\":{\"outlinewidth\":0,\"ticks\":\"\"}},\"marker\":{\"colorbar\":{\"outlinewidth\":0,\"ticks\":\"\"}},\"type\":\"scatter3d\"}],\"scattercarpet\":[{\"marker\":{\"colorbar\":{\"outlinewidth\":0,\"ticks\":\"\"}},\"type\":\"scattercarpet\"}],\"scattergeo\":[{\"marker\":{\"colorbar\":{\"outlinewidth\":0,\"ticks\":\"\"}},\"type\":\"scattergeo\"}],\"scattergl\":[{\"marker\":{\"colorbar\":{\"outlinewidth\":0,\"ticks\":\"\"}},\"type\":\"scattergl\"}],\"scattermapbox\":[{\"marker\":{\"colorbar\":{\"outlinewidth\":0,\"ticks\":\"\"}},\"type\":\"scattermapbox\"}],\"scatterpolar\":[{\"marker\":{\"colorbar\":{\"outlinewidth\":0,\"ticks\":\"\"}},\"type\":\"scatterpolar\"}],\"scatterpolargl\":[{\"marker\":{\"colorbar\":{\"outlinewidth\":0,\"ticks\":\"\"}},\"type\":\"scatterpolargl\"}],\"scatterternary\":[{\"marker\":{\"colorbar\":{\"outlinewidth\":0,\"ticks\":\"\"}},\"type\":\"scatterternary\"}],\"surface\":[{\"colorbar\":{\"outlinewidth\":0,\"ticks\":\"\"},\"colorscale\":[[0.0,\"#0d0887\"],[0.1111111111111111,\"#46039f\"],[0.2222222222222222,\"#7201a8\"],[0.3333333333333333,\"#9c179e\"],[0.4444444444444444,\"#bd3786\"],[0.5555555555555556,\"#d8576b\"],[0.6666666666666666,\"#ed7953\"],[0.7777777777777778,\"#fb9f3a\"],[0.8888888888888888,\"#fdca26\"],[1.0,\"#f0f921\"]],\"type\":\"surface\"}],\"table\":[{\"cells\":{\"fill\":{\"color\":\"#EBF0F8\"},\"line\":{\"color\":\"white\"}},\"header\":{\"fill\":{\"color\":\"#C8D4E3\"},\"line\":{\"color\":\"white\"}},\"type\":\"table\"}]},\"layout\":{\"annotationdefaults\":{\"arrowcolor\":\"#2a3f5f\",\"arrowhead\":0,\"arrowwidth\":1},\"autotypenumbers\":\"strict\",\"coloraxis\":{\"colorbar\":{\"outlinewidth\":0,\"ticks\":\"\"}},\"colorscale\":{\"diverging\":[[0,\"#8e0152\"],[0.1,\"#c51b7d\"],[0.2,\"#de77ae\"],[0.3,\"#f1b6da\"],[0.4,\"#fde0ef\"],[0.5,\"#f7f7f7\"],[0.6,\"#e6f5d0\"],[0.7,\"#b8e186\"],[0.8,\"#7fbc41\"],[0.9,\"#4d9221\"],[1,\"#276419\"]],\"sequential\":[[0.0,\"#0d0887\"],[0.1111111111111111,\"#46039f\"],[0.2222222222222222,\"#7201a8\"],[0.3333333333333333,\"#9c179e\"],[0.4444444444444444,\"#bd3786\"],[0.5555555555555556,\"#d8576b\"],[0.6666666666666666,\"#ed7953\"],[0.7777777777777778,\"#fb9f3a\"],[0.8888888888888888,\"#fdca26\"],[1.0,\"#f0f921\"]],\"sequentialminus\":[[0.0,\"#0d0887\"],[0.1111111111111111,\"#46039f\"],[0.2222222222222222,\"#7201a8\"],[0.3333333333333333,\"#9c179e\"],[0.4444444444444444,\"#bd3786\"],[0.5555555555555556,\"#d8576b\"],[0.6666666666666666,\"#ed7953\"],[0.7777777777777778,\"#fb9f3a\"],[0.8888888888888888,\"#fdca26\"],[1.0,\"#f0f921\"]]},\"colorway\":[\"#636efa\",\"#EF553B\",\"#00cc96\",\"#ab63fa\",\"#FFA15A\",\"#19d3f3\",\"#FF6692\",\"#B6E880\",\"#FF97FF\",\"#FECB52\"],\"font\":{\"color\":\"#2a3f5f\"},\"geo\":{\"bgcolor\":\"white\",\"lakecolor\":\"white\",\"landcolor\":\"#E5ECF6\",\"showlakes\":true,\"showland\":true,\"subunitcolor\":\"white\"},\"hoverlabel\":{\"align\":\"left\"},\"hovermode\":\"closest\",\"mapbox\":{\"style\":\"light\"},\"paper_bgcolor\":\"white\",\"plot_bgcolor\":\"#E5ECF6\",\"polar\":{\"angularaxis\":{\"gridcolor\":\"white\",\"linecolor\":\"white\",\"ticks\":\"\"},\"bgcolor\":\"#E5ECF6\",\"radialaxis\":{\"gridcolor\":\"white\",\"linecolor\":\"white\",\"ticks\":\"\"}},\"scene\":{\"xaxis\":{\"backgroundcolor\":\"#E5ECF6\",\"gridcolor\":\"white\",\"gridwidth\":2,\"linecolor\":\"white\",\"showbackground\":true,\"ticks\":\"\",\"zerolinecolor\":\"white\"},\"yaxis\":{\"backgroundcolor\":\"#E5ECF6\",\"gridcolor\":\"white\",\"gridwidth\":2,\"linecolor\":\"white\",\"showbackground\":true,\"ticks\":\"\",\"zerolinecolor\":\"white\"},\"zaxis\":{\"backgroundcolor\":\"#E5ECF6\",\"gridcolor\":\"white\",\"gridwidth\":2,\"linecolor\":\"white\",\"showbackground\":true,\"ticks\":\"\",\"zerolinecolor\":\"white\"}},\"shapedefaults\":{\"line\":{\"color\":\"#2a3f5f\"}},\"ternary\":{\"aaxis\":{\"gridcolor\":\"white\",\"linecolor\":\"white\",\"ticks\":\"\"},\"baxis\":{\"gridcolor\":\"white\",\"linecolor\":\"white\",\"ticks\":\"\"},\"bgcolor\":\"#E5ECF6\",\"caxis\":{\"gridcolor\":\"white\",\"linecolor\":\"white\",\"ticks\":\"\"}},\"title\":{\"x\":0.05},\"xaxis\":{\"automargin\":true,\"gridcolor\":\"white\",\"linecolor\":\"white\",\"ticks\":\"\",\"title\":{\"standoff\":15},\"zerolinecolor\":\"white\",\"zerolinewidth\":2},\"yaxis\":{\"automargin\":true,\"gridcolor\":\"white\",\"linecolor\":\"white\",\"ticks\":\"\",\"title\":{\"standoff\":15},\"zerolinecolor\":\"white\",\"zerolinewidth\":2}}},\"xaxis\":{\"anchor\":\"y\",\"domain\":[0.0,1.0],\"dtick\":\"M1\",\"tickangle\":45,\"tickformat\":\"%b\\n%Y\",\"title\":{\"text\":\"date\"}},\"yaxis\":{\"anchor\":\"x\",\"domain\":[0.0,1.0],\"title\":{\"text\":\"tourist_number\"}}},                        {\"responsive\": true}                    ).then(function(){\n",
       "                            \n",
       "var gd = document.getElementById('88ed7eb2-d71d-4bf4-99e1-9477d51c3549');\n",
       "var x = new MutationObserver(function (mutations, observer) {{\n",
       "        var display = window.getComputedStyle(gd).display;\n",
       "        if (!display || display === 'none') {{\n",
       "            console.log([gd, 'removed!']);\n",
       "            Plotly.purge(gd);\n",
       "            observer.disconnect();\n",
       "        }}\n",
       "}});\n",
       "\n",
       "// Listen for the removal of the full notebook cells\n",
       "var notebookContainer = gd.closest('#notebook-container');\n",
       "if (notebookContainer) {{\n",
       "    x.observe(notebookContainer, {childList: true});\n",
       "}}\n",
       "\n",
       "// Listen for the clearing of the current output cell\n",
       "var outputEl = gd.closest('.output');\n",
       "if (outputEl) {{\n",
       "    x.observe(outputEl, {childList: true});\n",
       "}}\n",
       "\n",
       "                        })                };                });            </script>        </div>"
      ]
     },
     "metadata": {},
     "output_type": "display_data"
    }
   ],
   "source": [
    "temporal_series_df = sensor_df.copy()\n",
    "\n",
    "temporal_series_df = temporal_series_df[(temporal_series_df.ssid.isin(sorted_macs.ssid)) & (temporal_series_df.mac.isin(sorted_macs.mac))]\n",
    "\n",
    "# Solo extraemos la fecha para poder hacer el análisis temporal.\n",
    "temporal_series_df['date'] = pd.to_datetime(temporal_series_df['date'], unit='ms').dt.date\n",
    "temporal_series_df['date'] = pd.to_datetime(temporal_series_df['date'])\n",
    "\n",
    "\n",
    "time_series = temporal_series_df.groupby(by=[\"date\"])['mac'].count()\n",
    "time_series = time_series.to_frame()\n",
    "time_series.reset_index(inplace=True)\n",
    "time_series = time_series.rename(columns = {'mac':'tourist_number'})\n",
    "\n",
    "fig = px.line(time_series, x=\"date\", y=\"tourist_number\")\n",
    "fig.update_xaxes(tickangle=45, \n",
    "                dtick=\"M1\",\n",
    "                tickformat=\"%b\\n%Y\")\n",
    "fig.show()"
   ]
  },
  {
   "cell_type": "markdown",
   "id": "157d81ee-2708-4a3e-a54b-30f8f3d78eff",
   "metadata": {},
   "source": [
    "Utilizamos `statmodels` para realizar la estimación de series temporales y poder elaborar un modelo que sea capaz de aproximar la cantidad de turistas que se pueden recibir. \n",
    "\n",
    "> **Observación:** Este modelo puede ser demasiado impreciso debido a el proyecto de recolección del `SSIDs` empezó a funcionar en 2021, justo después de la pandemia, durante este tiempo la afluencia normal de turistas puede ser relativamente menor a la comparada con periodos anteriores a la pandemia. por este motivo se recomienda actualizar con frecuencia este modelo cada mes.  \n"
   ]
  },
  {
   "cell_type": "code",
   "execution_count": 656,
   "id": "9e46b5e3-278a-439d-9ddf-3ee024ba22e3",
   "metadata": {},
   "outputs": [],
   "source": [
    "time_series.set_index('date', inplace=True)\n",
    "time_series.sort_index(inplace=True)"
   ]
  },
  {
   "cell_type": "code",
   "execution_count": 657,
   "id": "cb2da276-de20-4fc4-a8af-aefee7d76f52",
   "metadata": {},
   "outputs": [
    {
     "data": {
      "image/png": "[encoded data removed]",
      "text/plain": [
       "<Figure size 1152x648 with 4 Axes>"
      ]
     },
     "metadata": {
      "needs_background": "light"
     },
     "output_type": "display_data"
    }
   ],
   "source": [
    "\n",
    "sd = seasonal_decompose(time_series['tourist_number'] ,model='additive', period=12)\n",
    "\n",
    "fig = sd.plot()\n",
    "fig.set_size_inches((16, 9))\n",
    "fig.tight_layout()\n",
    "plt.show()"
   ]
  },
  {
   "cell_type": "code",
   "execution_count": 658,
   "id": "4f208207-5015-44b8-b85f-42afbd87f6ae",
   "metadata": {},
   "outputs": [],
   "source": [
    "\n",
    "time_series['tourist_number'] = time_series['tourist_number']"
   ]
  },
  {
   "cell_type": "code",
   "execution_count": 659,
   "id": "67368087-584c-4884-8536-4923925c6ac2",
   "metadata": {},
   "outputs": [
    {
     "data": {
      "image/png": "[encoded data removed]",
      "text/plain": [
       "<Figure size 1080x720 with 4 Axes>"
      ]
     },
     "metadata": {
      "needs_background": "light"
     },
     "output_type": "display_data"
    }
   ],
   "source": [
    "\n",
    "fig,axes = plt.subplots(4)\n",
    "fig.set_figheight(10)\n",
    "fig.set_figwidth(15)\n",
    "axes[0].plot(time_series.index,time_series['tourist_number'],label='Afluencia Actual')\n",
    "axes[0].plot(time_series.index,time_series['tourist_number'].rolling(window=4).mean(),label='Media móvil de 4 meses')\n",
    "axes[0].set_xlabel('Año-Mes')\n",
    "axes[0].set_ylabel('Número de Turistas')\n",
    "axes[0].set_title('Media móvil de 4 meses')\n",
    "axes[0].legend(loc='best')\n",
    "\n",
    "\n",
    "axes[1].plot(time_series.index,time_series['tourist_number'],label='Afluencia Actual')\n",
    "axes[1].plot(time_series.index,time_series['tourist_number'].rolling(window=6).mean(),label='Media móvil de 6 meses')\n",
    "axes[1].set_xlabel('Año-Mes')\n",
    "axes[1].set_ylabel('Número de Turistas')\n",
    "axes[1].set_title('Media móvil de 6 meses')\n",
    "axes[1].legend(loc='best')\n",
    "\n",
    "\n",
    "\n",
    "axes[2].plot(time_series.index,time_series['tourist_number'],label='Afluencia Actual')\n",
    "axes[2].plot(time_series.index,time_series['tourist_number'].rolling(window=8).mean(),label='8 Media móvil de meses')\n",
    "axes[2].set_xlabel('Año-Mes')\n",
    "axes[2].set_ylabel('Número de Turistas')\n",
    "axes[2].set_title('Media móvil de 8 meses')\n",
    "axes[2].legend(loc='best')\n",
    "\n",
    "\n",
    "axes[3].plot(time_series.index,time_series['tourist_number'],label='Afluencia Actual')\n",
    "axes[3].plot(time_series.index,time_series['tourist_number'].rolling(window=12).mean(),label='Media móvil de 12 meses')\n",
    "axes[3].set_xlabel('Año-Mes')\n",
    "axes[3].set_ylabel('Número de Turistas')\n",
    "axes[3].set_title('Media móvil de 12 meses')\n",
    "axes[3].legend(loc='best')\n",
    "\n",
    "plt.tight_layout()\n",
    "plt.show()"
   ]
  },
  {
   "cell_type": "markdown",
   "id": "a3e4c8bd-2e07-4fa8-948c-23dbaf38ded3",
   "metadata": {},
   "source": [
    "En las graficas anteriores miramos la media movil de la distribución de los turistas captados por el dispositivo `Hopus`.\n",
    "\n",
    "> La media movil es un cálculo que utilizamos para analizar un conjunto de datos en modo de puntos para crear una serie de promedios. De esta manera podemos tener una estimación basada del conjunto de lso datos originales.\n",
    "\n",
    "Esto nos sirve para calcular una serie temporal con demanda estable, que no tiene tendencia ni estacionalidad, como es el caso de la afluencia de turistas en Alcoi."
   ]
  },
  {
   "cell_type": "markdown",
   "id": "1225f877-2a11-44fd-858e-3bba4be829ee",
   "metadata": {},
   "source": [
    "## Tourist Flow"
   ]
  },
  {
   "cell_type": "markdown",
   "id": "30d3202c-533b-49c3-8adb-03c78fa443fa",
   "metadata": {},
   "source": [
    "Se mostrará una representación de las dimensiones de las encuestas par a par, con el objetivo de encontrar correlaciones y patrones en los comportamientos en función de las variables del conjunto de datos."
   ]
  },
  {
   "cell_type": "code",
   "execution_count": 660,
   "id": "605cfc72-b27d-4c63-bfef-6d949f786c4e",
   "metadata": {},
   "outputs": [
    {
     "data": {
      "text/plain": [
       "<seaborn.axisgrid.PairGrid at 0x1cea3e6d0d0>"
      ]
     },
     "execution_count": 660,
     "metadata": {},
     "output_type": "execute_result"
    },
    {
     "data": {
      "text/plain": [
       "<Figure size 2160x1440 with 0 Axes>"
      ]
     },
     "metadata": {},
     "output_type": "display_data"
    },
    {
     "data": {
      "image/png": "[encoded data removed]",
      "text/plain": [
       "<Figure size 1440x1440 with 14 Axes>"
      ]
     },
     "metadata": {
      "needs_background": "light"
     },
     "output_type": "display_data"
    }
   ],
   "source": [
    "wifi_replace = {'No': 0,\n",
    "                'Sí': 1,\n",
    "                'No entiendo la pregunta': 2\n",
    "               }\n",
    "residence_replace = {'Alcoi': 0,\n",
    "                     'Comunidad Valenciana': 1,\n",
    "                     'España': 2,\n",
    "                     'Internacional': 3\n",
    "                   }\n",
    "quiz_aux_df = quiz_df.copy()\n",
    "quiz_aux_df['wifi_enabled'].replace(wifi_replace, inplace = True)\n",
    "quiz_aux_df['residence_1'].replace(residence_replace, inplace = True)\n",
    "\n",
    "quiz_aux_df = quiz_aux_df[quiz_aux_df['residence_1'] != 0]\n",
    "\n",
    "plt.figure(figsize=(30, 20))\n",
    "sns.pairplot(quiz_aux_df, kind=\"hist\", corner = True, height = 5)"
   ]
  },
  {
   "cell_type": "markdown",
   "id": "13eb82e8-7d19-4b0f-a2fd-62cb980f0220",
   "metadata": {},
   "source": [
    "Analizando la gráfica de lugar de residencia y número de personas que acompañan al turista se observa que hay una de las localidades que contiene valores más altos para el número de acompañantes. En la siguiente gráfica se mostrará la distribución de acompañantes en función de la región origen de los turistas:"
   ]
  },
  {
   "cell_type": "code",
   "execution_count": 661,
   "id": "1604249e-88a4-40e4-9b65-2bfb5ccbcd80",
   "metadata": {},
   "outputs": [
    {
     "data": {
      "text/plain": [
       "<AxesSubplot:xlabel='companions_number', ylabel='Count'>"
      ]
     },
     "execution_count": 661,
     "metadata": {},
     "output_type": "execute_result"
    },
    {
     "data": {
      "image/png": "[encoded data removed]",
      "text/plain": [
       "<Figure size 1440x1080 with 1 Axes>"
      ]
     },
     "metadata": {},
     "output_type": "display_data"
    }
   ],
   "source": [
    "aux = quiz_df[quiz_df['residence_1'] != 'Alcoi']\n",
    "\n",
    "sns.set(font_scale = 1.5)\n",
    "plt.figure(figsize=(20,15))\n",
    "sns.histplot(data=aux, x=\"companions_number\", hue=\"residence_1\", kde=True)"
   ]
  },
  {
   "cell_type": "markdown",
   "id": "90fa1a50-bcc4-4322-8196-cb7dd02b2619",
   "metadata": {},
   "source": [
    "Se observa que los turistas de la comunidad valenciana suelen venir acompañados en grupos de hasta 10 personas mucho más frecuentemente que de turistas de origen internacional y nacional. Incluso en los grupos de cuatro personas, proporcionalmente. "
   ]
  },
  {
   "cell_type": "code",
   "execution_count": 662,
   "id": "30b3a90a-5b8b-4839-93a3-da6a19096839",
   "metadata": {},
   "outputs": [
    {
     "data": {
      "text/plain": [
       "<AxesSubplot:xlabel='companions_number', ylabel='Count'>"
      ]
     },
     "execution_count": 662,
     "metadata": {},
     "output_type": "execute_result"
    },
    {
     "data": {
      "image/png": "[encoded data removed]",
      "text/plain": [
       "<Figure size 1440x1080 with 1 Axes>"
      ]
     },
     "metadata": {},
     "output_type": "display_data"
    }
   ],
   "source": [
    "# Comparativa acompañantes/acompañantes-oficina - Wifi\n",
    "# fig, axes = plt.subplots(1, 2, figsize=(30,15))\n",
    "# sns.set(font_scale = 1.5)\n",
    "# sns.histplot(ax=axes[0], data=aux, x=\"companions_number\", hue=\"wifi_enabled\", kde=True)\n",
    "# sns.histplot(ax=axes[1], data=aux, x=\"companions_visited_info_office\", hue=\"wifi_enabled\", kde=True)\n",
    "\n",
    "\n",
    "plt.figure(figsize=(20,15)) #change your figure size as per your desire here\n",
    "sns.set(font_scale = 1.5)\n",
    "sns.histplot(data=aux, x=\"companions_number\", hue=\"wifi_enabled\", kde=True)"
   ]
  },
  {
   "cell_type": "markdown",
   "id": "8bec346b-6db4-4a09-ad0c-ca2add30ec25",
   "metadata": {},
   "source": [
    "# Referencias"
   ]
  },
  {
   "cell_type": "markdown",
   "id": "7efbf993-2557-437a-b139-d7a122b1a69e",
   "metadata": {},
   "source": [
    "[CÓMO MEDIR LA POBLACIÓN TURÍSTICA REAL: ALCOY TOURIST LAB](https://www.turismecv.com/2021/11/30/como-medir-la-poblacion-turistica-real-alcoy-tourist-lab/)"
   ]
  }
 ],
 "metadata": {
  "kernelspec": {
   "display_name": "Python 3 (ipykernel)",
   "language": "python",
   "name": "python3"
  },
  "language_info": {
   "codemirror_mode": {
    "name": "ipython",
    "version": 3
   },
   "file_extension": ".py",
   "mimetype": "text/x-python",
   "name": "python",
   "nbconvert_exporter": "python",
   "pygments_lexer": "ipython3",
   "version": "3.8.8"
  },
  "toc-autonumbering": true
 },
 "nbformat": 4,
 "nbformat_minor": 5
}
