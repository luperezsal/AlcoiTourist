{
 "cells": [
  {
   "cell_type": "code",
   "execution_count": 2,
   "id": "e7aaea2e-f48e-40b4-8fc2-47398b047ac2",
   "metadata": {},
   "outputs": [],
   "source": [
    "import sweetviz as sv\n",
    "import pandas as pd"
   ]
  },
  {
   "cell_type": "code",
   "execution_count": 8,
   "id": "bcd11bca-0990-4b8b-86e9-b0026ef03b94",
   "metadata": {},
   "outputs": [],
   "source": [
    "DATA_PATH = 'data/'"
   ]
  },
  {
   "cell_type": "code",
   "execution_count": 12,
   "id": "4447b82a-8d27-459d-9d7a-d16c1b149016",
   "metadata": {},
   "outputs": [],
   "source": [
    "encuesta_df = pd.read_csv(f\"{DATA_PATH}datosEncuesta2206.csv\")\n",
    "sensor_df = pd.read_csv(f\"{DATA_PATH}datosSensorTurismo2206.csv\")\n",
    "ssids_df  = pd.read_csv(f\"{DATA_PATH}ssidsAlcoi.csv\")"
   ]
  },
  {
   "cell_type": "markdown",
   "id": "d29a73c3-03b2-4222-8cb3-913d5e3eeb5a",
   "metadata": {},
   "source": [
    "En el conjunto de datos datos SSIDS Alcoi tenemos todas las direcciones de los puntos de conexión de la ciudad de Alocai.\n",
    "\n",
    "En el dataset datosSensorTurismo2206 tenemos \n",
    "\n",
    "\n",
    "\n",
    "\n",
    "De cada dispositivo, si la red a la que más se conecta no es de Alcoi es un turista.\n",
    "\n",
    "\n",
    "De este criterio saldrá un listado de MAC (dispositivos) que visitantes.\n"
   ]
  },
  {
   "cell_type": "code",
   "execution_count": 4,
   "id": "639bd4a6-85b6-4d91-bdf1-218043875a62",
   "metadata": {},
   "outputs": [
    {
     "data": {
      "application/vnd.jupyter.widget-view+json": {
       "model_id": "844e0fce7fce47649bd95cd7dfff507a",
       "version_major": 2,
       "version_minor": 0
      },
      "text/plain": [
       "                                             |                              | [  0%]   00:00 -> (? left)"
      ]
     },
     "metadata": {},
     "output_type": "display_data"
    },
    {
     "name": "stderr",
     "output_type": "stream",
     "text": [
      "/home/luis/anaconda3/envs/TFM/lib/python3.9/site-packages/sweetviz/utils.py:34: FutureWarning: The series.append method is deprecated and will be removed from pandas in a future version. Use pandas.concat instead.\n",
      "  clamped_series = clamped_series.append(other_series, ignore_index=False)\n",
      "/home/luis/anaconda3/envs/TFM/lib/python3.9/site-packages/sweetviz/graph_associations.py:223: FutureWarning: The frame.append method is deprecated and will be removed from pandas in a future version. Use pandas.concat instead.\n",
      "  new_dataframe = new_dataframe.append(pd.Series(empty_row_dict, name=feature))\n",
      "/home/luis/anaconda3/envs/TFM/lib/python3.9/site-packages/sweetviz/graph_associations.py:223: FutureWarning: The frame.append method is deprecated and will be removed from pandas in a future version. Use pandas.concat instead.\n",
      "  new_dataframe = new_dataframe.append(pd.Series(empty_row_dict, name=feature))\n",
      "/home/luis/anaconda3/envs/TFM/lib/python3.9/site-packages/sweetviz/graph_associations.py:223: FutureWarning: The frame.append method is deprecated and will be removed from pandas in a future version. Use pandas.concat instead.\n",
      "  new_dataframe = new_dataframe.append(pd.Series(empty_row_dict, name=feature))\n",
      "/home/luis/anaconda3/envs/TFM/lib/python3.9/site-packages/sweetviz/graph_associations.py:223: FutureWarning: The frame.append method is deprecated and will be removed from pandas in a future version. Use pandas.concat instead.\n",
      "  new_dataframe = new_dataframe.append(pd.Series(empty_row_dict, name=feature))\n"
     ]
    },
    {
     "name": "stdout",
     "output_type": "stream",
     "text": [
      "Report Advertising.html was generated! NOTEBOOK/COLAB USERS: the web browser MAY not pop up, regardless, the report IS saved in your notebook/colab files.\n"
     ]
    }
   ],
   "source": [
    "\n",
    "#analyzing the dataset\n",
    "advert_report = sv.analyze(encuesta_df)\n",
    "#display the report\n",
    "advert_report.show_html('Advertising.html')"
   ]
  },
  {
   "cell_type": "code",
   "execution_count": 58,
   "id": "2028209c-7a5c-4088-910f-649e460e45c6",
   "metadata": {},
   "outputs": [
    {
     "data": {
      "text/plain": [
       "date \n",
       "1        17753\n",
       "2          559\n",
       "3          202\n",
       "4          128\n",
       "5           43\n",
       "         ...  \n",
       "59           1\n",
       "65           1\n",
       "71           1\n",
       "73           1\n",
       "12807        1\n",
       "Length: 67, dtype: int64"
      ]
     },
     "execution_count": 58,
     "metadata": {},
     "output_type": "execute_result"
    }
   ],
   "source": [
    "# advert_report = sv.analyze(sensor_df)\n",
    "#display the report\n",
    "# advert_report.show_html('sensor_df.html')\n",
    "\n",
    "\n",
    "sorted_mac_ssid = sensor_df.groupby(by=[\"mac\", 'ssid']).count().sort_values('date', ascending = False)\n",
    "sorted_mac_ssid.value_counts()\n",
    "# sorted_mac_ssid\n",
    "# ssids_df[ssids_df['ssid'] == 'cca78a1e963f3ba3443bf3e54a9aa939f73d223d']"
   ]
  },
  {
   "cell_type": "code",
   "execution_count": null,
   "id": "d1110229-0f4a-4bfa-9b4e-90ad56d0da18",
   "metadata": {},
   "outputs": [],
   "source": []
  },
  {
   "cell_type": "code",
   "execution_count": null,
   "id": "2605485e-b50d-44e8-a226-5ad8def45e2a",
   "metadata": {},
   "outputs": [],
   "source": []
  },
  {
   "cell_type": "code",
   "execution_count": 56,
   "id": "7bc23f27-ff81-42d3-b91a-976f63393b1f",
   "metadata": {},
   "outputs": [
    {
     "data": {
      "text/html": [
       "<div>\n",
       "<style scoped>\n",
       "    .dataframe tbody tr th:only-of-type {\n",
       "        vertical-align: middle;\n",
       "    }\n",
       "\n",
       "    .dataframe tbody tr th {\n",
       "        vertical-align: top;\n",
       "    }\n",
       "\n",
       "    .dataframe thead th {\n",
       "        text-align: right;\n",
       "    }\n",
       "</style>\n",
       "<table border=\"1\" class=\"dataframe\">\n",
       "  <thead>\n",
       "    <tr style=\"text-align: right;\">\n",
       "      <th></th>\n",
       "      <th></th>\n",
       "      <th>date</th>\n",
       "    </tr>\n",
       "    <tr>\n",
       "      <th>mac</th>\n",
       "      <th>ssid</th>\n",
       "      <th></th>\n",
       "    </tr>\n",
       "  </thead>\n",
       "  <tbody>\n",
       "    <tr>\n",
       "      <th>d29675014f618f3ef3f6b75f146b4be71c513c16</th>\n",
       "      <th>cca78a1e963f3ba3443bf3e54a9aa939f73d223d</th>\n",
       "      <td>12807</td>\n",
       "    </tr>\n",
       "    <tr>\n",
       "      <th>5cbcffeab5fa9206a8c2712ef085daab688dd086</th>\n",
       "      <th>cca78a1e963f3ba3443bf3e54a9aa939f73d223d</th>\n",
       "      <td>1267</td>\n",
       "    </tr>\n",
       "    <tr>\n",
       "      <th>273a50bed34ca35e5d1987ea3b05ce765aae0e0e</th>\n",
       "      <th>917c1e46b3861300aebf9a14e47a6ec989c7ac9e</th>\n",
       "      <td>933</td>\n",
       "    </tr>\n",
       "    <tr>\n",
       "      <th>6ec65bc349733bc0e85d17294d3a9cb6d8b8bdc8</th>\n",
       "      <th>ffd2edd79fe4bac98610a2ad6892b53395e44e34</th>\n",
       "      <td>724</td>\n",
       "    </tr>\n",
       "    <tr>\n",
       "      <th>de6157c0185924febf402efa9e4c36a4cbe4cbb1</th>\n",
       "      <th>cca78a1e963f3ba3443bf3e54a9aa939f73d223d</th>\n",
       "      <td>496</td>\n",
       "    </tr>\n",
       "    <tr>\n",
       "      <th>...</th>\n",
       "      <th>...</th>\n",
       "      <td>...</td>\n",
       "    </tr>\n",
       "    <tr>\n",
       "      <th>57502713dc0b287ab0e893c8313f55598077630f</th>\n",
       "      <th>7a592c4a3d20f50b2ba09a85b67c6d2fc925664b</th>\n",
       "      <td>1</td>\n",
       "    </tr>\n",
       "    <tr>\n",
       "      <th>5751a0c6507a8accd8a13005b6976d663db69bad</th>\n",
       "      <th>7a592c4a3d20f50b2ba09a85b67c6d2fc925664b</th>\n",
       "      <td>1</td>\n",
       "    </tr>\n",
       "    <tr>\n",
       "      <th>575588aec3617b91ea18facfd1e52a939b47dd6f</th>\n",
       "      <th>b67ede98966e4c418becb185d7efc74e2f59aa15</th>\n",
       "      <td>1</td>\n",
       "    </tr>\n",
       "    <tr>\n",
       "      <th>575905f14f00a35cd78292cca34d247285dba5e9</th>\n",
       "      <th>ca5a36444b047eb95e491fa2e70f968ae048ab10</th>\n",
       "      <td>1</td>\n",
       "    </tr>\n",
       "    <tr>\n",
       "      <th>fffcbfb3eaf9fa661b1855730265449a7de3ec7d</th>\n",
       "      <th>7a592c4a3d20f50b2ba09a85b67c6d2fc925664b</th>\n",
       "      <td>1</td>\n",
       "    </tr>\n",
       "  </tbody>\n",
       "</table>\n",
       "<p>18844 rows × 1 columns</p>\n",
       "</div>"
      ],
      "text/plain": [
       "                                                                                    date\n",
       "mac                                      ssid                                           \n",
       "d29675014f618f3ef3f6b75f146b4be71c513c16 cca78a1e963f3ba3443bf3e54a9aa939f73d223d  12807\n",
       "5cbcffeab5fa9206a8c2712ef085daab688dd086 cca78a1e963f3ba3443bf3e54a9aa939f73d223d   1267\n",
       "273a50bed34ca35e5d1987ea3b05ce765aae0e0e 917c1e46b3861300aebf9a14e47a6ec989c7ac9e    933\n",
       "6ec65bc349733bc0e85d17294d3a9cb6d8b8bdc8 ffd2edd79fe4bac98610a2ad6892b53395e44e34    724\n",
       "de6157c0185924febf402efa9e4c36a4cbe4cbb1 cca78a1e963f3ba3443bf3e54a9aa939f73d223d    496\n",
       "...                                                                                  ...\n",
       "57502713dc0b287ab0e893c8313f55598077630f 7a592c4a3d20f50b2ba09a85b67c6d2fc925664b      1\n",
       "5751a0c6507a8accd8a13005b6976d663db69bad 7a592c4a3d20f50b2ba09a85b67c6d2fc925664b      1\n",
       "575588aec3617b91ea18facfd1e52a939b47dd6f b67ede98966e4c418becb185d7efc74e2f59aa15      1\n",
       "575905f14f00a35cd78292cca34d247285dba5e9 ca5a36444b047eb95e491fa2e70f968ae048ab10      1\n",
       "fffcbfb3eaf9fa661b1855730265449a7de3ec7d 7a592c4a3d20f50b2ba09a85b67c6d2fc925664b      1\n",
       "\n",
       "[18844 rows x 1 columns]"
      ]
     },
     "execution_count": 56,
     "metadata": {},
     "output_type": "execute_result"
    }
   ],
   "source": [
    "ssids_df = ssids_df.drop_duplicates()\n",
    "sorted_mac = sensor_df.groupby(by=[\"mac\", \"ssid\"]).count().sort_values('date', ascending = False)\n",
    "sorted_mac"
   ]
  },
  {
   "cell_type": "code",
   "execution_count": null,
   "id": "077dc9f0-9cd4-46fd-84d6-052b680b1ef1",
   "metadata": {},
   "outputs": [],
   "source": []
  },
  {
   "cell_type": "code",
   "execution_count": null,
   "id": "cf94659c-4770-4823-9ff1-472caef3cdf4",
   "metadata": {},
   "outputs": [],
   "source": []
  },
  {
   "cell_type": "code",
   "execution_count": null,
   "id": "975aa7e6-7ace-4c46-aa08-c95881fc4c71",
   "metadata": {},
   "outputs": [],
   "source": []
  },
  {
   "cell_type": "code",
   "execution_count": null,
   "id": "f0d4fc55-a2a4-4b76-b5b7-4f25fcfe1de1",
   "metadata": {},
   "outputs": [],
   "source": []
  },
  {
   "cell_type": "code",
   "execution_count": null,
   "id": "d08c71a4-8c38-4e4a-8f65-5023af7df759",
   "metadata": {},
   "outputs": [],
   "source": []
  },
  {
   "cell_type": "code",
   "execution_count": null,
   "id": "3855ece4-8bd0-4cd1-90c3-d4509c9a2a4c",
   "metadata": {},
   "outputs": [],
   "source": []
  },
  {
   "cell_type": "code",
   "execution_count": null,
   "id": "789066f0-c109-43c8-881e-c1503a499cd7",
   "metadata": {},
   "outputs": [],
   "source": []
  },
  {
   "cell_type": "code",
   "execution_count": null,
   "id": "672bda6d-b21b-412b-a489-02e660695835",
   "metadata": {},
   "outputs": [],
   "source": []
  },
  {
   "cell_type": "code",
   "execution_count": null,
   "id": "d8227a01-bd0e-4633-8325-54fed761ca88",
   "metadata": {},
   "outputs": [],
   "source": []
  },
  {
   "cell_type": "code",
   "execution_count": null,
   "id": "3139f8e4-a7af-4438-bac6-92aaa7d985db",
   "metadata": {},
   "outputs": [],
   "source": []
  },
  {
   "cell_type": "code",
   "execution_count": 24,
   "id": "35e284a3-b28c-45a7-8aaa-31fa02c103be",
   "metadata": {},
   "outputs": [
    {
     "data": {
      "application/vnd.jupyter.widget-view+json": {
       "model_id": "ca00be08597c466e932a478252cc2c37",
       "version_major": 2,
       "version_minor": 0
      },
      "text/plain": [
       "                                             |                              | [  0%]   00:00 -> (? left)"
      ]
     },
     "metadata": {},
     "output_type": "display_data"
    },
    {
     "name": "stdout",
     "output_type": "stream",
     "text": [
      "Report ssids_df.html was generated! NOTEBOOK/COLAB USERS: the web browser MAY not pop up, regardless, the report IS saved in your notebook/colab files.\n"
     ]
    }
   ],
   "source": [
    "ssids_df\n",
    "advert_report = sv.analyze(ssids_df)\n",
    "#display the report\n",
    "advert_report.show_html('ssids_df.html')"
   ]
  },
  {
   "cell_type": "code",
   "execution_count": 18,
   "id": "f2935a2f-024f-408d-877f-e54644a91a9b",
   "metadata": {},
   "outputs": [
    {
     "data": {
      "text/html": [
       "<div>\n",
       "<style scoped>\n",
       "    .dataframe tbody tr th:only-of-type {\n",
       "        vertical-align: middle;\n",
       "    }\n",
       "\n",
       "    .dataframe tbody tr th {\n",
       "        vertical-align: top;\n",
       "    }\n",
       "\n",
       "    .dataframe thead th {\n",
       "        text-align: right;\n",
       "    }\n",
       "</style>\n",
       "<table border=\"1\" class=\"dataframe\">\n",
       "  <thead>\n",
       "    <tr style=\"text-align: right;\">\n",
       "      <th></th>\n",
       "      <th>Marca temporal</th>\n",
       "      <th>¿Cúal es su lugar de residencia?</th>\n",
       "      <th>En el caso de que haya marcado anteriormente que su lugar de residencia NO es Alcoi. ¿Podría especificar de dónde es? (país, provincia, municipio...)</th>\n",
       "      <th>¿Con cuántas personas viaja?</th>\n",
       "      <th>¿Con cuántas personas de las que viaja han entrado a las Tourist-Info?</th>\n",
       "      <th>Con el fin de mejorar nuestros servicios de información turística. ¿Me podría indicar si tiene el Wifi de su teléfono móvil abierto para conectarse a redes Wifi disponibles?</th>\n",
       "    </tr>\n",
       "  </thead>\n",
       "  <tbody>\n",
       "    <tr>\n",
       "      <th>0</th>\n",
       "      <td>2021/06/22 10:05:40 a. m. EET</td>\n",
       "      <td>Alcoi</td>\n",
       "      <td>NaN</td>\n",
       "      <td>2</td>\n",
       "      <td>2</td>\n",
       "      <td>No entiendo la pregunta</td>\n",
       "    </tr>\n",
       "    <tr>\n",
       "      <th>1</th>\n",
       "      <td>2021/06/22 10:58:33 a. m. EET</td>\n",
       "      <td>España</td>\n",
       "      <td>Madrid</td>\n",
       "      <td>0</td>\n",
       "      <td>0</td>\n",
       "      <td>No</td>\n",
       "    </tr>\n",
       "    <tr>\n",
       "      <th>2</th>\n",
       "      <td>2021/06/23 10:13:42 a. m. EET</td>\n",
       "      <td>Alcoi</td>\n",
       "      <td>NaN</td>\n",
       "      <td>0</td>\n",
       "      <td>0</td>\n",
       "      <td>Sí</td>\n",
       "    </tr>\n",
       "    <tr>\n",
       "      <th>3</th>\n",
       "      <td>2021/06/23 10:14:04 a. m. EET</td>\n",
       "      <td>España</td>\n",
       "      <td>Amposta</td>\n",
       "      <td>1</td>\n",
       "      <td>1</td>\n",
       "      <td>Sí</td>\n",
       "    </tr>\n",
       "    <tr>\n",
       "      <th>4</th>\n",
       "      <td>2021/06/23 10:46:55 a. m. EET</td>\n",
       "      <td>Internacional</td>\n",
       "      <td>Belgica</td>\n",
       "      <td>1</td>\n",
       "      <td>1</td>\n",
       "      <td>Sí</td>\n",
       "    </tr>\n",
       "    <tr>\n",
       "      <th>...</th>\n",
       "      <td>...</td>\n",
       "      <td>...</td>\n",
       "      <td>...</td>\n",
       "      <td>...</td>\n",
       "      <td>...</td>\n",
       "      <td>...</td>\n",
       "    </tr>\n",
       "    <tr>\n",
       "      <th>2592</th>\n",
       "      <td>2022/02/28 5:11:25 p. m. EET</td>\n",
       "      <td>Internacional</td>\n",
       "      <td>Francia</td>\n",
       "      <td>4</td>\n",
       "      <td>4</td>\n",
       "      <td>Sí</td>\n",
       "    </tr>\n",
       "    <tr>\n",
       "      <th>2593</th>\n",
       "      <td>2022/02/28 5:46:35 p. m. EET</td>\n",
       "      <td>Comunidad Valenciana</td>\n",
       "      <td>Torreviaje</td>\n",
       "      <td>1</td>\n",
       "      <td>1</td>\n",
       "      <td>No</td>\n",
       "    </tr>\n",
       "    <tr>\n",
       "      <th>2594</th>\n",
       "      <td>2022/02/28 6:21:35 p. m. EET</td>\n",
       "      <td>Internacional</td>\n",
       "      <td>Chile</td>\n",
       "      <td>0</td>\n",
       "      <td>0</td>\n",
       "      <td>No</td>\n",
       "    </tr>\n",
       "    <tr>\n",
       "      <th>2595</th>\n",
       "      <td>2022/02/28 6:22:04 p. m. EET</td>\n",
       "      <td>Alcoi</td>\n",
       "      <td>NaN</td>\n",
       "      <td>2</td>\n",
       "      <td>2</td>\n",
       "      <td>Sí</td>\n",
       "    </tr>\n",
       "    <tr>\n",
       "      <th>2596</th>\n",
       "      <td>2022/02/28 7:01:29 p. m. EET</td>\n",
       "      <td>España</td>\n",
       "      <td>Granada</td>\n",
       "      <td>1</td>\n",
       "      <td>1</td>\n",
       "      <td>Sí</td>\n",
       "    </tr>\n",
       "  </tbody>\n",
       "</table>\n",
       "<p>2597 rows × 6 columns</p>\n",
       "</div>"
      ],
      "text/plain": [
       "                     Marca temporal ¿Cúal es su lugar de residencia?  \\\n",
       "0     2021/06/22 10:05:40 a. m. EET                            Alcoi   \n",
       "1     2021/06/22 10:58:33 a. m. EET                           España   \n",
       "2     2021/06/23 10:13:42 a. m. EET                            Alcoi   \n",
       "3     2021/06/23 10:14:04 a. m. EET                           España   \n",
       "4     2021/06/23 10:46:55 a. m. EET                    Internacional   \n",
       "...                             ...                              ...   \n",
       "2592   2022/02/28 5:11:25 p. m. EET                    Internacional   \n",
       "2593   2022/02/28 5:46:35 p. m. EET             Comunidad Valenciana   \n",
       "2594   2022/02/28 6:21:35 p. m. EET                    Internacional   \n",
       "2595   2022/02/28 6:22:04 p. m. EET                            Alcoi   \n",
       "2596   2022/02/28 7:01:29 p. m. EET                           España   \n",
       "\n",
       "     En el caso de que haya marcado anteriormente que su lugar de residencia NO es Alcoi. ¿Podría especificar de dónde es? (país, provincia, municipio...)  \\\n",
       "0                                                   NaN                                                                                                      \n",
       "1                                                Madrid                                                                                                      \n",
       "2                                                   NaN                                                                                                      \n",
       "3                                               Amposta                                                                                                      \n",
       "4                                               Belgica                                                                                                      \n",
       "...                                                 ...                                                                                                      \n",
       "2592                                            Francia                                                                                                      \n",
       "2593                                         Torreviaje                                                                                                      \n",
       "2594                                              Chile                                                                                                      \n",
       "2595                                                NaN                                                                                                      \n",
       "2596                                            Granada                                                                                                      \n",
       "\n",
       "      ¿Con cuántas personas viaja?  \\\n",
       "0                                2   \n",
       "1                                0   \n",
       "2                                0   \n",
       "3                                1   \n",
       "4                                1   \n",
       "...                            ...   \n",
       "2592                             4   \n",
       "2593                             1   \n",
       "2594                             0   \n",
       "2595                             2   \n",
       "2596                             1   \n",
       "\n",
       "      ¿Con cuántas personas de las que viaja han entrado a las Tourist-Info?  \\\n",
       "0                                                     2                        \n",
       "1                                                     0                        \n",
       "2                                                     0                        \n",
       "3                                                     1                        \n",
       "4                                                     1                        \n",
       "...                                                 ...                        \n",
       "2592                                                  4                        \n",
       "2593                                                  1                        \n",
       "2594                                                  0                        \n",
       "2595                                                  2                        \n",
       "2596                                                  1                        \n",
       "\n",
       "     Con el fin de mejorar nuestros servicios de información turística. ¿Me podría indicar si tiene el Wifi de su teléfono móvil abierto para conectarse a redes Wifi disponibles?  \n",
       "0                               No entiendo la pregunta                                                                                                                             \n",
       "1                                                    No                                                                                                                             \n",
       "2                                                    Sí                                                                                                                             \n",
       "3                                                    Sí                                                                                                                             \n",
       "4                                                    Sí                                                                                                                             \n",
       "...                                                 ...                                                                                                                             \n",
       "2592                                                 Sí                                                                                                                             \n",
       "2593                                                 No                                                                                                                             \n",
       "2594                                                 No                                                                                                                             \n",
       "2595                                                 Sí                                                                                                                             \n",
       "2596                                                 Sí                                                                                                                             \n",
       "\n",
       "[2597 rows x 6 columns]"
      ]
     },
     "execution_count": 18,
     "metadata": {},
     "output_type": "execute_result"
    }
   ],
   "source": [
    "encuesta_df"
   ]
  }
 ],
 "metadata": {
  "kernelspec": {
   "display_name": "Python [conda env:TFM]",
   "language": "python",
   "name": "conda-env-TFM-py"
  },
  "language_info": {
   "codemirror_mode": {
    "name": "ipython",
    "version": 3
   },
   "file_extension": ".py",
   "mimetype": "text/x-python",
   "name": "python",
   "nbconvert_exporter": "python",
   "pygments_lexer": "ipython3",
   "version": "3.9.11"
  }
 },
 "nbformat": 4,
 "nbformat_minor": 5
}
