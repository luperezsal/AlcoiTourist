{
 "cells": [
  {
   "cell_type": "markdown",
   "id": "547b689a-63d3-47ac-8e2c-9f08c87462f0",
   "metadata": {},
   "source": [
    "# Alcoy Tourist"
   ]
  },
  {
   "cell_type": "markdown",
   "id": "fdd0be99-b8e0-4870-99c7-2c69e562b97b",
   "metadata": {},
   "source": [
    "El objetivo de este proyecto es:\n",
    "\n",
    "- Para poder lograr definir al municipio de Alcoi como Municipio Turístico es necesario averiguar cuántos turistas se encuentran en Alcoy en base a sus redes favoritas en sus teléfonos para poder ver si la afluencia de turistas en relación con los residentes de Alcoi es la que se establece en el Decreto de Municipio Turístico 2020.\n",
    "\n",
    "Este objetivo no es sencillo porque no todos los visitantes tienen activado el Wifi de su teléfono....\n",
    "\n",
    "Para lograr este objetivo analizaremos....."
   ]
  },
  {
   "cell_type": "markdown",
   "id": "8dc8d13f-4bd2-4269-9474-20252681f864",
   "metadata": {},
   "source": [
    "# Imports"
   ]
  },
  {
   "cell_type": "code",
   "execution_count": 256,
   "id": "e7aaea2e-f48e-40b4-8fc2-47398b047ac2",
   "metadata": {},
   "outputs": [],
   "source": [
    "import sweetviz as sv\n",
    "import pandas as pd\n",
    "from datetime import datetime\n",
    "from collections import Counter\n",
    "import plotly.express as px\n",
    "\n",
    "pd.options.plotting.backend = \"plotly\""
   ]
  },
  {
   "cell_type": "markdown",
   "id": "d5638a33-29bf-4269-8370-7deeedf33796",
   "metadata": {},
   "source": [
    "# Data"
   ]
  },
  {
   "cell_type": "markdown",
   "id": "491567df-57e1-4505-a1ed-d1178e3547c4",
   "metadata": {},
   "source": [
    "## Paths definition"
   ]
  },
  {
   "cell_type": "code",
   "execution_count": 257,
   "id": "bcd11bca-0990-4b8b-86e9-b0026ef03b94",
   "metadata": {},
   "outputs": [],
   "source": [
    "DATA_PATH = 'data'\n",
    "REPORTS_PATH = 'reports/'"
   ]
  },
  {
   "cell_type": "markdown",
   "id": "ad66f1fa-8e24-4952-978d-58b280957a08",
   "metadata": {},
   "source": [
    "## Data loading"
   ]
  },
  {
   "cell_type": "markdown",
   "id": "c9e4bbc1-8289-4f4d-8640-58a69337e898",
   "metadata": {},
   "source": [
    "En este proyecto dispondremos de tres dataset:\n",
    "\n",
    "- `datosEncuesta2206`: contiene la información relativa a las encuestas realizadas a las personas que han visitado la oficina de turismo de Alcoy.\n",
    "- `datosSensorTurismo2206`: dispone de información correspondientes a los 5 SSIDs favoritos de los moviles de las personas.\n",
    "- `ssidsAlcoi`: este dataset contiene el SSiDs de los dispositivos como routers, de Alcoi, estos fueron recolectados y resistrados, a partir de estos datos se realizan los  filtros de los datos del sensor de turismo.\n",
    "\n",
    "Nota: _En el conjunto de datos datos SSIDS Alcoi tenemos todas las direcciones de los puntos de conexión de la ciudad de Alocai._\n"
   ]
  },
  {
   "cell_type": "code",
   "execution_count": 258,
   "id": "4447b82a-8d27-459d-9d7a-d16c1b149016",
   "metadata": {},
   "outputs": [],
   "source": [
    "quiz_df = pd.read_csv(f\"{DATA_PATH}/datosEncuesta2206.csv\")\n",
    "sensor_df = pd.read_csv(f\"{DATA_PATH}/datosSensorTurismo2206.csv\")\n",
    "ssids_df  = pd.read_csv(f\"{DATA_PATH}/ssidsAlcoi.csv\")"
   ]
  },
  {
   "cell_type": "markdown",
   "id": "d29a73c3-03b2-4222-8cb3-913d5e3eeb5a",
   "metadata": {},
   "source": [
    "En el dataset datosSensorTurismo2206 tenemos \n",
    "\n",
    "\n",
    "De cada dispositivo, si la red a la que más se conecta no es de Alcoi es un turista.\n",
    "\n",
    "\n",
    "De este criterio saldrá un listado de MAC (dispositivos) que visitantes."
   ]
  },
  {
   "cell_type": "markdown",
   "id": "79f818d5-ca62-49aa-bffb-2c4c30d703d1",
   "metadata": {},
   "source": [
    "## Data Analyisis"
   ]
  },
  {
   "cell_type": "code",
   "execution_count": 259,
   "id": "639bd4a6-85b6-4d91-bdf1-218043875a62",
   "metadata": {
    "tags": []
   },
   "outputs": [],
   "source": [
    "# quiz_report = sv.analyze(quiz_df)\n",
    "# quiz_report.show_html(f\"{REPORTS_PATH}/Quiz.html\")\n",
    "\n",
    "# sensor_report = sv.analyze(sensor_df)\n",
    "# sensor_report.show_html(f\"{REPORTS_PATH}/Sensors.html\")\n",
    "\n",
    "# ssids_report = sv.analyze(ssids_df)\n",
    "# ssids_report.show_html(f\"{REPORTS_PATH}/SSIDs.html\")"
   ]
  },
  {
   "cell_type": "code",
   "execution_count": 260,
   "id": "d802ec48-ff9a-42ff-b70f-e322020e8739",
   "metadata": {},
   "outputs": [
    {
     "data": {
      "text/html": [
       "<div>\n",
       "<style scoped>\n",
       "    .dataframe tbody tr th:only-of-type {\n",
       "        vertical-align: middle;\n",
       "    }\n",
       "\n",
       "    .dataframe tbody tr th {\n",
       "        vertical-align: top;\n",
       "    }\n",
       "\n",
       "    .dataframe thead th {\n",
       "        text-align: right;\n",
       "    }\n",
       "</style>\n",
       "<table border=\"1\" class=\"dataframe\">\n",
       "  <thead>\n",
       "    <tr style=\"text-align: right;\">\n",
       "      <th></th>\n",
       "      <th>date</th>\n",
       "      <th>mac</th>\n",
       "      <th>ssid</th>\n",
       "    </tr>\n",
       "  </thead>\n",
       "  <tbody>\n",
       "    <tr>\n",
       "      <th>41670</th>\n",
       "      <td>1651557308022</td>\n",
       "      <td>adb3077264a1cdaebd3f000e5106b938b686d5ba</td>\n",
       "      <td>7a592c4a3d20f50b2ba09a85b67c6d2fc925664b</td>\n",
       "    </tr>\n",
       "    <tr>\n",
       "      <th>41669</th>\n",
       "      <td>1651557247963</td>\n",
       "      <td>9d164cc8432ebbec973b72d0863104278159d59e</td>\n",
       "      <td>7a592c4a3d20f50b2ba09a85b67c6d2fc925664b</td>\n",
       "    </tr>\n",
       "    <tr>\n",
       "      <th>41668</th>\n",
       "      <td>1651517743891</td>\n",
       "      <td>68cdd2558ab66ae552181a6a1020d761b6070884</td>\n",
       "      <td>877a09473e70b0032058eedab1ac679086a2ad84</td>\n",
       "    </tr>\n",
       "    <tr>\n",
       "      <th>41667</th>\n",
       "      <td>1651517623913</td>\n",
       "      <td>16e6a88f3a1690cc46ea76f103b9ca50f2348623</td>\n",
       "      <td>877a09473e70b0032058eedab1ac679086a2ad84</td>\n",
       "    </tr>\n",
       "    <tr>\n",
       "      <th>41666</th>\n",
       "      <td>1651517503850</td>\n",
       "      <td>0d47b0ba9ff0d21c53891dd51d915db490c5d6cd</td>\n",
       "      <td>877a09473e70b0032058eedab1ac679086a2ad84</td>\n",
       "    </tr>\n",
       "    <tr>\n",
       "      <th>...</th>\n",
       "      <td>...</td>\n",
       "      <td>...</td>\n",
       "      <td>...</td>\n",
       "    </tr>\n",
       "    <tr>\n",
       "      <th>4</th>\n",
       "      <td>1624342199096</td>\n",
       "      <td>d29675014f618f3ef3f6b75f146b4be71c513c16</td>\n",
       "      <td>cca78a1e963f3ba3443bf3e54a9aa939f73d223d</td>\n",
       "    </tr>\n",
       "    <tr>\n",
       "      <th>3</th>\n",
       "      <td>1624342180676</td>\n",
       "      <td>5cbcffeab5fa9206a8c2712ef085daab688dd086</td>\n",
       "      <td>cca78a1e963f3ba3443bf3e54a9aa939f73d223d</td>\n",
       "    </tr>\n",
       "    <tr>\n",
       "      <th>2</th>\n",
       "      <td>1624342133875</td>\n",
       "      <td>d29675014f618f3ef3f6b75f146b4be71c513c16</td>\n",
       "      <td>cca78a1e963f3ba3443bf3e54a9aa939f73d223d</td>\n",
       "    </tr>\n",
       "    <tr>\n",
       "      <th>1</th>\n",
       "      <td>1624342089379</td>\n",
       "      <td>5cbcffeab5fa9206a8c2712ef085daab688dd086</td>\n",
       "      <td>cca78a1e963f3ba3443bf3e54a9aa939f73d223d</td>\n",
       "    </tr>\n",
       "    <tr>\n",
       "      <th>0</th>\n",
       "      <td>1624342004054</td>\n",
       "      <td>d29675014f618f3ef3f6b75f146b4be71c513c16</td>\n",
       "      <td>cca78a1e963f3ba3443bf3e54a9aa939f73d223d</td>\n",
       "    </tr>\n",
       "  </tbody>\n",
       "</table>\n",
       "<p>41671 rows × 3 columns</p>\n",
       "</div>"
      ],
      "text/plain": [
       "                date                                       mac  \\\n",
       "41670  1651557308022  adb3077264a1cdaebd3f000e5106b938b686d5ba   \n",
       "41669  1651557247963  9d164cc8432ebbec973b72d0863104278159d59e   \n",
       "41668  1651517743891  68cdd2558ab66ae552181a6a1020d761b6070884   \n",
       "41667  1651517623913  16e6a88f3a1690cc46ea76f103b9ca50f2348623   \n",
       "41666  1651517503850  0d47b0ba9ff0d21c53891dd51d915db490c5d6cd   \n",
       "...              ...                                       ...   \n",
       "4      1624342199096  d29675014f618f3ef3f6b75f146b4be71c513c16   \n",
       "3      1624342180676  5cbcffeab5fa9206a8c2712ef085daab688dd086   \n",
       "2      1624342133875  d29675014f618f3ef3f6b75f146b4be71c513c16   \n",
       "1      1624342089379  5cbcffeab5fa9206a8c2712ef085daab688dd086   \n",
       "0      1624342004054  d29675014f618f3ef3f6b75f146b4be71c513c16   \n",
       "\n",
       "                                           ssid  \n",
       "41670  7a592c4a3d20f50b2ba09a85b67c6d2fc925664b  \n",
       "41669  7a592c4a3d20f50b2ba09a85b67c6d2fc925664b  \n",
       "41668  877a09473e70b0032058eedab1ac679086a2ad84  \n",
       "41667  877a09473e70b0032058eedab1ac679086a2ad84  \n",
       "41666  877a09473e70b0032058eedab1ac679086a2ad84  \n",
       "...                                         ...  \n",
       "4      cca78a1e963f3ba3443bf3e54a9aa939f73d223d  \n",
       "3      cca78a1e963f3ba3443bf3e54a9aa939f73d223d  \n",
       "2      cca78a1e963f3ba3443bf3e54a9aa939f73d223d  \n",
       "1      cca78a1e963f3ba3443bf3e54a9aa939f73d223d  \n",
       "0      cca78a1e963f3ba3443bf3e54a9aa939f73d223d  \n",
       "\n",
       "[41671 rows x 3 columns]"
      ]
     },
     "execution_count": 260,
     "metadata": {},
     "output_type": "execute_result"
    }
   ],
   "source": [
    "sensor_df.sort_values('date', ascending = False)\n"
   ]
  },
  {
   "cell_type": "markdown",
   "id": "62d63a19-594c-4be6-b442-5dd074db4301",
   "metadata": {},
   "source": [
    "A continuación listaremos todos los dispositivos que se han conectado a alguna de las redes conocidas en Alcoy, junto a la MAC del dispositivo se mostrará el número de veces que se ha conectado desde que se empezó a recoger esta información."
   ]
  },
  {
   "cell_type": "code",
   "execution_count": 261,
   "id": "2028209c-7a5c-4088-910f-649e460e45c6",
   "metadata": {},
   "outputs": [
    {
     "data": {
      "text/html": [
       "<div>\n",
       "<style scoped>\n",
       "    .dataframe tbody tr th:only-of-type {\n",
       "        vertical-align: middle;\n",
       "    }\n",
       "\n",
       "    .dataframe tbody tr th {\n",
       "        vertical-align: top;\n",
       "    }\n",
       "\n",
       "    .dataframe thead th {\n",
       "        text-align: right;\n",
       "    }\n",
       "</style>\n",
       "<table border=\"1\" class=\"dataframe\">\n",
       "  <thead>\n",
       "    <tr style=\"text-align: right;\">\n",
       "      <th></th>\n",
       "      <th></th>\n",
       "      <th>date</th>\n",
       "    </tr>\n",
       "    <tr>\n",
       "      <th>mac</th>\n",
       "      <th>ssid</th>\n",
       "      <th></th>\n",
       "    </tr>\n",
       "  </thead>\n",
       "  <tbody>\n",
       "    <tr>\n",
       "      <th>d29675014f618f3ef3f6b75f146b4be71c513c16</th>\n",
       "      <th>cca78a1e963f3ba3443bf3e54a9aa939f73d223d</th>\n",
       "      <td>12807</td>\n",
       "    </tr>\n",
       "    <tr>\n",
       "      <th>5cbcffeab5fa9206a8c2712ef085daab688dd086</th>\n",
       "      <th>cca78a1e963f3ba3443bf3e54a9aa939f73d223d</th>\n",
       "      <td>1267</td>\n",
       "    </tr>\n",
       "    <tr>\n",
       "      <th>273a50bed34ca35e5d1987ea3b05ce765aae0e0e</th>\n",
       "      <th>917c1e46b3861300aebf9a14e47a6ec989c7ac9e</th>\n",
       "      <td>933</td>\n",
       "    </tr>\n",
       "    <tr>\n",
       "      <th>6ec65bc349733bc0e85d17294d3a9cb6d8b8bdc8</th>\n",
       "      <th>ffd2edd79fe4bac98610a2ad6892b53395e44e34</th>\n",
       "      <td>724</td>\n",
       "    </tr>\n",
       "    <tr>\n",
       "      <th>de6157c0185924febf402efa9e4c36a4cbe4cbb1</th>\n",
       "      <th>cca78a1e963f3ba3443bf3e54a9aa939f73d223d</th>\n",
       "      <td>496</td>\n",
       "    </tr>\n",
       "    <tr>\n",
       "      <th>...</th>\n",
       "      <th>...</th>\n",
       "      <td>...</td>\n",
       "    </tr>\n",
       "    <tr>\n",
       "      <th>57502713dc0b287ab0e893c8313f55598077630f</th>\n",
       "      <th>7a592c4a3d20f50b2ba09a85b67c6d2fc925664b</th>\n",
       "      <td>1</td>\n",
       "    </tr>\n",
       "    <tr>\n",
       "      <th>5751a0c6507a8accd8a13005b6976d663db69bad</th>\n",
       "      <th>7a592c4a3d20f50b2ba09a85b67c6d2fc925664b</th>\n",
       "      <td>1</td>\n",
       "    </tr>\n",
       "    <tr>\n",
       "      <th>575588aec3617b91ea18facfd1e52a939b47dd6f</th>\n",
       "      <th>b67ede98966e4c418becb185d7efc74e2f59aa15</th>\n",
       "      <td>1</td>\n",
       "    </tr>\n",
       "    <tr>\n",
       "      <th>575905f14f00a35cd78292cca34d247285dba5e9</th>\n",
       "      <th>ca5a36444b047eb95e491fa2e70f968ae048ab10</th>\n",
       "      <td>1</td>\n",
       "    </tr>\n",
       "    <tr>\n",
       "      <th>fffcbfb3eaf9fa661b1855730265449a7de3ec7d</th>\n",
       "      <th>7a592c4a3d20f50b2ba09a85b67c6d2fc925664b</th>\n",
       "      <td>1</td>\n",
       "    </tr>\n",
       "  </tbody>\n",
       "</table>\n",
       "<p>18844 rows × 1 columns</p>\n",
       "</div>"
      ],
      "text/plain": [
       "                                                                                    date\n",
       "mac                                      ssid                                           \n",
       "d29675014f618f3ef3f6b75f146b4be71c513c16 cca78a1e963f3ba3443bf3e54a9aa939f73d223d  12807\n",
       "5cbcffeab5fa9206a8c2712ef085daab688dd086 cca78a1e963f3ba3443bf3e54a9aa939f73d223d   1267\n",
       "273a50bed34ca35e5d1987ea3b05ce765aae0e0e 917c1e46b3861300aebf9a14e47a6ec989c7ac9e    933\n",
       "6ec65bc349733bc0e85d17294d3a9cb6d8b8bdc8 ffd2edd79fe4bac98610a2ad6892b53395e44e34    724\n",
       "de6157c0185924febf402efa9e4c36a4cbe4cbb1 cca78a1e963f3ba3443bf3e54a9aa939f73d223d    496\n",
       "...                                                                                  ...\n",
       "57502713dc0b287ab0e893c8313f55598077630f 7a592c4a3d20f50b2ba09a85b67c6d2fc925664b      1\n",
       "5751a0c6507a8accd8a13005b6976d663db69bad 7a592c4a3d20f50b2ba09a85b67c6d2fc925664b      1\n",
       "575588aec3617b91ea18facfd1e52a939b47dd6f b67ede98966e4c418becb185d7efc74e2f59aa15      1\n",
       "575905f14f00a35cd78292cca34d247285dba5e9 ca5a36444b047eb95e491fa2e70f968ae048ab10      1\n",
       "fffcbfb3eaf9fa661b1855730265449a7de3ec7d 7a592c4a3d20f50b2ba09a85b67c6d2fc925664b      1\n",
       "\n",
       "[18844 rows x 1 columns]"
      ]
     },
     "execution_count": 261,
     "metadata": {},
     "output_type": "execute_result"
    }
   ],
   "source": [
    "sorted_macs_ssid = sensor_df.groupby(by=[\"mac\", 'ssid']).count().sort_values('date', ascending = False)\n",
    "sorted_macs_ssid"
   ]
  },
  {
   "cell_type": "code",
   "execution_count": 262,
   "id": "11d6894b-177b-4ccc-ab39-64d414b818b1",
   "metadata": {},
   "outputs": [],
   "source": [
    "# sorted_macs_ssid.value_counts()\n",
    "# sorted_macs_ssid\n",
    "# ssids_df[ssids_df['ssid'] == 'cca78a1e963f3ba3443bf3e54a9aa939f73d223d']"
   ]
  },
  {
   "cell_type": "markdown",
   "id": "141e1867-824a-4bb7-92a0-9a3fa3d443eb",
   "metadata": {},
   "source": [
    "Tal como se explica en la web **REFERENCIA DE ABAJO**, se considerarán turistas aquellas personas cuya red favorita en su teléfono no sea una de Alcoy. Para esto se realizará un conteo del número de veces que cada dispositvo se ha conectado a alguna red, de esta forma se podrá analizar cual es la favorita para cada dispositivo."
   ]
  },
  {
   "cell_type": "code",
   "execution_count": 263,
   "id": "7bc23f27-ff81-42d3-b91a-976f63393b1f",
   "metadata": {
    "tags": []
   },
   "outputs": [
    {
     "data": {
      "text/html": [
       "<div>\n",
       "<style scoped>\n",
       "    .dataframe tbody tr th:only-of-type {\n",
       "        vertical-align: middle;\n",
       "    }\n",
       "\n",
       "    .dataframe tbody tr th {\n",
       "        vertical-align: top;\n",
       "    }\n",
       "\n",
       "    .dataframe thead th {\n",
       "        text-align: right;\n",
       "    }\n",
       "</style>\n",
       "<table border=\"1\" class=\"dataframe\">\n",
       "  <thead>\n",
       "    <tr style=\"text-align: right;\">\n",
       "      <th></th>\n",
       "      <th></th>\n",
       "      <th>date</th>\n",
       "    </tr>\n",
       "    <tr>\n",
       "      <th>mac</th>\n",
       "      <th>ssid</th>\n",
       "      <th></th>\n",
       "    </tr>\n",
       "  </thead>\n",
       "  <tbody>\n",
       "    <tr>\n",
       "      <th>d29675014f618f3ef3f6b75f146b4be71c513c16</th>\n",
       "      <th>cca78a1e963f3ba3443bf3e54a9aa939f73d223d</th>\n",
       "      <td>12807</td>\n",
       "    </tr>\n",
       "    <tr>\n",
       "      <th>5cbcffeab5fa9206a8c2712ef085daab688dd086</th>\n",
       "      <th>cca78a1e963f3ba3443bf3e54a9aa939f73d223d</th>\n",
       "      <td>1267</td>\n",
       "    </tr>\n",
       "    <tr>\n",
       "      <th>273a50bed34ca35e5d1987ea3b05ce765aae0e0e</th>\n",
       "      <th>917c1e46b3861300aebf9a14e47a6ec989c7ac9e</th>\n",
       "      <td>933</td>\n",
       "    </tr>\n",
       "    <tr>\n",
       "      <th>6ec65bc349733bc0e85d17294d3a9cb6d8b8bdc8</th>\n",
       "      <th>ffd2edd79fe4bac98610a2ad6892b53395e44e34</th>\n",
       "      <td>724</td>\n",
       "    </tr>\n",
       "    <tr>\n",
       "      <th>de6157c0185924febf402efa9e4c36a4cbe4cbb1</th>\n",
       "      <th>cca78a1e963f3ba3443bf3e54a9aa939f73d223d</th>\n",
       "      <td>496</td>\n",
       "    </tr>\n",
       "    <tr>\n",
       "      <th>...</th>\n",
       "      <th>...</th>\n",
       "      <td>...</td>\n",
       "    </tr>\n",
       "    <tr>\n",
       "      <th>57502713dc0b287ab0e893c8313f55598077630f</th>\n",
       "      <th>7a592c4a3d20f50b2ba09a85b67c6d2fc925664b</th>\n",
       "      <td>1</td>\n",
       "    </tr>\n",
       "    <tr>\n",
       "      <th>5751a0c6507a8accd8a13005b6976d663db69bad</th>\n",
       "      <th>7a592c4a3d20f50b2ba09a85b67c6d2fc925664b</th>\n",
       "      <td>1</td>\n",
       "    </tr>\n",
       "    <tr>\n",
       "      <th>575588aec3617b91ea18facfd1e52a939b47dd6f</th>\n",
       "      <th>b67ede98966e4c418becb185d7efc74e2f59aa15</th>\n",
       "      <td>1</td>\n",
       "    </tr>\n",
       "    <tr>\n",
       "      <th>575905f14f00a35cd78292cca34d247285dba5e9</th>\n",
       "      <th>ca5a36444b047eb95e491fa2e70f968ae048ab10</th>\n",
       "      <td>1</td>\n",
       "    </tr>\n",
       "    <tr>\n",
       "      <th>fffcbfb3eaf9fa661b1855730265449a7de3ec7d</th>\n",
       "      <th>7a592c4a3d20f50b2ba09a85b67c6d2fc925664b</th>\n",
       "      <td>1</td>\n",
       "    </tr>\n",
       "  </tbody>\n",
       "</table>\n",
       "<p>18844 rows × 1 columns</p>\n",
       "</div>"
      ],
      "text/plain": [
       "                                                                                    date\n",
       "mac                                      ssid                                           \n",
       "d29675014f618f3ef3f6b75f146b4be71c513c16 cca78a1e963f3ba3443bf3e54a9aa939f73d223d  12807\n",
       "5cbcffeab5fa9206a8c2712ef085daab688dd086 cca78a1e963f3ba3443bf3e54a9aa939f73d223d   1267\n",
       "273a50bed34ca35e5d1987ea3b05ce765aae0e0e 917c1e46b3861300aebf9a14e47a6ec989c7ac9e    933\n",
       "6ec65bc349733bc0e85d17294d3a9cb6d8b8bdc8 ffd2edd79fe4bac98610a2ad6892b53395e44e34    724\n",
       "de6157c0185924febf402efa9e4c36a4cbe4cbb1 cca78a1e963f3ba3443bf3e54a9aa939f73d223d    496\n",
       "...                                                                                  ...\n",
       "57502713dc0b287ab0e893c8313f55598077630f 7a592c4a3d20f50b2ba09a85b67c6d2fc925664b      1\n",
       "5751a0c6507a8accd8a13005b6976d663db69bad 7a592c4a3d20f50b2ba09a85b67c6d2fc925664b      1\n",
       "575588aec3617b91ea18facfd1e52a939b47dd6f b67ede98966e4c418becb185d7efc74e2f59aa15      1\n",
       "575905f14f00a35cd78292cca34d247285dba5e9 ca5a36444b047eb95e491fa2e70f968ae048ab10      1\n",
       "fffcbfb3eaf9fa661b1855730265449a7de3ec7d 7a592c4a3d20f50b2ba09a85b67c6d2fc925664b      1\n",
       "\n",
       "[18844 rows x 1 columns]"
      ]
     },
     "execution_count": 263,
     "metadata": {},
     "output_type": "execute_result"
    }
   ],
   "source": [
    "# Se eliminar los identificadores de los routers que se encuentran duplicados.\n",
    "ssids_df = ssids_df.drop_duplicates()\n",
    "sorted_macs = sensor_df.groupby(by=[\"mac\", \"ssid\"]).count().sort_values('date', ascending = False)\n",
    "sorted_macs"
   ]
  },
  {
   "cell_type": "markdown",
   "id": "18002a1c-e089-4786-8666-f55a0243b0b1",
   "metadata": {},
   "source": [
    "El siguiente paso será obtener la red favorita de cada dispositivo, obteniendo aquella conexión que más veces se ha producido desde un dispositivo a un SSID:"
   ]
  },
  {
   "cell_type": "code",
   "execution_count": 264,
   "id": "34864919-e7ac-478d-b7de-dc46407331e1",
   "metadata": {
    "tags": []
   },
   "outputs": [
    {
     "data": {
      "text/html": [
       "<div>\n",
       "<style scoped>\n",
       "    .dataframe tbody tr th:only-of-type {\n",
       "        vertical-align: middle;\n",
       "    }\n",
       "\n",
       "    .dataframe tbody tr th {\n",
       "        vertical-align: top;\n",
       "    }\n",
       "\n",
       "    .dataframe thead th {\n",
       "        text-align: right;\n",
       "    }\n",
       "</style>\n",
       "<table border=\"1\" class=\"dataframe\">\n",
       "  <thead>\n",
       "    <tr style=\"text-align: right;\">\n",
       "      <th></th>\n",
       "      <th>mac</th>\n",
       "      <th>ssid</th>\n",
       "      <th>date</th>\n",
       "    </tr>\n",
       "  </thead>\n",
       "  <tbody>\n",
       "    <tr>\n",
       "      <th>0</th>\n",
       "      <td>d29675014f618f3ef3f6b75f146b4be71c513c16</td>\n",
       "      <td>cca78a1e963f3ba3443bf3e54a9aa939f73d223d</td>\n",
       "      <td>12807</td>\n",
       "    </tr>\n",
       "    <tr>\n",
       "      <th>1</th>\n",
       "      <td>5cbcffeab5fa9206a8c2712ef085daab688dd086</td>\n",
       "      <td>cca78a1e963f3ba3443bf3e54a9aa939f73d223d</td>\n",
       "      <td>1267</td>\n",
       "    </tr>\n",
       "    <tr>\n",
       "      <th>2</th>\n",
       "      <td>273a50bed34ca35e5d1987ea3b05ce765aae0e0e</td>\n",
       "      <td>917c1e46b3861300aebf9a14e47a6ec989c7ac9e</td>\n",
       "      <td>933</td>\n",
       "    </tr>\n",
       "    <tr>\n",
       "      <th>3</th>\n",
       "      <td>6ec65bc349733bc0e85d17294d3a9cb6d8b8bdc8</td>\n",
       "      <td>ffd2edd79fe4bac98610a2ad6892b53395e44e34</td>\n",
       "      <td>724</td>\n",
       "    </tr>\n",
       "    <tr>\n",
       "      <th>4</th>\n",
       "      <td>de6157c0185924febf402efa9e4c36a4cbe4cbb1</td>\n",
       "      <td>cca78a1e963f3ba3443bf3e54a9aa939f73d223d</td>\n",
       "      <td>496</td>\n",
       "    </tr>\n",
       "    <tr>\n",
       "      <th>...</th>\n",
       "      <td>...</td>\n",
       "      <td>...</td>\n",
       "      <td>...</td>\n",
       "    </tr>\n",
       "    <tr>\n",
       "      <th>18842</th>\n",
       "      <td>575905f14f00a35cd78292cca34d247285dba5e9</td>\n",
       "      <td>ca5a36444b047eb95e491fa2e70f968ae048ab10</td>\n",
       "      <td>1</td>\n",
       "    </tr>\n",
       "    <tr>\n",
       "      <th>18819</th>\n",
       "      <td>575a15e5ce9c7d65094333b9414cfcee1f49b9e9</td>\n",
       "      <td>5481655e85d7b477c2b37270be825fab0638e137</td>\n",
       "      <td>1</td>\n",
       "    </tr>\n",
       "    <tr>\n",
       "      <th>18810</th>\n",
       "      <td>575b3cf0642ac6ed9893dc02a0e541aef93183e2</td>\n",
       "      <td>79b10e6c830d5c4d8ef7ac53ac685df439ad6f23</td>\n",
       "      <td>1</td>\n",
       "    </tr>\n",
       "    <tr>\n",
       "      <th>18809</th>\n",
       "      <td>575e5b90c000c38c665a032eb1dca6805119a866</td>\n",
       "      <td>7a592c4a3d20f50b2ba09a85b67c6d2fc925664b</td>\n",
       "      <td>1</td>\n",
       "    </tr>\n",
       "    <tr>\n",
       "      <th>18843</th>\n",
       "      <td>fffcbfb3eaf9fa661b1855730265449a7de3ec7d</td>\n",
       "      <td>7a592c4a3d20f50b2ba09a85b67c6d2fc925664b</td>\n",
       "      <td>1</td>\n",
       "    </tr>\n",
       "  </tbody>\n",
       "</table>\n",
       "<p>18759 rows × 3 columns</p>\n",
       "</div>"
      ],
      "text/plain": [
       "                                            mac  \\\n",
       "0      d29675014f618f3ef3f6b75f146b4be71c513c16   \n",
       "1      5cbcffeab5fa9206a8c2712ef085daab688dd086   \n",
       "2      273a50bed34ca35e5d1987ea3b05ce765aae0e0e   \n",
       "3      6ec65bc349733bc0e85d17294d3a9cb6d8b8bdc8   \n",
       "4      de6157c0185924febf402efa9e4c36a4cbe4cbb1   \n",
       "...                                         ...   \n",
       "18842  575905f14f00a35cd78292cca34d247285dba5e9   \n",
       "18819  575a15e5ce9c7d65094333b9414cfcee1f49b9e9   \n",
       "18810  575b3cf0642ac6ed9893dc02a0e541aef93183e2   \n",
       "18809  575e5b90c000c38c665a032eb1dca6805119a866   \n",
       "18843  fffcbfb3eaf9fa661b1855730265449a7de3ec7d   \n",
       "\n",
       "                                           ssid   date  \n",
       "0      cca78a1e963f3ba3443bf3e54a9aa939f73d223d  12807  \n",
       "1      cca78a1e963f3ba3443bf3e54a9aa939f73d223d   1267  \n",
       "2      917c1e46b3861300aebf9a14e47a6ec989c7ac9e    933  \n",
       "3      ffd2edd79fe4bac98610a2ad6892b53395e44e34    724  \n",
       "4      cca78a1e963f3ba3443bf3e54a9aa939f73d223d    496  \n",
       "...                                         ...    ...  \n",
       "18842  ca5a36444b047eb95e491fa2e70f968ae048ab10      1  \n",
       "18819  5481655e85d7b477c2b37270be825fab0638e137      1  \n",
       "18810  79b10e6c830d5c4d8ef7ac53ac685df439ad6f23      1  \n",
       "18809  7a592c4a3d20f50b2ba09a85b67c6d2fc925664b      1  \n",
       "18843  7a592c4a3d20f50b2ba09a85b67c6d2fc925664b      1  \n",
       "\n",
       "[18759 rows x 3 columns]"
      ]
     },
     "execution_count": 264,
     "metadata": {},
     "output_type": "execute_result"
    }
   ],
   "source": [
    "# Agrupamso el dataframe por mac y por ssid, haciendo un conteo para visualizar\n",
    "# el nº de veces que un dispositivo se ha conectado a una ssid en concreto.\n",
    "sorted_macs = sensor_df.groupby(by=[\"mac\", \"ssid\"]).count().sort_values('date', ascending = False)\n",
    "\n",
    "# Al realizar un groupby multidimensional, pandas crea Multiindex, que son tuplas por las que\n",
    "# se referencia un registro (en este caso date) en base a dos valores (los agrupados por el groupby),\n",
    "# como queremos trabajar con un dataframe estándar sin estar preocupándonos de indexar correctamente\n",
    "# los multiíndices, hacemos un reset index para que los índices se pasen a columnas.\n",
    "sorted_macs = sorted_macs.reset_index()\n",
    "\n",
    "# Haciendo un group by por mac, obtenemos el id del registro de aquellos conteos máximos, es decir,\n",
    "# para cada dispositivo calculamos el valor máximo (máximo número de conexiones a las redes) y obtenemos\n",
    "# su id para después poder referenciar el dispositivo y la red que ha tenido más conexiones por su parte.\n",
    "idx_max_macs = sorted_macs.groupby(['mac'])['date'].idxmax()\n",
    "\n",
    "# Obtenemos los registros en base a los índices calculados anteriormente y ordenamos de forma descendente.\n",
    "sorted_macs  = sorted_macs.loc[idx_max_macs].sort_values('date', ascending = False)\n",
    "\n",
    "sorted_macs"
   ]
  },
  {
   "cell_type": "code",
   "execution_count": 265,
   "id": "5219b9a1-ae5a-4564-924b-3e6b53df302c",
   "metadata": {},
   "outputs": [
    {
     "name": "stdout",
     "output_type": "stream",
     "text": [
      "Routers únicos a los que se han conectado los dispositivos alguna vez: 1004\n",
      "Routers únicos total registrados por el camión de basura (total ciudad): 34259\n"
     ]
    }
   ],
   "source": [
    "# Routers únicos a los que se han conectado los dispositivos alguna vez\n",
    "print(f'Routers únicos a los que se han conectado los dispositivos alguna vez: {len(sorted_macs.ssid.unique())}')\n",
    "# Routers únicos total registrados por el camión de basura (total ciudad).\n",
    "print(f'Routers únicos total registrados por el camión de basura (total ciudad): {len(ssids_df.ssid.unique())}')\n",
    "\n",
    "# Existen muchos más routers detectados por el camión que puntos de acceso únicos a los que se conectan los móviles."
   ]
  },
  {
   "cell_type": "markdown",
   "id": "3d8f598e-c68e-4a90-a992-7a3c03b51757",
   "metadata": {},
   "source": [
    "Como la conexión favorita de los dispositivos no debe ser de Alcoy, eliminaremos aquellos dispositivos cuya conexión favorita sabemos que es de Alcoy."
   ]
  },
  {
   "cell_type": "code",
   "execution_count": 266,
   "id": "0590b10c-4a49-400b-adb8-699cc9159e29",
   "metadata": {},
   "outputs": [
    {
     "data": {
      "text/html": [
       "<div>\n",
       "<style scoped>\n",
       "    .dataframe tbody tr th:only-of-type {\n",
       "        vertical-align: middle;\n",
       "    }\n",
       "\n",
       "    .dataframe tbody tr th {\n",
       "        vertical-align: top;\n",
       "    }\n",
       "\n",
       "    .dataframe thead th {\n",
       "        text-align: right;\n",
       "    }\n",
       "</style>\n",
       "<table border=\"1\" class=\"dataframe\">\n",
       "  <thead>\n",
       "    <tr style=\"text-align: right;\">\n",
       "      <th></th>\n",
       "      <th>mac</th>\n",
       "      <th>ssid</th>\n",
       "      <th>date</th>\n",
       "    </tr>\n",
       "  </thead>\n",
       "  <tbody>\n",
       "    <tr>\n",
       "      <th>3</th>\n",
       "      <td>6ec65bc349733bc0e85d17294d3a9cb6d8b8bdc8</td>\n",
       "      <td>ffd2edd79fe4bac98610a2ad6892b53395e44e34</td>\n",
       "      <td>724</td>\n",
       "    </tr>\n",
       "    <tr>\n",
       "      <th>16</th>\n",
       "      <td>c5cf42dbeeeec2c87097c74cb45c72343b70f5a5</td>\n",
       "      <td>ca5a36444b047eb95e491fa2e70f968ae048ab10</td>\n",
       "      <td>105</td>\n",
       "    </tr>\n",
       "    <tr>\n",
       "      <th>18</th>\n",
       "      <td>ec4931e131e3ffbabb54c05249f97db9f0684c93</td>\n",
       "      <td>ffd2edd79fe4bac98610a2ad6892b53395e44e34</td>\n",
       "      <td>100</td>\n",
       "    </tr>\n",
       "    <tr>\n",
       "      <th>21</th>\n",
       "      <td>2645ffe542737dd58232ebd8eab47245ebd631ce</td>\n",
       "      <td>cfaeaac13a5e3e68077133a0886eea13760f146f</td>\n",
       "      <td>76</td>\n",
       "    </tr>\n",
       "    <tr>\n",
       "      <th>22</th>\n",
       "      <td>7b535408d7c0ada32bca60984ffb653ae4100708</td>\n",
       "      <td>bcdb505c4bee05b51423fdce27786e07fa7af46d</td>\n",
       "      <td>75</td>\n",
       "    </tr>\n",
       "    <tr>\n",
       "      <th>...</th>\n",
       "      <td>...</td>\n",
       "      <td>...</td>\n",
       "      <td>...</td>\n",
       "    </tr>\n",
       "    <tr>\n",
       "      <th>18837</th>\n",
       "      <td>57458c53b83c7ad8b7afbcf00b89559ae053d70c</td>\n",
       "      <td>2aa3b84471cfaa3ab3ec92df5cc92f56617bec59</td>\n",
       "      <td>1</td>\n",
       "    </tr>\n",
       "    <tr>\n",
       "      <th>18841</th>\n",
       "      <td>575588aec3617b91ea18facfd1e52a939b47dd6f</td>\n",
       "      <td>b67ede98966e4c418becb185d7efc74e2f59aa15</td>\n",
       "      <td>1</td>\n",
       "    </tr>\n",
       "    <tr>\n",
       "      <th>18842</th>\n",
       "      <td>575905f14f00a35cd78292cca34d247285dba5e9</td>\n",
       "      <td>ca5a36444b047eb95e491fa2e70f968ae048ab10</td>\n",
       "      <td>1</td>\n",
       "    </tr>\n",
       "    <tr>\n",
       "      <th>18819</th>\n",
       "      <td>575a15e5ce9c7d65094333b9414cfcee1f49b9e9</td>\n",
       "      <td>5481655e85d7b477c2b37270be825fab0638e137</td>\n",
       "      <td>1</td>\n",
       "    </tr>\n",
       "    <tr>\n",
       "      <th>18810</th>\n",
       "      <td>575b3cf0642ac6ed9893dc02a0e541aef93183e2</td>\n",
       "      <td>79b10e6c830d5c4d8ef7ac53ac685df439ad6f23</td>\n",
       "      <td>1</td>\n",
       "    </tr>\n",
       "  </tbody>\n",
       "</table>\n",
       "<p>10876 rows × 3 columns</p>\n",
       "</div>"
      ],
      "text/plain": [
       "                                            mac  \\\n",
       "3      6ec65bc349733bc0e85d17294d3a9cb6d8b8bdc8   \n",
       "16     c5cf42dbeeeec2c87097c74cb45c72343b70f5a5   \n",
       "18     ec4931e131e3ffbabb54c05249f97db9f0684c93   \n",
       "21     2645ffe542737dd58232ebd8eab47245ebd631ce   \n",
       "22     7b535408d7c0ada32bca60984ffb653ae4100708   \n",
       "...                                         ...   \n",
       "18837  57458c53b83c7ad8b7afbcf00b89559ae053d70c   \n",
       "18841  575588aec3617b91ea18facfd1e52a939b47dd6f   \n",
       "18842  575905f14f00a35cd78292cca34d247285dba5e9   \n",
       "18819  575a15e5ce9c7d65094333b9414cfcee1f49b9e9   \n",
       "18810  575b3cf0642ac6ed9893dc02a0e541aef93183e2   \n",
       "\n",
       "                                           ssid  date  \n",
       "3      ffd2edd79fe4bac98610a2ad6892b53395e44e34   724  \n",
       "16     ca5a36444b047eb95e491fa2e70f968ae048ab10   105  \n",
       "18     ffd2edd79fe4bac98610a2ad6892b53395e44e34   100  \n",
       "21     cfaeaac13a5e3e68077133a0886eea13760f146f    76  \n",
       "22     bcdb505c4bee05b51423fdce27786e07fa7af46d    75  \n",
       "...                                         ...   ...  \n",
       "18837  2aa3b84471cfaa3ab3ec92df5cc92f56617bec59     1  \n",
       "18841  b67ede98966e4c418becb185d7efc74e2f59aa15     1  \n",
       "18842  ca5a36444b047eb95e491fa2e70f968ae048ab10     1  \n",
       "18819  5481655e85d7b477c2b37270be825fab0638e137     1  \n",
       "18810  79b10e6c830d5c4d8ef7ac53ac685df439ad6f23     1  \n",
       "\n",
       "[10876 rows x 3 columns]"
      ]
     },
     "execution_count": 266,
     "metadata": {},
     "output_type": "execute_result"
    }
   ],
   "source": [
    "sorted_macs = sorted_macs[~sorted_macs.ssid.isin(ssids_df.ssid)]\n",
    "sorted_macs"
   ]
  },
  {
   "cell_type": "markdown",
   "id": "57f27966-51f5-4575-8054-183a41f28847",
   "metadata": {},
   "source": [
    "Obtenemos un total de 10.876 dispositivos cuya red favorita no es de Alcoy, por lo tanto los podemos considerar como turistas."
   ]
  },
  {
   "cell_type": "markdown",
   "id": "0c7d3731-1802-42cf-8a28-9ef54bde777c",
   "metadata": {},
   "source": [
    "En el siguiente apartado convertimos a formato de fecha y renombramos las columnas de `quiz_df`, esto es necesario para realizar otro análisis de los datos que nos permitirá comparar las estadíticas extraidas de la oficina de `Tourist Info` y los datos recolectados por los `Hopus`."
   ]
  },
  {
   "cell_type": "code",
   "execution_count": 321,
   "id": "4912ec07-f486-4bda-a645-2f7cc4ab4d95",
   "metadata": {},
   "outputs": [
    {
     "data": {
      "text/html": [
       "<div>\n",
       "<style scoped>\n",
       "    .dataframe tbody tr th:only-of-type {\n",
       "        vertical-align: middle;\n",
       "    }\n",
       "\n",
       "    .dataframe tbody tr th {\n",
       "        vertical-align: top;\n",
       "    }\n",
       "\n",
       "    .dataframe thead th {\n",
       "        text-align: right;\n",
       "    }\n",
       "</style>\n",
       "<table border=\"1\" class=\"dataframe\">\n",
       "  <thead>\n",
       "    <tr style=\"text-align: right;\">\n",
       "      <th></th>\n",
       "      <th>date</th>\n",
       "      <th>residence_1</th>\n",
       "      <th>residence_2</th>\n",
       "      <th>companions_number</th>\n",
       "      <th>companions_visited_info_office</th>\n",
       "      <th>wifi_enabled</th>\n",
       "    </tr>\n",
       "  </thead>\n",
       "  <tbody>\n",
       "    <tr>\n",
       "      <th>0</th>\n",
       "      <td>2021-06-01</td>\n",
       "      <td>Alcoi</td>\n",
       "      <td>NaN</td>\n",
       "      <td>2</td>\n",
       "      <td>2</td>\n",
       "      <td>No entiendo la pregunta</td>\n",
       "    </tr>\n",
       "    <tr>\n",
       "      <th>1</th>\n",
       "      <td>2021-06-01</td>\n",
       "      <td>España</td>\n",
       "      <td>Madrid</td>\n",
       "      <td>0</td>\n",
       "      <td>0</td>\n",
       "      <td>No</td>\n",
       "    </tr>\n",
       "    <tr>\n",
       "      <th>2</th>\n",
       "      <td>2021-06-01</td>\n",
       "      <td>Alcoi</td>\n",
       "      <td>NaN</td>\n",
       "      <td>0</td>\n",
       "      <td>0</td>\n",
       "      <td>Sí</td>\n",
       "    </tr>\n",
       "    <tr>\n",
       "      <th>3</th>\n",
       "      <td>2021-06-01</td>\n",
       "      <td>España</td>\n",
       "      <td>Amposta</td>\n",
       "      <td>1</td>\n",
       "      <td>1</td>\n",
       "      <td>Sí</td>\n",
       "    </tr>\n",
       "    <tr>\n",
       "      <th>4</th>\n",
       "      <td>2021-06-01</td>\n",
       "      <td>Internacional</td>\n",
       "      <td>Belgica</td>\n",
       "      <td>1</td>\n",
       "      <td>1</td>\n",
       "      <td>Sí</td>\n",
       "    </tr>\n",
       "    <tr>\n",
       "      <th>...</th>\n",
       "      <td>...</td>\n",
       "      <td>...</td>\n",
       "      <td>...</td>\n",
       "      <td>...</td>\n",
       "      <td>...</td>\n",
       "      <td>...</td>\n",
       "    </tr>\n",
       "    <tr>\n",
       "      <th>2592</th>\n",
       "      <td>2022-02-01</td>\n",
       "      <td>Internacional</td>\n",
       "      <td>Francia</td>\n",
       "      <td>4</td>\n",
       "      <td>4</td>\n",
       "      <td>Sí</td>\n",
       "    </tr>\n",
       "    <tr>\n",
       "      <th>2593</th>\n",
       "      <td>2022-02-01</td>\n",
       "      <td>Comunidad Valenciana</td>\n",
       "      <td>Torreviaje</td>\n",
       "      <td>1</td>\n",
       "      <td>1</td>\n",
       "      <td>No</td>\n",
       "    </tr>\n",
       "    <tr>\n",
       "      <th>2594</th>\n",
       "      <td>2022-02-01</td>\n",
       "      <td>Internacional</td>\n",
       "      <td>Chile</td>\n",
       "      <td>0</td>\n",
       "      <td>0</td>\n",
       "      <td>No</td>\n",
       "    </tr>\n",
       "    <tr>\n",
       "      <th>2595</th>\n",
       "      <td>2022-02-01</td>\n",
       "      <td>Alcoi</td>\n",
       "      <td>NaN</td>\n",
       "      <td>2</td>\n",
       "      <td>2</td>\n",
       "      <td>Sí</td>\n",
       "    </tr>\n",
       "    <tr>\n",
       "      <th>2596</th>\n",
       "      <td>2022-02-01</td>\n",
       "      <td>España</td>\n",
       "      <td>Granada</td>\n",
       "      <td>1</td>\n",
       "      <td>1</td>\n",
       "      <td>Sí</td>\n",
       "    </tr>\n",
       "  </tbody>\n",
       "</table>\n",
       "<p>2597 rows × 6 columns</p>\n",
       "</div>"
      ],
      "text/plain": [
       "           date           residence_1 residence_2  companions_number  \\\n",
       "0    2021-06-01                 Alcoi         NaN                  2   \n",
       "1    2021-06-01                España      Madrid                  0   \n",
       "2    2021-06-01                 Alcoi         NaN                  0   \n",
       "3    2021-06-01                España     Amposta                  1   \n",
       "4    2021-06-01         Internacional     Belgica                  1   \n",
       "...         ...                   ...         ...                ...   \n",
       "2592 2022-02-01         Internacional     Francia                  4   \n",
       "2593 2022-02-01  Comunidad Valenciana  Torreviaje                  1   \n",
       "2594 2022-02-01         Internacional       Chile                  0   \n",
       "2595 2022-02-01                 Alcoi         NaN                  2   \n",
       "2596 2022-02-01                España     Granada                  1   \n",
       "\n",
       "      companions_visited_info_office             wifi_enabled  \n",
       "0                                  2  No entiendo la pregunta  \n",
       "1                                  0                       No  \n",
       "2                                  0                       Sí  \n",
       "3                                  1                       Sí  \n",
       "4                                  1                       Sí  \n",
       "...                              ...                      ...  \n",
       "2592                               4                       Sí  \n",
       "2593                               1                       No  \n",
       "2594                               0                       No  \n",
       "2595                               2                       Sí  \n",
       "2596                               1                       Sí  \n",
       "\n",
       "[2597 rows x 6 columns]"
      ]
     },
     "execution_count": 321,
     "metadata": {},
     "output_type": "execute_result"
    }
   ],
   "source": [
    "COLUMNS_RENAMED = ['date', 'residence_1', 'residence_2', 'companions_number', 'companions_visited_info_office', 'wifi_enabled']\n",
    "\n",
    "\n",
    "quiz_df.columns = COLUMNS_RENAMED\n",
    "quiz_df['date'] = pd.to_datetime(quiz_df['date'], infer_datetime_format = True)\n",
    "quiz_df['residence_2'] = quiz_df['residence_2'].str.strip()"
   ]
  },
  {
   "cell_type": "code",
   "execution_count": 322,
   "id": "f69774a0-ec96-4e1b-b17b-94ff7b4965e4",
   "metadata": {},
   "outputs": [
    {
     "data": {
      "text/html": [
       "<div>\n",
       "<style scoped>\n",
       "    .dataframe tbody tr th:only-of-type {\n",
       "        vertical-align: middle;\n",
       "    }\n",
       "\n",
       "    .dataframe tbody tr th {\n",
       "        vertical-align: top;\n",
       "    }\n",
       "\n",
       "    .dataframe thead th {\n",
       "        text-align: right;\n",
       "    }\n",
       "</style>\n",
       "<table border=\"1\" class=\"dataframe\">\n",
       "  <thead>\n",
       "    <tr style=\"text-align: right;\">\n",
       "      <th></th>\n",
       "      <th>count</th>\n",
       "      <th>tourist_info</th>\n",
       "    </tr>\n",
       "    <tr>\n",
       "      <th>date</th>\n",
       "      <th></th>\n",
       "      <th></th>\n",
       "    </tr>\n",
       "  </thead>\n",
       "  <tbody>\n",
       "    <tr>\n",
       "      <th>2021-06</th>\n",
       "      <td>57</td>\n",
       "      <td>Oficina de Turismo</td>\n",
       "    </tr>\n",
       "    <tr>\n",
       "      <th>2021-07</th>\n",
       "      <td>278</td>\n",
       "      <td>Oficina de Turismo</td>\n",
       "    </tr>\n",
       "    <tr>\n",
       "      <th>2021-08</th>\n",
       "      <td>515</td>\n",
       "      <td>Oficina de Turismo</td>\n",
       "    </tr>\n",
       "    <tr>\n",
       "      <th>2021-09</th>\n",
       "      <td>230</td>\n",
       "      <td>Oficina de Turismo</td>\n",
       "    </tr>\n",
       "    <tr>\n",
       "      <th>2021-10</th>\n",
       "      <td>276</td>\n",
       "      <td>Oficina de Turismo</td>\n",
       "    </tr>\n",
       "    <tr>\n",
       "      <th>2021-11</th>\n",
       "      <td>253</td>\n",
       "      <td>Oficina de Turismo</td>\n",
       "    </tr>\n",
       "    <tr>\n",
       "      <th>2021-12</th>\n",
       "      <td>540</td>\n",
       "      <td>Oficina de Turismo</td>\n",
       "    </tr>\n",
       "    <tr>\n",
       "      <th>2022-01</th>\n",
       "      <td>235</td>\n",
       "      <td>Oficina de Turismo</td>\n",
       "    </tr>\n",
       "    <tr>\n",
       "      <th>2022-02</th>\n",
       "      <td>213</td>\n",
       "      <td>Oficina de Turismo</td>\n",
       "    </tr>\n",
       "  </tbody>\n",
       "</table>\n",
       "</div>"
      ],
      "text/plain": [
       "         count        tourist_info\n",
       "date                              \n",
       "2021-06     57  Oficina de Turismo\n",
       "2021-07    278  Oficina de Turismo\n",
       "2021-08    515  Oficina de Turismo\n",
       "2021-09    230  Oficina de Turismo\n",
       "2021-10    276  Oficina de Turismo\n",
       "2021-11    253  Oficina de Turismo\n",
       "2021-12    540  Oficina de Turismo\n",
       "2022-01    235  Oficina de Turismo\n",
       "2022-02    213  Oficina de Turismo"
      ]
     },
     "execution_count": 322,
     "metadata": {},
     "output_type": "execute_result"
    }
   ],
   "source": [
    "quiz_df['date'] = quiz_df['date'].dt.strftime('%Y-%m')\n",
    "single_tourist_info_visitors = quiz_df.loc[quiz_df.index.repeat(quiz_df.companions_number)]\n",
    "tourist_info_visitors = single_tourist_info_visitors.groupby(by = ['date'])['residence_1'].count()\n",
    "tourist_info_visitors = tourist_info_visitors.to_frame()\n",
    "tourist_info_visitors['tourist_info'] = 'Oficina de Turismo' \n",
    "tourist_info_visitors.columns = ['count', 'tourist_info']"
   ]
  },
  {
   "cell_type": "code",
   "execution_count": 323,
   "id": "767b73c6-dc40-4d49-a5ba-2edd4bc78253",
   "metadata": {},
   "outputs": [
    {
     "data": {
      "text/html": [
       "<div>\n",
       "<style scoped>\n",
       "    .dataframe tbody tr th:only-of-type {\n",
       "        vertical-align: middle;\n",
       "    }\n",
       "\n",
       "    .dataframe tbody tr th {\n",
       "        vertical-align: top;\n",
       "    }\n",
       "\n",
       "    .dataframe thead th {\n",
       "        text-align: right;\n",
       "    }\n",
       "</style>\n",
       "<table border=\"1\" class=\"dataframe\">\n",
       "  <thead>\n",
       "    <tr style=\"text-align: right;\">\n",
       "      <th></th>\n",
       "      <th>count</th>\n",
       "      <th>tourist_info</th>\n",
       "    </tr>\n",
       "    <tr>\n",
       "      <th>date</th>\n",
       "      <th></th>\n",
       "      <th></th>\n",
       "    </tr>\n",
       "  </thead>\n",
       "  <tbody>\n",
       "    <tr>\n",
       "      <th>2021-06</th>\n",
       "      <td>205</td>\n",
       "      <td>Hopus</td>\n",
       "    </tr>\n",
       "    <tr>\n",
       "      <th>2021-07</th>\n",
       "      <td>696</td>\n",
       "      <td>Hopus</td>\n",
       "    </tr>\n",
       "    <tr>\n",
       "      <th>2021-08</th>\n",
       "      <td>638</td>\n",
       "      <td>Hopus</td>\n",
       "    </tr>\n",
       "    <tr>\n",
       "      <th>2021-09</th>\n",
       "      <td>1928</td>\n",
       "      <td>Hopus</td>\n",
       "    </tr>\n",
       "    <tr>\n",
       "      <th>2021-10</th>\n",
       "      <td>1361</td>\n",
       "      <td>Hopus</td>\n",
       "    </tr>\n",
       "    <tr>\n",
       "      <th>2021-11</th>\n",
       "      <td>111</td>\n",
       "      <td>Hopus</td>\n",
       "    </tr>\n",
       "    <tr>\n",
       "      <th>2021-12</th>\n",
       "      <td>1020</td>\n",
       "      <td>Hopus</td>\n",
       "    </tr>\n",
       "    <tr>\n",
       "      <th>2022-01</th>\n",
       "      <td>2710</td>\n",
       "      <td>Hopus</td>\n",
       "    </tr>\n",
       "    <tr>\n",
       "      <th>2022-02</th>\n",
       "      <td>3191</td>\n",
       "      <td>Hopus</td>\n",
       "    </tr>\n",
       "    <tr>\n",
       "      <th>2022-03</th>\n",
       "      <td>539</td>\n",
       "      <td>Hopus</td>\n",
       "    </tr>\n",
       "    <tr>\n",
       "      <th>2022-04</th>\n",
       "      <td>902</td>\n",
       "      <td>Hopus</td>\n",
       "    </tr>\n",
       "    <tr>\n",
       "      <th>2022-05</th>\n",
       "      <td>17</td>\n",
       "      <td>Hopus</td>\n",
       "    </tr>\n",
       "  </tbody>\n",
       "</table>\n",
       "</div>"
      ],
      "text/plain": [
       "         count tourist_info\n",
       "date                       \n",
       "2021-06    205        Hopus\n",
       "2021-07    696        Hopus\n",
       "2021-08    638        Hopus\n",
       "2021-09   1928        Hopus\n",
       "2021-10   1361        Hopus\n",
       "2021-11    111        Hopus\n",
       "2021-12   1020        Hopus\n",
       "2022-01   2710        Hopus\n",
       "2022-02   3191        Hopus\n",
       "2022-03    539        Hopus\n",
       "2022-04    902        Hopus\n",
       "2022-05     17        Hopus"
      ]
     },
     "execution_count": 323,
     "metadata": {},
     "output_type": "execute_result"
    }
   ],
   "source": [
    "temporal_analysis_df = sensor_df.copy()\n",
    "\n",
    "temporal_analysis_df = temporal_analysis_df[(temporal_analysis_df.ssid.isin(sorted_macs.ssid)) & (temporal_analysis_df.mac.isin(sorted_macs.mac))]\n",
    "\n",
    "# Solo extraemos la fecha para poder hacer el análisis temporal.\n",
    "temporal_analysis_df['date'] = pd.to_datetime(temporal_analysis_df['date'], unit='ms').dt.date\n",
    "temporal_analysis_df['date'] = pd.to_datetime(temporal_analysis_df['date'])\n",
    "temporal_analysis_df['date'] = temporal_analysis_df['date'].dt.strftime('%Y-%m')\n",
    "\n",
    "time_series = temporal_analysis_df.groupby(by=[\"date\"])['mac'].count()\n",
    "time_series = time_series.to_frame()\n",
    "time_series['tourist_info'] = 'Hopus'\n",
    "time_series.columns = ['count', 'tourist_info']"
   ]
  },
  {
   "cell_type": "code",
   "execution_count": 324,
   "id": "ec8d4b2c-1297-4f31-b4f9-7022cd21512b",
   "metadata": {},
   "outputs": [
    {
     "data": {
      "text/html": [
       "<div>\n",
       "<style scoped>\n",
       "    .dataframe tbody tr th:only-of-type {\n",
       "        vertical-align: middle;\n",
       "    }\n",
       "\n",
       "    .dataframe tbody tr th {\n",
       "        vertical-align: top;\n",
       "    }\n",
       "\n",
       "    .dataframe thead th {\n",
       "        text-align: right;\n",
       "    }\n",
       "</style>\n",
       "<table border=\"1\" class=\"dataframe\">\n",
       "  <thead>\n",
       "    <tr style=\"text-align: right;\">\n",
       "      <th></th>\n",
       "      <th>date</th>\n",
       "      <th>count</th>\n",
       "      <th>tourist_info</th>\n",
       "    </tr>\n",
       "  </thead>\n",
       "  <tbody>\n",
       "    <tr>\n",
       "      <th>0</th>\n",
       "      <td>2021-06</td>\n",
       "      <td>205</td>\n",
       "      <td>Hopus</td>\n",
       "    </tr>\n",
       "    <tr>\n",
       "      <th>1</th>\n",
       "      <td>2021-07</td>\n",
       "      <td>696</td>\n",
       "      <td>Hopus</td>\n",
       "    </tr>\n",
       "    <tr>\n",
       "      <th>2</th>\n",
       "      <td>2021-08</td>\n",
       "      <td>638</td>\n",
       "      <td>Hopus</td>\n",
       "    </tr>\n",
       "    <tr>\n",
       "      <th>3</th>\n",
       "      <td>2021-09</td>\n",
       "      <td>1928</td>\n",
       "      <td>Hopus</td>\n",
       "    </tr>\n",
       "    <tr>\n",
       "      <th>4</th>\n",
       "      <td>2021-10</td>\n",
       "      <td>1361</td>\n",
       "      <td>Hopus</td>\n",
       "    </tr>\n",
       "    <tr>\n",
       "      <th>5</th>\n",
       "      <td>2021-11</td>\n",
       "      <td>111</td>\n",
       "      <td>Hopus</td>\n",
       "    </tr>\n",
       "    <tr>\n",
       "      <th>6</th>\n",
       "      <td>2021-12</td>\n",
       "      <td>1020</td>\n",
       "      <td>Hopus</td>\n",
       "    </tr>\n",
       "    <tr>\n",
       "      <th>7</th>\n",
       "      <td>2022-01</td>\n",
       "      <td>2710</td>\n",
       "      <td>Hopus</td>\n",
       "    </tr>\n",
       "    <tr>\n",
       "      <th>8</th>\n",
       "      <td>2022-02</td>\n",
       "      <td>3191</td>\n",
       "      <td>Hopus</td>\n",
       "    </tr>\n",
       "    <tr>\n",
       "      <th>9</th>\n",
       "      <td>2022-03</td>\n",
       "      <td>539</td>\n",
       "      <td>Hopus</td>\n",
       "    </tr>\n",
       "    <tr>\n",
       "      <th>10</th>\n",
       "      <td>2022-04</td>\n",
       "      <td>902</td>\n",
       "      <td>Hopus</td>\n",
       "    </tr>\n",
       "    <tr>\n",
       "      <th>11</th>\n",
       "      <td>2022-05</td>\n",
       "      <td>17</td>\n",
       "      <td>Hopus</td>\n",
       "    </tr>\n",
       "    <tr>\n",
       "      <th>12</th>\n",
       "      <td>2021-06</td>\n",
       "      <td>57</td>\n",
       "      <td>Oficina de Turismo</td>\n",
       "    </tr>\n",
       "    <tr>\n",
       "      <th>13</th>\n",
       "      <td>2021-07</td>\n",
       "      <td>278</td>\n",
       "      <td>Oficina de Turismo</td>\n",
       "    </tr>\n",
       "    <tr>\n",
       "      <th>14</th>\n",
       "      <td>2021-08</td>\n",
       "      <td>515</td>\n",
       "      <td>Oficina de Turismo</td>\n",
       "    </tr>\n",
       "    <tr>\n",
       "      <th>15</th>\n",
       "      <td>2021-09</td>\n",
       "      <td>230</td>\n",
       "      <td>Oficina de Turismo</td>\n",
       "    </tr>\n",
       "    <tr>\n",
       "      <th>16</th>\n",
       "      <td>2021-10</td>\n",
       "      <td>276</td>\n",
       "      <td>Oficina de Turismo</td>\n",
       "    </tr>\n",
       "    <tr>\n",
       "      <th>17</th>\n",
       "      <td>2021-11</td>\n",
       "      <td>253</td>\n",
       "      <td>Oficina de Turismo</td>\n",
       "    </tr>\n",
       "    <tr>\n",
       "      <th>18</th>\n",
       "      <td>2021-12</td>\n",
       "      <td>540</td>\n",
       "      <td>Oficina de Turismo</td>\n",
       "    </tr>\n",
       "    <tr>\n",
       "      <th>19</th>\n",
       "      <td>2022-01</td>\n",
       "      <td>235</td>\n",
       "      <td>Oficina de Turismo</td>\n",
       "    </tr>\n",
       "    <tr>\n",
       "      <th>20</th>\n",
       "      <td>2022-02</td>\n",
       "      <td>213</td>\n",
       "      <td>Oficina de Turismo</td>\n",
       "    </tr>\n",
       "  </tbody>\n",
       "</table>\n",
       "</div>"
      ],
      "text/plain": [
       "       date  count        tourist_info\n",
       "0   2021-06    205               Hopus\n",
       "1   2021-07    696               Hopus\n",
       "2   2021-08    638               Hopus\n",
       "3   2021-09   1928               Hopus\n",
       "4   2021-10   1361               Hopus\n",
       "5   2021-11    111               Hopus\n",
       "6   2021-12   1020               Hopus\n",
       "7   2022-01   2710               Hopus\n",
       "8   2022-02   3191               Hopus\n",
       "9   2022-03    539               Hopus\n",
       "10  2022-04    902               Hopus\n",
       "11  2022-05     17               Hopus\n",
       "12  2021-06     57  Oficina de Turismo\n",
       "13  2021-07    278  Oficina de Turismo\n",
       "14  2021-08    515  Oficina de Turismo\n",
       "15  2021-09    230  Oficina de Turismo\n",
       "16  2021-10    276  Oficina de Turismo\n",
       "17  2021-11    253  Oficina de Turismo\n",
       "18  2021-12    540  Oficina de Turismo\n",
       "19  2022-01    235  Oficina de Turismo\n",
       "20  2022-02    213  Oficina de Turismo"
      ]
     },
     "execution_count": 324,
     "metadata": {},
     "output_type": "execute_result"
    }
   ],
   "source": [
    "frames = [time_series, tourist_info_visitors]\n",
    "\n",
    "result = pd.concat(frames)\n",
    "\n",
    "result.reset_index(inplace=True)\n",
    "result = result.rename(columns = {'index':'date'})"
   ]
  },
  {
   "cell_type": "code",
   "execution_count": 327,
   "id": "acaafbd3-4307-47c3-825b-8bd0728ed75d",
   "metadata": {},
   "outputs": [
    {
     "data": {
      "application/vnd.plotly.v1+json": {
       "config": {
        "plotlyServerURL": "https://plot.ly"
       },
       "data": [
        {
         "hovertemplate": "Medio de Obtención de los Datos=Hopus<br>Mes/Año=%{x}<br>Cantidad de Turistas=%{y}<extra></extra>",
         "legendgroup": "Hopus",
         "line": {
          "color": "#636efa",
          "dash": "solid"
         },
         "mode": "lines",
         "name": "Hopus",
         "orientation": "v",
         "showlegend": true,
         "type": "scatter",
         "x": [
          "2021-06",
          "2021-07",
          "2021-08",
          "2021-09",
          "2021-10",
          "2021-11",
          "2021-12",
          "2022-01",
          "2022-02",
          "2022-03",
          "2022-04",
          "2022-05"
         ],
         "xaxis": "x",
         "y": [
          205,
          696,
          638,
          1928,
          1361,
          111,
          1020,
          2710,
          3191,
          539,
          902,
          17
         ],
         "yaxis": "y"
        },
        {
         "hovertemplate": "Medio de Obtención de los Datos=Oficina de Turismo<br>Mes/Año=%{x}<br>Cantidad de Turistas=%{y}<extra></extra>",
         "legendgroup": "Oficina de Turismo",
         "line": {
          "color": "#EF553B",
          "dash": "solid"
         },
         "mode": "lines",
         "name": "Oficina de Turismo",
         "orientation": "v",
         "showlegend": true,
         "type": "scatter",
         "x": [
          "2021-06",
          "2021-07",
          "2021-08",
          "2021-09",
          "2021-10",
          "2021-11",
          "2021-12",
          "2022-01",
          "2022-02"
         ],
         "xaxis": "x",
         "y": [
          57,
          278,
          515,
          230,
          276,
          253,
          540,
          235,
          213
         ],
         "yaxis": "y"
        }
       ],
       "layout": {
        "autosize": true,
        "legend": {
         "title": {
          "text": "Medio de Obtención de los Datos"
         },
         "tracegroupgap": 0
        },
        "template": {
         "data": {
          "bar": [
           {
            "error_x": {
             "color": "#2a3f5f"
            },
            "error_y": {
             "color": "#2a3f5f"
            },
            "marker": {
             "line": {
              "color": "#E5ECF6",
              "width": 0.5
             },
             "pattern": {
              "fillmode": "overlay",
              "size": 10,
              "solidity": 0.2
             }
            },
            "type": "bar"
           }
          ],
          "barpolar": [
           {
            "marker": {
             "line": {
              "color": "#E5ECF6",
              "width": 0.5
             },
             "pattern": {
              "fillmode": "overlay",
              "size": 10,
              "solidity": 0.2
             }
            },
            "type": "barpolar"
           }
          ],
          "carpet": [
           {
            "aaxis": {
             "endlinecolor": "#2a3f5f",
             "gridcolor": "white",
             "linecolor": "white",
             "minorgridcolor": "white",
             "startlinecolor": "#2a3f5f"
            },
            "baxis": {
             "endlinecolor": "#2a3f5f",
             "gridcolor": "white",
             "linecolor": "white",
             "minorgridcolor": "white",
             "startlinecolor": "#2a3f5f"
            },
            "type": "carpet"
           }
          ],
          "choropleth": [
           {
            "colorbar": {
             "outlinewidth": 0,
             "ticks": ""
            },
            "type": "choropleth"
           }
          ],
          "contour": [
           {
            "colorbar": {
             "outlinewidth": 0,
             "ticks": ""
            },
            "colorscale": [
             [
              0,
              "#0d0887"
             ],
             [
              0.1111111111111111,
              "#46039f"
             ],
             [
              0.2222222222222222,
              "#7201a8"
             ],
             [
              0.3333333333333333,
              "#9c179e"
             ],
             [
              0.4444444444444444,
              "#bd3786"
             ],
             [
              0.5555555555555556,
              "#d8576b"
             ],
             [
              0.6666666666666666,
              "#ed7953"
             ],
             [
              0.7777777777777778,
              "#fb9f3a"
             ],
             [
              0.8888888888888888,
              "#fdca26"
             ],
             [
              1,
              "#f0f921"
             ]
            ],
            "type": "contour"
           }
          ],
          "contourcarpet": [
           {
            "colorbar": {
             "outlinewidth": 0,
             "ticks": ""
            },
            "type": "contourcarpet"
           }
          ],
          "heatmap": [
           {
            "colorbar": {
             "outlinewidth": 0,
             "ticks": ""
            },
            "colorscale": [
             [
              0,
              "#0d0887"
             ],
             [
              0.1111111111111111,
              "#46039f"
             ],
             [
              0.2222222222222222,
              "#7201a8"
             ],
             [
              0.3333333333333333,
              "#9c179e"
             ],
             [
              0.4444444444444444,
              "#bd3786"
             ],
             [
              0.5555555555555556,
              "#d8576b"
             ],
             [
              0.6666666666666666,
              "#ed7953"
             ],
             [
              0.7777777777777778,
              "#fb9f3a"
             ],
             [
              0.8888888888888888,
              "#fdca26"
             ],
             [
              1,
              "#f0f921"
             ]
            ],
            "type": "heatmap"
           }
          ],
          "heatmapgl": [
           {
            "colorbar": {
             "outlinewidth": 0,
             "ticks": ""
            },
            "colorscale": [
             [
              0,
              "#0d0887"
             ],
             [
              0.1111111111111111,
              "#46039f"
             ],
             [
              0.2222222222222222,
              "#7201a8"
             ],
             [
              0.3333333333333333,
              "#9c179e"
             ],
             [
              0.4444444444444444,
              "#bd3786"
             ],
             [
              0.5555555555555556,
              "#d8576b"
             ],
             [
              0.6666666666666666,
              "#ed7953"
             ],
             [
              0.7777777777777778,
              "#fb9f3a"
             ],
             [
              0.8888888888888888,
              "#fdca26"
             ],
             [
              1,
              "#f0f921"
             ]
            ],
            "type": "heatmapgl"
           }
          ],
          "histogram": [
           {
            "marker": {
             "pattern": {
              "fillmode": "overlay",
              "size": 10,
              "solidity": 0.2
             }
            },
            "type": "histogram"
           }
          ],
          "histogram2d": [
           {
            "colorbar": {
             "outlinewidth": 0,
             "ticks": ""
            },
            "colorscale": [
             [
              0,
              "#0d0887"
             ],
             [
              0.1111111111111111,
              "#46039f"
             ],
             [
              0.2222222222222222,
              "#7201a8"
             ],
             [
              0.3333333333333333,
              "#9c179e"
             ],
             [
              0.4444444444444444,
              "#bd3786"
             ],
             [
              0.5555555555555556,
              "#d8576b"
             ],
             [
              0.6666666666666666,
              "#ed7953"
             ],
             [
              0.7777777777777778,
              "#fb9f3a"
             ],
             [
              0.8888888888888888,
              "#fdca26"
             ],
             [
              1,
              "#f0f921"
             ]
            ],
            "type": "histogram2d"
           }
          ],
          "histogram2dcontour": [
           {
            "colorbar": {
             "outlinewidth": 0,
             "ticks": ""
            },
            "colorscale": [
             [
              0,
              "#0d0887"
             ],
             [
              0.1111111111111111,
              "#46039f"
             ],
             [
              0.2222222222222222,
              "#7201a8"
             ],
             [
              0.3333333333333333,
              "#9c179e"
             ],
             [
              0.4444444444444444,
              "#bd3786"
             ],
             [
              0.5555555555555556,
              "#d8576b"
             ],
             [
              0.6666666666666666,
              "#ed7953"
             ],
             [
              0.7777777777777778,
              "#fb9f3a"
             ],
             [
              0.8888888888888888,
              "#fdca26"
             ],
             [
              1,
              "#f0f921"
             ]
            ],
            "type": "histogram2dcontour"
           }
          ],
          "mesh3d": [
           {
            "colorbar": {
             "outlinewidth": 0,
             "ticks": ""
            },
            "type": "mesh3d"
           }
          ],
          "parcoords": [
           {
            "line": {
             "colorbar": {
              "outlinewidth": 0,
              "ticks": ""
             }
            },
            "type": "parcoords"
           }
          ],
          "pie": [
           {
            "automargin": true,
            "type": "pie"
           }
          ],
          "scatter": [
           {
            "marker": {
             "colorbar": {
              "outlinewidth": 0,
              "ticks": ""
             }
            },
            "type": "scatter"
           }
          ],
          "scatter3d": [
           {
            "line": {
             "colorbar": {
              "outlinewidth": 0,
              "ticks": ""
             }
            },
            "marker": {
             "colorbar": {
              "outlinewidth": 0,
              "ticks": ""
             }
            },
            "type": "scatter3d"
           }
          ],
          "scattercarpet": [
           {
            "marker": {
             "colorbar": {
              "outlinewidth": 0,
              "ticks": ""
             }
            },
            "type": "scattercarpet"
           }
          ],
          "scattergeo": [
           {
            "marker": {
             "colorbar": {
              "outlinewidth": 0,
              "ticks": ""
             }
            },
            "type": "scattergeo"
           }
          ],
          "scattergl": [
           {
            "marker": {
             "colorbar": {
              "outlinewidth": 0,
              "ticks": ""
             }
            },
            "type": "scattergl"
           }
          ],
          "scattermapbox": [
           {
            "marker": {
             "colorbar": {
              "outlinewidth": 0,
              "ticks": ""
             }
            },
            "type": "scattermapbox"
           }
          ],
          "scatterpolar": [
           {
            "marker": {
             "colorbar": {
              "outlinewidth": 0,
              "ticks": ""
             }
            },
            "type": "scatterpolar"
           }
          ],
          "scatterpolargl": [
           {
            "marker": {
             "colorbar": {
              "outlinewidth": 0,
              "ticks": ""
             }
            },
            "type": "scatterpolargl"
           }
          ],
          "scatterternary": [
           {
            "marker": {
             "colorbar": {
              "outlinewidth": 0,
              "ticks": ""
             }
            },
            "type": "scatterternary"
           }
          ],
          "surface": [
           {
            "colorbar": {
             "outlinewidth": 0,
             "ticks": ""
            },
            "colorscale": [
             [
              0,
              "#0d0887"
             ],
             [
              0.1111111111111111,
              "#46039f"
             ],
             [
              0.2222222222222222,
              "#7201a8"
             ],
             [
              0.3333333333333333,
              "#9c179e"
             ],
             [
              0.4444444444444444,
              "#bd3786"
             ],
             [
              0.5555555555555556,
              "#d8576b"
             ],
             [
              0.6666666666666666,
              "#ed7953"
             ],
             [
              0.7777777777777778,
              "#fb9f3a"
             ],
             [
              0.8888888888888888,
              "#fdca26"
             ],
             [
              1,
              "#f0f921"
             ]
            ],
            "type": "surface"
           }
          ],
          "table": [
           {
            "cells": {
             "fill": {
              "color": "#EBF0F8"
             },
             "line": {
              "color": "white"
             }
            },
            "header": {
             "fill": {
              "color": "#C8D4E3"
             },
             "line": {
              "color": "white"
             }
            },
            "type": "table"
           }
          ]
         },
         "layout": {
          "annotationdefaults": {
           "arrowcolor": "#2a3f5f",
           "arrowhead": 0,
           "arrowwidth": 1
          },
          "autotypenumbers": "strict",
          "coloraxis": {
           "colorbar": {
            "outlinewidth": 0,
            "ticks": ""
           }
          },
          "colorscale": {
           "diverging": [
            [
             0,
             "#8e0152"
            ],
            [
             0.1,
             "#c51b7d"
            ],
            [
             0.2,
             "#de77ae"
            ],
            [
             0.3,
             "#f1b6da"
            ],
            [
             0.4,
             "#fde0ef"
            ],
            [
             0.5,
             "#f7f7f7"
            ],
            [
             0.6,
             "#e6f5d0"
            ],
            [
             0.7,
             "#b8e186"
            ],
            [
             0.8,
             "#7fbc41"
            ],
            [
             0.9,
             "#4d9221"
            ],
            [
             1,
             "#276419"
            ]
           ],
           "sequential": [
            [
             0,
             "#0d0887"
            ],
            [
             0.1111111111111111,
             "#46039f"
            ],
            [
             0.2222222222222222,
             "#7201a8"
            ],
            [
             0.3333333333333333,
             "#9c179e"
            ],
            [
             0.4444444444444444,
             "#bd3786"
            ],
            [
             0.5555555555555556,
             "#d8576b"
            ],
            [
             0.6666666666666666,
             "#ed7953"
            ],
            [
             0.7777777777777778,
             "#fb9f3a"
            ],
            [
             0.8888888888888888,
             "#fdca26"
            ],
            [
             1,
             "#f0f921"
            ]
           ],
           "sequentialminus": [
            [
             0,
             "#0d0887"
            ],
            [
             0.1111111111111111,
             "#46039f"
            ],
            [
             0.2222222222222222,
             "#7201a8"
            ],
            [
             0.3333333333333333,
             "#9c179e"
            ],
            [
             0.4444444444444444,
             "#bd3786"
            ],
            [
             0.5555555555555556,
             "#d8576b"
            ],
            [
             0.6666666666666666,
             "#ed7953"
            ],
            [
             0.7777777777777778,
             "#fb9f3a"
            ],
            [
             0.8888888888888888,
             "#fdca26"
            ],
            [
             1,
             "#f0f921"
            ]
           ]
          },
          "colorway": [
           "#636efa",
           "#EF553B",
           "#00cc96",
           "#ab63fa",
           "#FFA15A",
           "#19d3f3",
           "#FF6692",
           "#B6E880",
           "#FF97FF",
           "#FECB52"
          ],
          "font": {
           "color": "#2a3f5f"
          },
          "geo": {
           "bgcolor": "white",
           "lakecolor": "white",
           "landcolor": "#E5ECF6",
           "showlakes": true,
           "showland": true,
           "subunitcolor": "white"
          },
          "hoverlabel": {
           "align": "left"
          },
          "hovermode": "closest",
          "mapbox": {
           "style": "light"
          },
          "paper_bgcolor": "white",
          "plot_bgcolor": "#E5ECF6",
          "polar": {
           "angularaxis": {
            "gridcolor": "white",
            "linecolor": "white",
            "ticks": ""
           },
           "bgcolor": "#E5ECF6",
           "radialaxis": {
            "gridcolor": "white",
            "linecolor": "white",
            "ticks": ""
           }
          },
          "scene": {
           "xaxis": {
            "backgroundcolor": "#E5ECF6",
            "gridcolor": "white",
            "gridwidth": 2,
            "linecolor": "white",
            "showbackground": true,
            "ticks": "",
            "zerolinecolor": "white"
           },
           "yaxis": {
            "backgroundcolor": "#E5ECF6",
            "gridcolor": "white",
            "gridwidth": 2,
            "linecolor": "white",
            "showbackground": true,
            "ticks": "",
            "zerolinecolor": "white"
           },
           "zaxis": {
            "backgroundcolor": "#E5ECF6",
            "gridcolor": "white",
            "gridwidth": 2,
            "linecolor": "white",
            "showbackground": true,
            "ticks": "",
            "zerolinecolor": "white"
           }
          },
          "shapedefaults": {
           "line": {
            "color": "#2a3f5f"
           }
          },
          "ternary": {
           "aaxis": {
            "gridcolor": "white",
            "linecolor": "white",
            "ticks": ""
           },
           "baxis": {
            "gridcolor": "white",
            "linecolor": "white",
            "ticks": ""
           },
           "bgcolor": "#E5ECF6",
           "caxis": {
            "gridcolor": "white",
            "linecolor": "white",
            "ticks": ""
           }
          },
          "title": {
           "x": 0.05
          },
          "xaxis": {
           "automargin": true,
           "gridcolor": "white",
           "linecolor": "white",
           "ticks": "",
           "title": {
            "standoff": 15
           },
           "zerolinecolor": "white",
           "zerolinewidth": 2
          },
          "yaxis": {
           "automargin": true,
           "gridcolor": "white",
           "linecolor": "white",
           "ticks": "",
           "title": {
            "standoff": 15
           },
           "zerolinecolor": "white",
           "zerolinewidth": 2
          }
         }
        },
        "title": {
         "text": "Distribución Temporal de los Turistas en Alcoi"
        },
        "xaxis": {
         "anchor": "y",
         "autorange": true,
         "domain": [
          0,
          1
         ],
         "dtick": "M1",
         "range": [
          "2021-06-01",
          "2022-05-01"
         ],
         "tickangle": 45,
         "tickformat": "%b\n%Y",
         "title": {
          "text": "Mes/Año"
         },
         "type": "date"
        },
        "yaxis": {
         "anchor": "x",
         "autorange": true,
         "domain": [
          0,
          1
         ],
         "range": [
          -159.33333333333334,
          3367.3333333333335
         ],
         "title": {
          "text": "Cantidad de Turistas"
         },
         "type": "linear"
        }
       }
      },
      "image/png": "[encoded data removed]",
      "text/html": [
       "<div>                            <div id=\"8fb4e971-3030-4754-887a-a6a57945ecbc\" class=\"plotly-graph-div\" style=\"height:525px; width:100%;\"></div>            <script type=\"text/javascript\">                require([\"plotly\"], function(Plotly) {                    window.PLOTLYENV=window.PLOTLYENV || {};                                    if (document.getElementById(\"8fb4e971-3030-4754-887a-a6a57945ecbc\")) {                    Plotly.newPlot(                        \"8fb4e971-3030-4754-887a-a6a57945ecbc\",                        [{\"hovertemplate\":\"Medio de Obtenci\\u00f3n de los Datos=Hopus<br>Mes/A\\u00f1o=%{x}<br>Cantidad de Turistas=%{y}<extra></extra>\",\"legendgroup\":\"Hopus\",\"line\":{\"color\":\"#636efa\",\"dash\":\"solid\"},\"mode\":\"lines\",\"name\":\"Hopus\",\"orientation\":\"v\",\"showlegend\":true,\"type\":\"scatter\",\"x\":[\"2021-06\",\"2021-07\",\"2021-08\",\"2021-09\",\"2021-10\",\"2021-11\",\"2021-12\",\"2022-01\",\"2022-02\",\"2022-03\",\"2022-04\",\"2022-05\"],\"xaxis\":\"x\",\"y\":[205,696,638,1928,1361,111,1020,2710,3191,539,902,17],\"yaxis\":\"y\"},{\"hovertemplate\":\"Medio de Obtenci\\u00f3n de los Datos=Oficina de Turismo<br>Mes/A\\u00f1o=%{x}<br>Cantidad de Turistas=%{y}<extra></extra>\",\"legendgroup\":\"Oficina de Turismo\",\"line\":{\"color\":\"#EF553B\",\"dash\":\"solid\"},\"mode\":\"lines\",\"name\":\"Oficina de Turismo\",\"orientation\":\"v\",\"showlegend\":true,\"type\":\"scatter\",\"x\":[\"2021-06\",\"2021-07\",\"2021-08\",\"2021-09\",\"2021-10\",\"2021-11\",\"2021-12\",\"2022-01\",\"2022-02\"],\"xaxis\":\"x\",\"y\":[57,278,515,230,276,253,540,235,213],\"yaxis\":\"y\"}],                        {\"legend\":{\"title\":{\"text\":\"Medio de Obtenci\\u00f3n de los Datos\"},\"tracegroupgap\":0},\"template\":{\"data\":{\"bar\":[{\"error_x\":{\"color\":\"#2a3f5f\"},\"error_y\":{\"color\":\"#2a3f5f\"},\"marker\":{\"line\":{\"color\":\"#E5ECF6\",\"width\":0.5},\"pattern\":{\"fillmode\":\"overlay\",\"size\":10,\"solidity\":0.2}},\"type\":\"bar\"}],\"barpolar\":[{\"marker\":{\"line\":{\"color\":\"#E5ECF6\",\"width\":0.5},\"pattern\":{\"fillmode\":\"overlay\",\"size\":10,\"solidity\":0.2}},\"type\":\"barpolar\"}],\"carpet\":[{\"aaxis\":{\"endlinecolor\":\"#2a3f5f\",\"gridcolor\":\"white\",\"linecolor\":\"white\",\"minorgridcolor\":\"white\",\"startlinecolor\":\"#2a3f5f\"},\"baxis\":{\"endlinecolor\":\"#2a3f5f\",\"gridcolor\":\"white\",\"linecolor\":\"white\",\"minorgridcolor\":\"white\",\"startlinecolor\":\"#2a3f5f\"},\"type\":\"carpet\"}],\"choropleth\":[{\"colorbar\":{\"outlinewidth\":0,\"ticks\":\"\"},\"type\":\"choropleth\"}],\"contour\":[{\"colorbar\":{\"outlinewidth\":0,\"ticks\":\"\"},\"colorscale\":[[0.0,\"#0d0887\"],[0.1111111111111111,\"#46039f\"],[0.2222222222222222,\"#7201a8\"],[0.3333333333333333,\"#9c179e\"],[0.4444444444444444,\"#bd3786\"],[0.5555555555555556,\"#d8576b\"],[0.6666666666666666,\"#ed7953\"],[0.7777777777777778,\"#fb9f3a\"],[0.8888888888888888,\"#fdca26\"],[1.0,\"#f0f921\"]],\"type\":\"contour\"}],\"contourcarpet\":[{\"colorbar\":{\"outlinewidth\":0,\"ticks\":\"\"},\"type\":\"contourcarpet\"}],\"heatmap\":[{\"colorbar\":{\"outlinewidth\":0,\"ticks\":\"\"},\"colorscale\":[[0.0,\"#0d0887\"],[0.1111111111111111,\"#46039f\"],[0.2222222222222222,\"#7201a8\"],[0.3333333333333333,\"#9c179e\"],[0.4444444444444444,\"#bd3786\"],[0.5555555555555556,\"#d8576b\"],[0.6666666666666666,\"#ed7953\"],[0.7777777777777778,\"#fb9f3a\"],[0.8888888888888888,\"#fdca26\"],[1.0,\"#f0f921\"]],\"type\":\"heatmap\"}],\"heatmapgl\":[{\"colorbar\":{\"outlinewidth\":0,\"ticks\":\"\"},\"colorscale\":[[0.0,\"#0d0887\"],[0.1111111111111111,\"#46039f\"],[0.2222222222222222,\"#7201a8\"],[0.3333333333333333,\"#9c179e\"],[0.4444444444444444,\"#bd3786\"],[0.5555555555555556,\"#d8576b\"],[0.6666666666666666,\"#ed7953\"],[0.7777777777777778,\"#fb9f3a\"],[0.8888888888888888,\"#fdca26\"],[1.0,\"#f0f921\"]],\"type\":\"heatmapgl\"}],\"histogram\":[{\"marker\":{\"pattern\":{\"fillmode\":\"overlay\",\"size\":10,\"solidity\":0.2}},\"type\":\"histogram\"}],\"histogram2d\":[{\"colorbar\":{\"outlinewidth\":0,\"ticks\":\"\"},\"colorscale\":[[0.0,\"#0d0887\"],[0.1111111111111111,\"#46039f\"],[0.2222222222222222,\"#7201a8\"],[0.3333333333333333,\"#9c179e\"],[0.4444444444444444,\"#bd3786\"],[0.5555555555555556,\"#d8576b\"],[0.6666666666666666,\"#ed7953\"],[0.7777777777777778,\"#fb9f3a\"],[0.8888888888888888,\"#fdca26\"],[1.0,\"#f0f921\"]],\"type\":\"histogram2d\"}],\"histogram2dcontour\":[{\"colorbar\":{\"outlinewidth\":0,\"ticks\":\"\"},\"colorscale\":[[0.0,\"#0d0887\"],[0.1111111111111111,\"#46039f\"],[0.2222222222222222,\"#7201a8\"],[0.3333333333333333,\"#9c179e\"],[0.4444444444444444,\"#bd3786\"],[0.5555555555555556,\"#d8576b\"],[0.6666666666666666,\"#ed7953\"],[0.7777777777777778,\"#fb9f3a\"],[0.8888888888888888,\"#fdca26\"],[1.0,\"#f0f921\"]],\"type\":\"histogram2dcontour\"}],\"mesh3d\":[{\"colorbar\":{\"outlinewidth\":0,\"ticks\":\"\"},\"type\":\"mesh3d\"}],\"parcoords\":[{\"line\":{\"colorbar\":{\"outlinewidth\":0,\"ticks\":\"\"}},\"type\":\"parcoords\"}],\"pie\":[{\"automargin\":true,\"type\":\"pie\"}],\"scatter\":[{\"marker\":{\"colorbar\":{\"outlinewidth\":0,\"ticks\":\"\"}},\"type\":\"scatter\"}],\"scatter3d\":[{\"line\":{\"colorbar\":{\"outlinewidth\":0,\"ticks\":\"\"}},\"marker\":{\"colorbar\":{\"outlinewidth\":0,\"ticks\":\"\"}},\"type\":\"scatter3d\"}],\"scattercarpet\":[{\"marker\":{\"colorbar\":{\"outlinewidth\":0,\"ticks\":\"\"}},\"type\":\"scattercarpet\"}],\"scattergeo\":[{\"marker\":{\"colorbar\":{\"outlinewidth\":0,\"ticks\":\"\"}},\"type\":\"scattergeo\"}],\"scattergl\":[{\"marker\":{\"colorbar\":{\"outlinewidth\":0,\"ticks\":\"\"}},\"type\":\"scattergl\"}],\"scattermapbox\":[{\"marker\":{\"colorbar\":{\"outlinewidth\":0,\"ticks\":\"\"}},\"type\":\"scattermapbox\"}],\"scatterpolar\":[{\"marker\":{\"colorbar\":{\"outlinewidth\":0,\"ticks\":\"\"}},\"type\":\"scatterpolar\"}],\"scatterpolargl\":[{\"marker\":{\"colorbar\":{\"outlinewidth\":0,\"ticks\":\"\"}},\"type\":\"scatterpolargl\"}],\"scatterternary\":[{\"marker\":{\"colorbar\":{\"outlinewidth\":0,\"ticks\":\"\"}},\"type\":\"scatterternary\"}],\"surface\":[{\"colorbar\":{\"outlinewidth\":0,\"ticks\":\"\"},\"colorscale\":[[0.0,\"#0d0887\"],[0.1111111111111111,\"#46039f\"],[0.2222222222222222,\"#7201a8\"],[0.3333333333333333,\"#9c179e\"],[0.4444444444444444,\"#bd3786\"],[0.5555555555555556,\"#d8576b\"],[0.6666666666666666,\"#ed7953\"],[0.7777777777777778,\"#fb9f3a\"],[0.8888888888888888,\"#fdca26\"],[1.0,\"#f0f921\"]],\"type\":\"surface\"}],\"table\":[{\"cells\":{\"fill\":{\"color\":\"#EBF0F8\"},\"line\":{\"color\":\"white\"}},\"header\":{\"fill\":{\"color\":\"#C8D4E3\"},\"line\":{\"color\":\"white\"}},\"type\":\"table\"}]},\"layout\":{\"annotationdefaults\":{\"arrowcolor\":\"#2a3f5f\",\"arrowhead\":0,\"arrowwidth\":1},\"autotypenumbers\":\"strict\",\"coloraxis\":{\"colorbar\":{\"outlinewidth\":0,\"ticks\":\"\"}},\"colorscale\":{\"diverging\":[[0,\"#8e0152\"],[0.1,\"#c51b7d\"],[0.2,\"#de77ae\"],[0.3,\"#f1b6da\"],[0.4,\"#fde0ef\"],[0.5,\"#f7f7f7\"],[0.6,\"#e6f5d0\"],[0.7,\"#b8e186\"],[0.8,\"#7fbc41\"],[0.9,\"#4d9221\"],[1,\"#276419\"]],\"sequential\":[[0.0,\"#0d0887\"],[0.1111111111111111,\"#46039f\"],[0.2222222222222222,\"#7201a8\"],[0.3333333333333333,\"#9c179e\"],[0.4444444444444444,\"#bd3786\"],[0.5555555555555556,\"#d8576b\"],[0.6666666666666666,\"#ed7953\"],[0.7777777777777778,\"#fb9f3a\"],[0.8888888888888888,\"#fdca26\"],[1.0,\"#f0f921\"]],\"sequentialminus\":[[0.0,\"#0d0887\"],[0.1111111111111111,\"#46039f\"],[0.2222222222222222,\"#7201a8\"],[0.3333333333333333,\"#9c179e\"],[0.4444444444444444,\"#bd3786\"],[0.5555555555555556,\"#d8576b\"],[0.6666666666666666,\"#ed7953\"],[0.7777777777777778,\"#fb9f3a\"],[0.8888888888888888,\"#fdca26\"],[1.0,\"#f0f921\"]]},\"colorway\":[\"#636efa\",\"#EF553B\",\"#00cc96\",\"#ab63fa\",\"#FFA15A\",\"#19d3f3\",\"#FF6692\",\"#B6E880\",\"#FF97FF\",\"#FECB52\"],\"font\":{\"color\":\"#2a3f5f\"},\"geo\":{\"bgcolor\":\"white\",\"lakecolor\":\"white\",\"landcolor\":\"#E5ECF6\",\"showlakes\":true,\"showland\":true,\"subunitcolor\":\"white\"},\"hoverlabel\":{\"align\":\"left\"},\"hovermode\":\"closest\",\"mapbox\":{\"style\":\"light\"},\"paper_bgcolor\":\"white\",\"plot_bgcolor\":\"#E5ECF6\",\"polar\":{\"angularaxis\":{\"gridcolor\":\"white\",\"linecolor\":\"white\",\"ticks\":\"\"},\"bgcolor\":\"#E5ECF6\",\"radialaxis\":{\"gridcolor\":\"white\",\"linecolor\":\"white\",\"ticks\":\"\"}},\"scene\":{\"xaxis\":{\"backgroundcolor\":\"#E5ECF6\",\"gridcolor\":\"white\",\"gridwidth\":2,\"linecolor\":\"white\",\"showbackground\":true,\"ticks\":\"\",\"zerolinecolor\":\"white\"},\"yaxis\":{\"backgroundcolor\":\"#E5ECF6\",\"gridcolor\":\"white\",\"gridwidth\":2,\"linecolor\":\"white\",\"showbackground\":true,\"ticks\":\"\",\"zerolinecolor\":\"white\"},\"zaxis\":{\"backgroundcolor\":\"#E5ECF6\",\"gridcolor\":\"white\",\"gridwidth\":2,\"linecolor\":\"white\",\"showbackground\":true,\"ticks\":\"\",\"zerolinecolor\":\"white\"}},\"shapedefaults\":{\"line\":{\"color\":\"#2a3f5f\"}},\"ternary\":{\"aaxis\":{\"gridcolor\":\"white\",\"linecolor\":\"white\",\"ticks\":\"\"},\"baxis\":{\"gridcolor\":\"white\",\"linecolor\":\"white\",\"ticks\":\"\"},\"bgcolor\":\"#E5ECF6\",\"caxis\":{\"gridcolor\":\"white\",\"linecolor\":\"white\",\"ticks\":\"\"}},\"title\":{\"x\":0.05},\"xaxis\":{\"automargin\":true,\"gridcolor\":\"white\",\"linecolor\":\"white\",\"ticks\":\"\",\"title\":{\"standoff\":15},\"zerolinecolor\":\"white\",\"zerolinewidth\":2},\"yaxis\":{\"automargin\":true,\"gridcolor\":\"white\",\"linecolor\":\"white\",\"ticks\":\"\",\"title\":{\"standoff\":15},\"zerolinecolor\":\"white\",\"zerolinewidth\":2}}},\"title\":{\"text\":\"Distribuci\\u00f3n Temporal de los Turistas en Alcoi\"},\"xaxis\":{\"anchor\":\"y\",\"domain\":[0.0,1.0],\"dtick\":\"M1\",\"tickangle\":45,\"tickformat\":\"%b\\n%Y\",\"title\":{\"text\":\"Mes/A\\u00f1o\"}},\"yaxis\":{\"anchor\":\"x\",\"domain\":[0.0,1.0],\"title\":{\"text\":\"Cantidad de Turistas\"}}},                        {\"responsive\": true}                    ).then(function(){\n",
       "                            \n",
       "var gd = document.getElementById('8fb4e971-3030-4754-887a-a6a57945ecbc');\n",
       "var x = new MutationObserver(function (mutations, observer) {{\n",
       "        var display = window.getComputedStyle(gd).display;\n",
       "        if (!display || display === 'none') {{\n",
       "            console.log([gd, 'removed!']);\n",
       "            Plotly.purge(gd);\n",
       "            observer.disconnect();\n",
       "        }}\n",
       "}});\n",
       "\n",
       "// Listen for the removal of the full notebook cells\n",
       "var notebookContainer = gd.closest('#notebook-container');\n",
       "if (notebookContainer) {{\n",
       "    x.observe(notebookContainer, {childList: true});\n",
       "}}\n",
       "\n",
       "// Listen for the clearing of the current output cell\n",
       "var outputEl = gd.closest('.output');\n",
       "if (outputEl) {{\n",
       "    x.observe(outputEl, {childList: true});\n",
       "}}\n",
       "\n",
       "                        })                };                });            </script>        </div>"
      ]
     },
     "metadata": {},
     "output_type": "display_data"
    }
   ],
   "source": [
    "fig = px.line(result, x='date', y='count', color='tourist_info', \n",
    "                labels={\n",
    "                 \"count\": \"Cantidad de Turistas\",\n",
    "                 \"date\": \"Mes/Año\",\n",
    "                 \"tourist_info\": \"Medio de Obtención de los Datos\"\n",
    "                },\n",
    "              title='Distribución Temporal de los Turistas en Alcoi')\n",
    "fig.update_xaxes(tickangle=45, \n",
    "                dtick=\"M1\",\n",
    "                tickformat=\"%b\\n%Y\")\n",
    "fig.show()"
   ]
  },
  {
   "cell_type": "code",
   "execution_count": null,
   "id": "b2940ece-1a48-48b3-a930-87957f409835",
   "metadata": {},
   "outputs": [],
   "source": []
  },
  {
   "cell_type": "markdown",
   "id": "8bec346b-6db4-4a09-ad0c-ca2add30ec25",
   "metadata": {},
   "source": [
    "# Referencias"
   ]
  },
  {
   "cell_type": "markdown",
   "id": "7efbf993-2557-437a-b139-d7a122b1a69e",
   "metadata": {},
   "source": [
    "[CÓMO MEDIR LA POBLACIÓN TURÍSTICA REAL: ALCOY TOURIST LAB](https://www.turismecv.com/2021/11/30/como-medir-la-poblacion-turistica-real-alcoy-tourist-lab/)"
   ]
  }
 ],
 "metadata": {
  "kernelspec": {
   "display_name": "Python 3 (ipykernel)",
   "language": "python",
   "name": "python3"
  },
  "language_info": {
   "codemirror_mode": {
    "name": "ipython",
    "version": 3
   },
   "file_extension": ".py",
   "mimetype": "text/x-python",
   "name": "python",
   "nbconvert_exporter": "python",
   "pygments_lexer": "ipython3",
   "version": "3.8.8"
  },
  "toc-autonumbering": true
 },
 "nbformat": 4,
 "nbformat_minor": 5
}
